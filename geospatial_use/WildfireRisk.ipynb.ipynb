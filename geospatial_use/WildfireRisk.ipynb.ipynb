{
 "cells": [
  {
   "cell_type": "markdown",
   "metadata": {
    "pycharm": {
     "name": "#%% md\n"
    }
   },
   "source": [
    "# Cloudbutton geospatial use case: 3D fuel mapping for wildfire risk assessment\n"
   ]
  },
  {
   "cell_type": "code",
   "execution_count": 392,
   "metadata": {
    "pycharm": {
     "name": "#%%\n"
    }
   },
   "outputs": [],
   "source": [
    "import datetime\n",
    "# from sklearn.naive_bayes import GaussianNB\n",
    "# from sklearn import model_selection\n",
    "# from sklearn.linear_model import LogisticRegression\n",
    "# from sklearn.preprocessing import scale, StandardScaler\n",
    "# from sklearn.metrics import silhouette_score\n",
    "# from sklearn.cluster import KMeans\n",
    "# from shapely.geometry import mapping\n",
    "from IPython.display import Image\n",
    "# from IPython.core.display import HTML\n",
    "# from shapely.geometry import mapping\n",
    "# import rasterio as rio\n",
    "# from sklearn.pipeline import Pipeline\n",
    "# from rasterio.mask import mask\n",
    "# from rasterio.plot import show\n",
    "# from rasterio.merge import merge\n",
    "# from rasterio.plot import show\n",
    "# from rasterio.plot import show_hist\n",
    "# from rasterio.windows import Window\n",
    "# from rasterio.plot import reshape_as_raster\n",
    "# from rasterio.plot import reshape_as_image\n",
    "from lithops.storage import Storage\n",
    "import matplotlib.pyplot as plt\n",
    "# import geopandas as gpd\n",
    "import pandas as pd\n",
    "import numpy as np\n",
    "import lithops\n",
    "import pathlib\n",
    "# import shapely\n",
    "import shutil\n",
    "# import pickle\n",
    "import subprocess\n",
    "# import concurrent.futures\n",
    "# import joblib\n",
    "# import gdal\n",
    "# import earthpy as ep\n",
    "# import earthpy.spatial as es\n",
    "# import time\n",
    "# import glob\n",
    "# import ogr\n",
    "import os\n",
    "# import io\n",
    "# import pdal\n",
    "# import xarray as xr\n",
    "import json\n",
    "# from matplotlib.colors import ListedColormap, BoundaryNorm"
   ]
  },
  {
   "cell_type": "code",
   "execution_count": 393,
   "outputs": [],
   "source": [
    "DIR_TO_EXECT = \"\" # \"20Gb/10Gb/2Gb/1Gb/512Mb/256Mb/128Mb\" # 20Gb/10Gb/2Gb/1Gb/512Mb/256Mb/128Mb\n",
    "DATA_BUCKET = 'objects-geospatial-wildfirerisk-0'\n",
    "INPUT_DATA_PREFIX = f'data-example/{DIR_TO_EXECT}' # Modified"
   ],
   "metadata": {
    "collapsed": false,
    "pycharm": {
     "name": "#%%\n"
    }
   }
  },
  {
   "cell_type": "code",
   "execution_count": 394,
   "outputs": [],
   "source": [
    "# !export LITHOPS_CONFIG_FILE = \"/home/aitor/Projects/lithops-github/lithops/.lithops_config\"\n",
    "# os.environ['LITHOPS_CONFIG_FILE'] = '/home/aitor/Projects/lithops-github/lithops/.lithops_config'"
   ],
   "metadata": {
    "collapsed": false,
    "pycharm": {
     "name": "#%%\n"
    }
   }
  },
  {
   "cell_type": "markdown",
   "source": [
    "Experiment parameters\n"
   ],
   "metadata": {
    "collapsed": false,
    "pycharm": {
     "name": "#%% md\n"
    }
   }
  },
  {
   "cell_type": "code",
   "execution_count": 395,
   "outputs": [],
   "source": [
    "FCC_WINDOW = 3\n",
    "FCC_BREAKPOINT = 0.01"
   ],
   "metadata": {
    "collapsed": false,
    "pycharm": {
     "name": "#%%\n"
    }
   }
  },
  {
   "cell_type": "markdown",
   "source": [
    "---\n",
    "Upload dataset\n",
    "---\n"
   ],
   "metadata": {
    "collapsed": false,
    "pycharm": {
     "name": "#%% md\n"
    }
   }
  },
  {
   "cell_type": "code",
   "execution_count": 396,
   "outputs": [],
   "source": [
    "LOCAL_INPUT_DIR = f'./data/{DIR_TO_EXECT}'"
   ],
   "metadata": {
    "collapsed": false,
    "pycharm": {
     "name": "#%%\n"
    }
   }
  },
  {
   "cell_type": "code",
   "execution_count": 397,
   "outputs": [
    {
     "name": "stderr",
     "output_type": "stream",
     "text": [
      "2022-05-25 01:37:32,060 [DEBUG] lithops.config -- Loading configuration from C:\\Users\\saral\\.lithops\\config\n",
      "2022-05-25 01:37:32,076 [DEBUG] lithops.config -- Loading Storage backend module: ibm_cos\n",
      "2022-05-25 01:37:32,076 [DEBUG] lithops.storage.backends.ibm_cos.ibm_cos -- Creating IBM COS client\n",
      "2022-05-25 01:37:32,076 [DEBUG] lithops.storage.backends.ibm_cos.ibm_cos -- Set IBM COS Endpoint to https://s3.eu-de.cloud-object-storage.appdomain.cloud\n",
      "2022-05-25 01:37:32,076 [DEBUG] lithops.storage.backends.ibm_cos.ibm_cos -- Using access_key and secret_key\n",
      "2022-05-25 01:37:32,092 [INFO] lithops.storage.backends.ibm_cos.ibm_cos -- IBM COS client created - Region: eu-de\n"
     ]
    }
   ],
   "source": [
    "storage = Storage()"
   ],
   "metadata": {
    "collapsed": false,
    "pycharm": {
     "name": "#%%\n"
    }
   }
  },
  {
   "cell_type": "code",
   "execution_count": 398,
   "outputs": [
    {
     "name": "stdout",
     "output_type": "stream",
     "text": [
      "It is already uploaded: data-example/PNOA_2017_CLM-CAS_242-4422_ORT-CLA-RGB.laz...\n",
      "It is already uploaded: data-example/PNOA_2017_CLM-CAS_274-4464_ORT-CLA-RGB.laz...\n",
      "It is already uploaded: data-example/PNOA_2017_CLM-CAS_278-4470_ORT-CLA-RGB.laz...\n",
      "It is already uploaded: data-example/PNOA_2017_CLM-CAS_650-4434_ORT-CLA-RGB.laz...\n",
      "It is already uploaded: data-example/PNOA_2017_CLM-CAS_742-4404_ORT-CLA-RGB.laz...\n",
      "It is already uploaded: data-example/PNOA_2017_CLM-CAS_748-4414_ORT-CLA-RGB.laz...\n"
     ]
    },
    {
     "data": {
      "text/plain": "\"\\nfor file_name in os.listdir(LOCAL_INPUT_DIR):\\n    if file_name not in bucket_objects:\\n        key = os.path.join(INPUT_DATA_PREFIX, file_name)\\n        with open(os.path.join(LOCAL_INPUT_DIR, file_name), 'rb') as file:\\n            print(f'Uploading {key}...')\\n            data = file.read()\\n            storage.put_object(bucket=DATA_BUCKET, key=key, body=data)\\n            print('Ok!')\\n# storage.put_object()\\n\""
     },
     "execution_count": 398,
     "metadata": {},
     "output_type": "execute_result"
    }
   ],
   "source": [
    "bucket_objects = storage.list_keys(bucket=DATA_BUCKET)\n",
    "for file_name in os.listdir(LOCAL_INPUT_DIR):\n",
    "    key = os.path.join(INPUT_DATA_PREFIX, file_name)    # Added\n",
    "    if key not in bucket_objects:   # Changed: if file_name not in bucket_objects:\n",
    "        with open(os.path.join(LOCAL_INPUT_DIR, file_name), 'rb') as file:\n",
    "            print(f'Uploading {key}...')\n",
    "            data = file.read()\n",
    "            storage.put_object(bucket=DATA_BUCKET, key=key, body=data)\n",
    "            print('Ok!')\n",
    "    else:   # Added\n",
    "        print(f'It is already uploaded: {key}...')   # Added\n",
    "'''\n",
    "for file_name in os.listdir(LOCAL_INPUT_DIR):\n",
    "    if file_name not in bucket_objects:\n",
    "        key = os.path.join(INPUT_DATA_PREFIX, file_name)\n",
    "        with open(os.path.join(LOCAL_INPUT_DIR, file_name), 'rb') as file:\n",
    "            print(f'Uploading {key}...')\n",
    "            data = file.read()\n",
    "            storage.put_object(bucket=DATA_BUCKET, key=key, body=data)\n",
    "            print('Ok!')\n",
    "# storage.put_object()\n",
    "'''"
   ],
   "metadata": {
    "collapsed": false,
    "pycharm": {
     "name": "#%%\n"
    }
   }
  },
  {
   "cell_type": "markdown",
   "source": [
    "---\n",
    "Calculte DEM, DSM and CHM\n",
    "---\n"
   ],
   "metadata": {
    "collapsed": false,
    "pycharm": {
     "name": "#%% md\n"
    }
   }
  },
  {
   "cell_type": "code",
   "execution_count": 399,
   "outputs": [],
   "source": [
    "def calculate_models(obj, storage):\n",
    "    import pdal\n",
    "    from osgeo import gdal\n",
    "    from scipy import ndimage\n",
    "\n",
    "    # Create temporary file paths\n",
    "    tmp_path_prefix = '/tmp/geo/'\n",
    "    if os.path.exists(tmp_path_prefix):\n",
    "        shutil.rmtree(tmp_path_prefix)\n",
    "    for subpath in ['dsm', 'dem', 'chm', 'aspect', 'slope', 'fcc']:\n",
    "        os.makedirs(os.path.join(tmp_path_prefix, subpath), exist_ok=True)\n",
    "\n",
    "    las_tile_filename = pathlib.Path(obj.key).name\n",
    "    tile_key = pathlib.Path(obj.key).stem\n",
    "\n",
    "    # Save obj to file\n",
    "    data = obj.data_stream.read()\n",
    "    input_file_path = os.path.join(tmp_path_prefix, las_tile_filename)\n",
    "    with open(input_file_path, 'wb') as file:\n",
    "        file.write(data)\n",
    "\n",
    "    # DSM pipeline\n",
    "    dsm_file_path = os.path.join(tmp_path_prefix, 'dsm', tile_key + '.gtiff')\n",
    "    dsm_pipeline_json = {\n",
    "        \"pipeline\": [\n",
    "            {\n",
    "                \"type\": \"readers.las\",\n",
    "                \"filename\": f\"{input_file_path}\",\n",
    "                \"spatialreference\": \"EPSG:25830\"\n",
    "            },\n",
    "            {\n",
    "                \"type\": \"filters.reprojection\",\n",
    "                \"in_srs\": \"EPSG:25830\",\n",
    "                \"out_srs\": \"EPSG:25830\"\n",
    "            },\n",
    "            {\n",
    "                \"type\": \"filters.outlier\",\n",
    "                \"method\": \"radius\",\n",
    "                \"radius\": 1.0,\n",
    "                \"min_k\": 4\n",
    "            },\n",
    "            {\n",
    "                \"type\": \"filters.range\",\n",
    "                # Classification equals 2 (corresponding to noise points in LAS).\n",
    "                \"limits\": \"Classification![7:7]\"\n",
    "            },\n",
    "            {\n",
    "                \"type\": \"filters.range\",\n",
    "                \"limits\": \"returnnumber[1:1]\"\n",
    "            },\n",
    "            {\n",
    "                \"type\": \"writers.gdal\",\n",
    "                \"gdaldriver\": \"GTiff\",\n",
    "                \"nodata\": \"-9999\",\n",
    "                \"output_type\": \"max\",\n",
    "                \"resolution\": 1,\n",
    "                \"filename\": f\"{dsm_file_path}\"\n",
    "            }\n",
    "        ]\n",
    "    }\n",
    "    dsm_pipeline_json_str = json.dumps(dsm_pipeline_json, indent=4)\n",
    "    pipeline = pdal.Pipeline(dsm_pipeline_json_str)\n",
    "    pipeline.validate()\n",
    "    pipeline.loglevel = 8\n",
    "    print('Executing DSM pipeline...')\n",
    "    result = pipeline.execute()\n",
    "    print(result)\n",
    "\n",
    "    # DEM pipeline\n",
    "    dem_file_path = os.path.join(tmp_path_prefix, 'dem', tile_key + '.gtiff')\n",
    "    dem_pipeline_json = {\n",
    "        \"pipeline\": [\n",
    "            {\n",
    "                \"type\": \"readers.las\",\n",
    "                \"filename\": f\"{input_file_path}\",\n",
    "                \"spatialreference\": \"EPSG:25830\"\n",
    "            },\n",
    "            {\n",
    "                \"type\": \"filters.reprojection\",\n",
    "                \"in_srs\": \"EPSG:25830\",\n",
    "                \"out_srs\": \"EPSG:25830\"\n",
    "            },\n",
    "            {\n",
    "                \"type\": \"filters.assign\",\n",
    "                \"assignment\": \"Classification[:]=0\"\n",
    "            },\n",
    "            {\n",
    "                \"type\": \"filters.elm\"\n",
    "            },\n",
    "            {\n",
    "                \"type\": \"filters.outlier\",\n",
    "                \"method\": \"radius\",\n",
    "                \"radius\": 1.0,\n",
    "                \"min_k\": 4\n",
    "            },\n",
    "            {\n",
    "\n",
    "                \"type\": \"filters.smrf\",\n",
    "                \"ignore\": \"Classification[7:7]\",\n",
    "                \"slope\": 0.2,\n",
    "                \"window\": 16,\n",
    "                \"threshold\": 0.45,\n",
    "                \"scalar\": 1.2\n",
    "            },\n",
    "            {\n",
    "                \"type\": \"filters.range\",\n",
    "                # Classification equals 2 (corresponding to ground in LAS).\n",
    "                \"limits\": \"Classification[2:2]\",\n",
    "            },\n",
    "            {\n",
    "                \"type\": \"writers.gdal\",\n",
    "                \"gdaldriver\": \"GTiff\",\n",
    "                \"nodata\": \"-9999\",\n",
    "                \"output_type\": \"max\",\n",
    "                \"resolution\": 1,\n",
    "                \"filename\": f\"{dem_file_path}\"\n",
    "            }\n",
    "        ]\n",
    "    }\n",
    "    dem_pipeline_json_str = json.dumps(dem_pipeline_json, indent=4)\n",
    "    pipeline = pdal.Pipeline(dem_pipeline_json_str)\n",
    "    pipeline.validate()  # Check if json options are good\n",
    "    pipeline.loglevel = 8\n",
    "    print('Executing DEM pipeline...')\n",
    "    result = pipeline.execute()\n",
    "    print(result)\n",
    "\n",
    "    # calculate CHM\n",
    "    chm_file_path = os.path.join(tmp_path_prefix, 'chm', tile_key + '.tiff')\n",
    "    cmd = ['gdal_calc.py', '-A', dem_file_path, '-B', dsm_file_path,\n",
    "           '--calc=\"B-A\"', '--NoDataValue=0', '--outfile', chm_file_path]\n",
    "    p = subprocess.Popen(cmd, stdout=subprocess.PIPE, stderr=subprocess.PIPE, close_fds=True)\n",
    "    stdout, stderr = p.communicate()\n",
    "    print(stdout, stderr)\n",
    "    # assert p.returncode == 0\n",
    "\n",
    "    # calculate aspect\n",
    "    aspect_file_path = os.path.join(tmp_path_prefix, 'aspect', tile_key + '.tiff')\n",
    "    cmd = ['gdaldem', 'aspect', dem_file_path, aspect_file_path, '-compute_edges']\n",
    "    p = subprocess.Popen(cmd, stdout=subprocess.PIPE, stderr=subprocess.PIPE, close_fds=True)\n",
    "    stdout, stderr = p.communicate()\n",
    "    print(stdout, stderr)\n",
    "    # assert p.returncode == 0\n",
    "\n",
    "    # calculate slope\n",
    "    slope_file_path = os.path.join(tmp_path_prefix, 'slope', tile_key + '.tiff')\n",
    "    cmd = ['gdaldem', 'slope', dem_file_path, slope_file_path, '-compute_edges']\n",
    "    p = subprocess.Popen(cmd, stdout=subprocess.PIPE, stderr=subprocess.PIPE, close_fds=True)\n",
    "    stdout, stderr = p.communicate()\n",
    "    print(stdout, stderr)\n",
    "    # assert p.returncode == 0\n",
    "\n",
    "    # calculate FCC\n",
    "    in_ds = gdal.Open(dem_file_path)\n",
    "    rows = in_ds.RasterYSize\n",
    "    cols = in_ds.RasterXSize\n",
    "    in_band = in_ds.GetRasterBand(1)\n",
    "    data = in_band.ReadAsArray(0, 0, cols, rows).astype(np.float)\n",
    "    data[data > FCC_BREAKPOINT] = 1\n",
    "    data[data <= FCC_BREAKPOINT] = 0\n",
    "\n",
    "    # Computing fraction on the whole raster through a moving window.\n",
    "    def _compute_fraction(array):\n",
    "        nveg = np.sum(array == 1)\n",
    "        total = len(array)\n",
    "        out = (nveg/total)*100\n",
    "        return(out)\n",
    "\n",
    "    TCC = ndimage.generic_filter(data, _compute_fraction, size=FCC_WINDOW)\n",
    "\n",
    "    gtiff_driver = gdal.GetDriverByName(\"GTiff\")\n",
    "    fcc_file_path = os.path.join(tmp_path_prefix, 'fcc', tile_key + '.tiff')\n",
    "    out_ds = gtiff_driver.Create(fcc_file_path, cols, rows, 1, in_band.DataType)\n",
    "    out_ds.SetProjection(in_ds.GetProjection())\n",
    "    out_ds.SetGeoTransform(in_ds.GetGeoTransform())\n",
    "\n",
    "    out_band = out_ds.GetRasterBand(1)\n",
    "    out_band.WriteArray(TCC)\n",
    "    # out_ds.BuildOverviews(\"Average\", [2, 4, 8, 16, 32])\n",
    "    out_ds.FlushCache()\n",
    "    del in_ds, out_ds\n",
    "\n",
    "    outputs = [dsm_file_path, dem_file_path, chm_file_path,\n",
    "               aspect_file_path, slope_file_path, fcc_file_path]\n",
    "    for output_path in outputs:\n",
    "        if os.path.exists(output_path):\n",
    "            with open(output_path, 'rb') as output_file:\n",
    "                data = output_file.read()\n",
    "                cos_key = output_path.replace(tmp_path_prefix, '')\n",
    "                storage.put_object(bucket=DATA_BUCKET, key=cos_key, body=data)\n",
    "        else:\n",
    "            print(f'Failed to upload {output_path}')\n",
    "\n",
    "    out = subprocess.check_output(['find', '/tmp/geo/'])\n",
    "    return out"
   ],
   "metadata": {
    "collapsed": false,
    "pycharm": {
     "name": "#%%\n"
    }
   }
  },
  {
   "cell_type": "code",
   "execution_count": 400,
   "outputs": [
    {
     "name": "stderr",
     "output_type": "stream",
     "text": [
      "2022-05-25 01:37:32,561 [INFO] lithops.config -- Lithops v2.6.0\n",
      "2022-05-25 01:37:32,561 [DEBUG] lithops.config -- Loading configuration from C:\\Users\\saral\\.lithops\\config\n",
      "2022-05-25 01:37:32,561 [DEBUG] lithops.config -- Loading Serverless backend module: ibm_cf\n",
      "2022-05-25 01:37:32,561 [DEBUG] lithops.config -- Loading Storage backend module: ibm_cos\n",
      "2022-05-25 01:37:32,561 [DEBUG] lithops.storage.backends.ibm_cos.ibm_cos -- Creating IBM COS client\n",
      "2022-05-25 01:37:32,576 [DEBUG] lithops.storage.backends.ibm_cos.ibm_cos -- Set IBM COS Endpoint to https://s3.eu-de.cloud-object-storage.appdomain.cloud\n",
      "2022-05-25 01:37:32,576 [DEBUG] lithops.storage.backends.ibm_cos.ibm_cos -- Using access_key and secret_key\n",
      "2022-05-25 01:37:32,592 [INFO] lithops.storage.backends.ibm_cos.ibm_cos -- IBM COS client created - Region: eu-de\n",
      "2022-05-25 01:37:32,592 [DEBUG] lithops.serverless.backends.ibm_cf.ibm_cf -- Creating IBM Cloud Functions client\n",
      "2022-05-25 01:37:32,592 [DEBUG] lithops.serverless.backends.ibm_cf.ibm_cf -- Set IBM CF Namespace to my-geospatial-wildfirerisk_foundry-geospatial-wildfirerisk-0\n",
      "2022-05-25 01:37:32,592 [DEBUG] lithops.serverless.backends.ibm_cf.ibm_cf -- Set IBM CF Endpoint to https://eu-de.functions.cloud.ibm.com\n",
      "2022-05-25 01:37:32,592 [INFO] lithops.serverless.backends.ibm_cf.ibm_cf -- IBM CF client created - Region: eu-de - Namespace: my-geospatial-wildfirerisk_foundry-geospatial-wildfirerisk-0\n",
      "2022-05-25 01:37:32,608 [DEBUG] lithops.invokers -- ExecutorID bca600-21 - Invoker initialized. Max workers: 1200\n",
      "2022-05-25 01:37:32,608 [DEBUG] lithops.invokers -- ExecutorID bca600-21 - Serverless invoker created\n",
      "2022-05-25 01:37:32,608 [DEBUG] lithops.executors -- Function executor for ibm_cf created with ID: bca600-21\n"
     ]
    }
   ],
   "source": [
    "fexec = lithops.FunctionExecutor(monitoring='rabbitmq')"
   ],
   "metadata": {
    "collapsed": false,
    "pycharm": {
     "name": "#%%\n"
    }
   }
  },
  {
   "cell_type": "code",
   "execution_count": 401,
   "outputs": [
    {
     "name": "stderr",
     "output_type": "stream",
     "text": [
      "2022-05-25 01:37:32,623 [INFO] lithops.invokers -- ExecutorID bca600-21 | JobID M000 - Selected Runtime: sararl27/lithops-ibm_cf-runtime-3.9:0.1 - 2048MB\n",
      "2022-05-25 01:37:32,623 [DEBUG] lithops.storage.storage -- Runtime metadata found in local memory cache\n",
      "2022-05-25 01:37:32,623 [DEBUG] lithops.job.job -- ExecutorID bca600-21 | JobID M000 - Calling map on partitions from object storage flow\n",
      "2022-05-25 01:37:32,623 [DEBUG] lithops.job.partitioner -- Parsing input data\n",
      "2022-05-25 01:37:32,639 [DEBUG] lithops.job.partitioner -- Chunk size and chunk number not set \n",
      "2022-05-25 01:37:32,639 [DEBUG] lithops.job.partitioner -- Listing objects in 'ibm_cos://objects-geospatial-wildfirerisk-0/data-example'\n",
      "2022-05-25 01:37:33,123 [DEBUG] lithops.job.partitioner -- Total objects found: 6\n",
      "2022-05-25 01:37:33,123 [DEBUG] lithops.job.partitioner -- Creating 1 partitions from object data-example/PNOA_2017_CLM-CAS_242-4422_ORT-CLA-RGB.laz (2.6MiB)\n",
      "2022-05-25 01:37:33,123 [DEBUG] lithops.job.partitioner -- Creating 1 partitions from object data-example/PNOA_2017_CLM-CAS_274-4464_ORT-CLA-RGB.laz (2.7MiB)\n",
      "2022-05-25 01:37:33,123 [DEBUG] lithops.job.partitioner -- Creating 1 partitions from object data-example/PNOA_2017_CLM-CAS_278-4470_ORT-CLA-RGB.laz (10.4MiB)\n",
      "2022-05-25 01:37:33,123 [DEBUG] lithops.job.partitioner -- Creating 1 partitions from object data-example/PNOA_2017_CLM-CAS_650-4434_ORT-CLA-RGB.laz (2.0MiB)\n",
      "2022-05-25 01:37:33,123 [DEBUG] lithops.job.partitioner -- Creating 1 partitions from object data-example/PNOA_2017_CLM-CAS_742-4404_ORT-CLA-RGB.laz (13.2MiB)\n",
      "2022-05-25 01:37:33,123 [DEBUG] lithops.job.partitioner -- Creating 1 partitions from object data-example/PNOA_2017_CLM-CAS_748-4414_ORT-CLA-RGB.laz (12.3MiB)\n",
      "2022-05-25 01:37:33,123 [DEBUG] lithops.job.job -- ExecutorID bca600-21 | JobID M000 - Serializing function and data\n",
      "2022-05-25 01:37:33,139 [DEBUG] lithops.job.serialize -- Referenced modules: C:\\Users\\saral\\CloudLab_things\\anaconda3\\envs\\geospatial_use\\lib\\site-packages\\scipy\\__init__.py, C:\\Users\\saral\\CloudLab_things\\anaconda3\\envs\\geospatial_use\\lib\\os.py, C:\\Users\\saral\\CloudLab_things\\anaconda3\\envs\\geospatial_use\\lib\\site-packages\\lithops\\storage\\utils.py, C:\\Users\\saral\\CloudLab_things\\anaconda3\\envs\\geospatial_use\\lib\\shutil.py, C:\\Users\\saral\\CloudLab_things\\anaconda3\\envs\\geospatial_use\\lib\\site-packages\\osgeo\\__init__.py, C:\\Users\\saral\\CloudLab_things\\anaconda3\\envs\\geospatial_use\\lib\\site-packages\\pdal\\__init__.py, C:\\Users\\saral\\CloudLab_things\\anaconda3\\envs\\geospatial_use\\lib\\pathlib.py, C:\\Users\\saral\\CloudLab_things\\anaconda3\\envs\\geospatial_use\\lib\\json\\__init__.py, C:\\Users\\saral\\CloudLab_things\\anaconda3\\envs\\geospatial_use\\lib\\subprocess.py, C:\\Users\\saral\\CloudLab_things\\anaconda3\\envs\\geospatial_use\\lib\\site-packages\\numpy\\__init__.py\n",
      "2022-05-25 01:37:33,139 [DEBUG] lithops.job.serialize -- Modules to transmit: None\n",
      "2022-05-25 01:37:33,139 [DEBUG] lithops.job.job -- ExecutorID bca600-21 | JobID M000 - Uploading function and modules to the storage backend\n",
      "2022-05-25 01:37:33,248 [DEBUG] lithops.storage.backends.ibm_cos.ibm_cos -- PUT Object lithops.jobs/bca600-21/3fd8799edbb8782f34f446b5d679d180.func.pickle - Size: 4.2KiB - OK\n",
      "2022-05-25 01:37:33,248 [DEBUG] lithops.job.job -- ExecutorID bca600-21 | JobID M000 - Data per activation is < 8.0KiB. Passing data through invocation payload\n",
      "2022-05-25 01:37:33,248 [INFO] lithops.invokers -- ExecutorID bca600-21 | JobID M000 - Starting function invocation: calculate_models() - Total: 6 activations\n",
      "2022-05-25 01:37:33,248 [DEBUG] lithops.invokers -- ExecutorID bca600-21 | JobID M000 - Worker processes: 1 - Chunksize: 1\n",
      "2022-05-25 01:37:33,264 [DEBUG] lithops.invokers -- ExecutorID bca600-21 - Async invoker 0 started\n",
      "2022-05-25 01:37:33,264 [DEBUG] lithops.invokers -- ExecutorID bca600-21 - Async invoker 1 started\n",
      "2022-05-25 01:37:33,264 [DEBUG] lithops.invokers -- ExecutorID bca600-21 | JobID M000 - Free workers: 1200 - Going to run 6 activations in 6 workers\n",
      "2022-05-25 01:37:33,608 [INFO] lithops.invokers -- ExecutorID bca600-21 | JobID M000 - View execution logs at C:\\Users\\saral\\AppData\\Local\\Temp\\lithops\\logs\\bca600-21-M000.log\n",
      "2022-05-25 01:37:33,623 [DEBUG] lithops.monitor -- ExecutorID bca600-21 - Creating RabbitMQ queue lithops-bca600-21\n",
      "2022-05-25 01:37:33,670 [DEBUG] lithops.invokers -- ExecutorID bca600-21 | JobID M000 - Calls 00001 invoked (0.391s) - Activation ID: 37f1951f639f4718b1951f639fe71824\n",
      "2022-05-25 01:37:33,686 [DEBUG] lithops.invokers -- ExecutorID bca600-21 | JobID M000 - Calls 00002 invoked (0.406s) - Activation ID: 0a40e47131d2407880e47131d290789e\n",
      "2022-05-25 01:37:33,701 [DEBUG] lithops.invokers -- ExecutorID bca600-21 | JobID M000 - Calls 00003 invoked (0.422s) - Activation ID: 3a92d2ab6dd348ad92d2ab6dd318ada3\n",
      "2022-05-25 01:37:33,733 [DEBUG] lithops.invokers -- ExecutorID bca600-21 | JobID M000 - Calls 00004 invoked (0.453s) - Activation ID: 4e4ecc7d9ee945f68ecc7d9ee965f6c6\n",
      "2022-05-25 01:37:33,748 [DEBUG] lithops.invokers -- ExecutorID bca600-21 | JobID M000 - Calls 00005 invoked (0.141s) - Activation ID: 7a0e423eaabb4ff98e423eaabbbff91f\n",
      "2022-05-25 01:37:34,061 [DEBUG] lithops.invokers -- ExecutorID bca600-21 | JobID M000 - Calls 00000 invoked (0.797s) - Activation ID: dcf90d5098ff4429b90d5098ff04299f\n",
      "2022-05-25 01:37:34,076 [DEBUG] lithops.monitor -- ExecutorID bca600-21 |  Starting RabbitMQ job monitor\n"
     ]
    },
    {
     "data": {
      "text/plain": "[<lithops.future.ResponseFuture at 0x1a7a02659d0>,\n <lithops.future.ResponseFuture at 0x1a7ab8647f0>,\n <lithops.future.ResponseFuture at 0x1a7ab864790>,\n <lithops.future.ResponseFuture at 0x1a7ab864c70>,\n <lithops.future.ResponseFuture at 0x1a7ab896d00>,\n <lithops.future.ResponseFuture at 0x1a7ab876160>]"
     },
     "execution_count": 401,
     "metadata": {},
     "output_type": "execute_result"
    }
   ],
   "source": [
    "fexec.map(calculate_models, f'cos://{DATA_BUCKET}/{INPUT_DATA_PREFIX}')"
   ],
   "metadata": {
    "collapsed": false,
    "pycharm": {
     "name": "#%%\n"
    }
   }
  },
  {
   "cell_type": "code",
   "execution_count": 402,
   "outputs": [
    {
     "name": "stderr",
     "output_type": "stream",
     "text": [
      "2022-05-25 01:37:34,108 [INFO] lithops.wait -- ExecutorID bca600-21 - Getting results from 6 function activations\n",
      "2022-05-25 01:37:34,186 [DEBUG] lithops.monitor -- ExecutorID bca600-21 - Pending: 6 - Running: 0 - Done: 0\n",
      "2022-05-25 01:37:36,202 [DEBUG] lithops.monitor -- ExecutorID bca600-21 - Pending: 3 - Running: 3 - Done: 0\n",
      "2022-05-25 01:37:38,217 [DEBUG] lithops.monitor -- ExecutorID bca600-21 - Pending: 0 - Running: 6 - Done: 0\n",
      "2022-05-25 01:37:40,232 [DEBUG] lithops.monitor -- ExecutorID bca600-21 - Pending: 0 - Running: 6 - Done: 0\n",
      "2022-05-25 01:37:42,247 [DEBUG] lithops.monitor -- ExecutorID bca600-21 - Pending: 0 - Running: 6 - Done: 0\n",
      "2022-05-25 01:37:44,255 [DEBUG] lithops.monitor -- ExecutorID bca600-21 - Pending: 0 - Running: 6 - Done: 0\n",
      "2022-05-25 01:37:45,989 [DEBUG] lithops.future -- ExecutorID bca600-21 | JobID M000 - Got status from call 00003 - Activation ID: 3a92d2ab6dd348ad92d2ab6dd318ada3 - Time: 10.89 seconds\n",
      "2022-05-25 01:37:46,065 [DEBUG] lithops.future -- ExecutorID bca600-21 | JobID M000 - Got output from call 00003 - Activation ID: 3a92d2ab6dd348ad92d2ab6dd318ada3\n",
      "2022-05-25 01:37:46,262 [DEBUG] lithops.monitor -- ExecutorID bca600-21 - Pending: 0 - Running: 5 - Done: 1\n",
      "2022-05-25 01:37:48,267 [DEBUG] lithops.monitor -- ExecutorID bca600-21 - Pending: 0 - Running: 5 - Done: 1\n",
      "2022-05-25 01:37:50,282 [DEBUG] lithops.monitor -- ExecutorID bca600-21 - Pending: 0 - Running: 5 - Done: 1\n",
      "2022-05-25 01:37:52,286 [DEBUG] lithops.monitor -- ExecutorID bca600-21 - Pending: 0 - Running: 5 - Done: 1\n",
      "2022-05-25 01:37:54,295 [DEBUG] lithops.monitor -- ExecutorID bca600-21 - Pending: 0 - Running: 5 - Done: 1\n",
      "2022-05-25 01:37:56,310 [DEBUG] lithops.monitor -- ExecutorID bca600-21 - Pending: 0 - Running: 5 - Done: 1\n",
      "2022-05-25 01:37:58,335 [DEBUG] lithops.monitor -- ExecutorID bca600-21 - Pending: 0 - Running: 5 - Done: 1\n",
      "2022-05-25 01:38:00,343 [DEBUG] lithops.monitor -- ExecutorID bca600-21 - Pending: 0 - Running: 5 - Done: 1\n",
      "2022-05-25 01:38:01,632 [DEBUG] lithops.future -- ExecutorID bca600-21 | JobID M000 - Got status from call 00000 - Activation ID: dcf90d5098ff4429b90d5098ff04299f - Time: 24.91 seconds\n",
      "2022-05-25 01:38:01,701 [DEBUG] lithops.future -- ExecutorID bca600-21 | JobID M000 - Got output from call 00000 - Activation ID: dcf90d5098ff4429b90d5098ff04299f\n",
      "2022-05-25 01:38:02,019 [DEBUG] lithops.future -- ExecutorID bca600-21 | JobID M000 - Got status from call 00001 - Activation ID: 37f1951f639f4718b1951f639fe71824 - Time: 26.05 seconds\n",
      "2022-05-25 01:38:02,076 [DEBUG] lithops.future -- ExecutorID bca600-21 | JobID M000 - Got output from call 00001 - Activation ID: 37f1951f639f4718b1951f639fe71824\n",
      "2022-05-25 01:38:02,357 [DEBUG] lithops.monitor -- ExecutorID bca600-21 - Pending: 0 - Running: 3 - Done: 3\n",
      "2022-05-25 01:38:04,368 [DEBUG] lithops.monitor -- ExecutorID bca600-21 - Pending: 0 - Running: 3 - Done: 3\n",
      "2022-05-25 01:38:06,372 [DEBUG] lithops.monitor -- ExecutorID bca600-21 - Pending: 0 - Running: 3 - Done: 3\n",
      "2022-05-25 01:38:08,380 [DEBUG] lithops.monitor -- ExecutorID bca600-21 - Pending: 0 - Running: 3 - Done: 3\n",
      "2022-05-25 01:38:10,384 [DEBUG] lithops.monitor -- ExecutorID bca600-21 - Pending: 0 - Running: 3 - Done: 3\n",
      "2022-05-25 01:38:12,395 [DEBUG] lithops.monitor -- ExecutorID bca600-21 - Pending: 0 - Running: 3 - Done: 3\n",
      "2022-05-25 01:38:14,410 [DEBUG] lithops.monitor -- ExecutorID bca600-21 - Pending: 0 - Running: 3 - Done: 3\n",
      "2022-05-25 01:38:16,412 [DEBUG] lithops.monitor -- ExecutorID bca600-21 - Pending: 0 - Running: 3 - Done: 3\n",
      "2022-05-25 01:38:18,422 [DEBUG] lithops.monitor -- ExecutorID bca600-21 - Pending: 0 - Running: 3 - Done: 3\n",
      "2022-05-25 01:38:20,435 [DEBUG] lithops.monitor -- ExecutorID bca600-21 - Pending: 0 - Running: 3 - Done: 3\n",
      "2022-05-25 01:38:22,442 [DEBUG] lithops.monitor -- ExecutorID bca600-21 - Pending: 0 - Running: 3 - Done: 3\n",
      "2022-05-25 01:38:24,460 [DEBUG] lithops.monitor -- ExecutorID bca600-21 - Pending: 0 - Running: 3 - Done: 3\n",
      "2022-05-25 01:38:26,477 [DEBUG] lithops.monitor -- ExecutorID bca600-21 - Pending: 0 - Running: 3 - Done: 3\n",
      "2022-05-25 01:38:28,484 [DEBUG] lithops.monitor -- ExecutorID bca600-21 - Pending: 0 - Running: 3 - Done: 3\n",
      "2022-05-25 01:38:30,499 [DEBUG] lithops.monitor -- ExecutorID bca600-21 - Pending: 0 - Running: 3 - Done: 3\n",
      "2022-05-25 01:38:32,511 [DEBUG] lithops.monitor -- ExecutorID bca600-21 - Pending: 0 - Running: 3 - Done: 3\n",
      "2022-05-25 01:38:34,520 [DEBUG] lithops.monitor -- ExecutorID bca600-21 - Pending: 0 - Running: 3 - Done: 3\n",
      "2022-05-25 01:38:36,532 [DEBUG] lithops.monitor -- ExecutorID bca600-21 - Pending: 0 - Running: 3 - Done: 3\n",
      "2022-05-25 01:38:38,538 [DEBUG] lithops.monitor -- ExecutorID bca600-21 - Pending: 0 - Running: 3 - Done: 3\n",
      "2022-05-25 01:38:40,550 [DEBUG] lithops.monitor -- ExecutorID bca600-21 - Pending: 0 - Running: 3 - Done: 3\n",
      "2022-05-25 01:38:42,563 [DEBUG] lithops.monitor -- ExecutorID bca600-21 - Pending: 0 - Running: 3 - Done: 3\n",
      "2022-05-25 01:38:44,578 [DEBUG] lithops.monitor -- ExecutorID bca600-21 - Pending: 0 - Running: 3 - Done: 3\n",
      "2022-05-25 01:38:46,590 [DEBUG] lithops.monitor -- ExecutorID bca600-21 - Pending: 0 - Running: 3 - Done: 3\n",
      "2022-05-25 01:38:48,596 [DEBUG] lithops.monitor -- ExecutorID bca600-21 - Pending: 0 - Running: 3 - Done: 3\n",
      "2022-05-25 01:38:50,609 [DEBUG] lithops.monitor -- ExecutorID bca600-21 - Pending: 0 - Running: 3 - Done: 3\n",
      "2022-05-25 01:38:52,618 [DEBUG] lithops.monitor -- ExecutorID bca600-21 - Pending: 0 - Running: 3 - Done: 3\n",
      "2022-05-25 01:38:54,631 [DEBUG] lithops.monitor -- ExecutorID bca600-21 - Pending: 0 - Running: 3 - Done: 3\n",
      "2022-05-25 01:38:56,641 [DEBUG] lithops.monitor -- ExecutorID bca600-21 - Pending: 0 - Running: 3 - Done: 3\n",
      "2022-05-25 01:38:58,647 [DEBUG] lithops.monitor -- ExecutorID bca600-21 - Pending: 0 - Running: 3 - Done: 3\n",
      "2022-05-25 01:39:00,661 [DEBUG] lithops.monitor -- ExecutorID bca600-21 - Pending: 0 - Running: 3 - Done: 3\n",
      "2022-05-25 01:39:02,337 [DEBUG] lithops.future -- ExecutorID bca600-21 | JobID M000 - Got status from call 00004 - Activation ID: 4e4ecc7d9ee945f68ecc7d9ee965f6c6 - Time: 84.95 seconds\n",
      "2022-05-25 01:39:02,394 [DEBUG] lithops.future -- ExecutorID bca600-21 | JobID M000 - Got output from call 00004 - Activation ID: 4e4ecc7d9ee945f68ecc7d9ee965f6c6\n",
      "2022-05-25 01:39:02,676 [DEBUG] lithops.monitor -- ExecutorID bca600-21 - Pending: 0 - Running: 2 - Done: 4\n",
      "2022-05-25 01:39:04,677 [DEBUG] lithops.monitor -- ExecutorID bca600-21 - Pending: 0 - Running: 2 - Done: 4\n",
      "2022-05-25 01:39:06,690 [DEBUG] lithops.monitor -- ExecutorID bca600-21 - Pending: 0 - Running: 2 - Done: 4\n",
      "2022-05-25 01:39:08,701 [DEBUG] lithops.monitor -- ExecutorID bca600-21 - Pending: 0 - Running: 2 - Done: 4\n",
      "2022-05-25 01:39:10,708 [DEBUG] lithops.monitor -- ExecutorID bca600-21 - Pending: 0 - Running: 2 - Done: 4\n",
      "2022-05-25 01:39:12,715 [DEBUG] lithops.monitor -- ExecutorID bca600-21 - Pending: 0 - Running: 2 - Done: 4\n",
      "2022-05-25 01:39:14,728 [DEBUG] lithops.monitor -- ExecutorID bca600-21 - Pending: 0 - Running: 2 - Done: 4\n",
      "2022-05-25 01:39:16,738 [DEBUG] lithops.monitor -- ExecutorID bca600-21 - Pending: 0 - Running: 2 - Done: 4\n",
      "2022-05-25 01:39:18,755 [DEBUG] lithops.monitor -- ExecutorID bca600-21 - Pending: 0 - Running: 2 - Done: 4\n",
      "2022-05-25 01:39:20,765 [DEBUG] lithops.monitor -- ExecutorID bca600-21 - Pending: 0 - Running: 2 - Done: 4\n",
      "2022-05-25 01:39:22,769 [DEBUG] lithops.monitor -- ExecutorID bca600-21 - Pending: 0 - Running: 2 - Done: 4\n",
      "2022-05-25 01:39:24,777 [DEBUG] lithops.monitor -- ExecutorID bca600-21 - Pending: 0 - Running: 2 - Done: 4\n",
      "2022-05-25 01:39:26,788 [DEBUG] lithops.monitor -- ExecutorID bca600-21 - Pending: 0 - Running: 2 - Done: 4\n",
      "2022-05-25 01:39:28,791 [DEBUG] lithops.monitor -- ExecutorID bca600-21 - Pending: 0 - Running: 2 - Done: 4\n",
      "2022-05-25 01:39:29,432 [DEBUG] lithops.future -- ExecutorID bca600-21 | JobID M000 - Got status from call 00002 - Activation ID: 0a40e47131d2407880e47131d290789e - Time: 114.95 seconds\n",
      "2022-05-25 01:39:29,504 [DEBUG] lithops.future -- ExecutorID bca600-21 | JobID M000 - Got output from call 00002 - Activation ID: 0a40e47131d2407880e47131d290789e\n",
      "2022-05-25 01:39:30,802 [DEBUG] lithops.monitor -- ExecutorID bca600-21 - Pending: 0 - Running: 1 - Done: 5\n",
      "2022-05-25 01:39:32,817 [DEBUG] lithops.monitor -- ExecutorID bca600-21 - Pending: 0 - Running: 1 - Done: 5\n",
      "2022-05-25 01:39:34,826 [DEBUG] lithops.monitor -- ExecutorID bca600-21 - Pending: 0 - Running: 1 - Done: 5\n",
      "2022-05-25 01:39:36,840 [DEBUG] lithops.monitor -- ExecutorID bca600-21 - Pending: 0 - Running: 1 - Done: 5\n",
      "2022-05-25 01:39:38,847 [DEBUG] lithops.monitor -- ExecutorID bca600-21 - Pending: 0 - Running: 1 - Done: 5\n",
      "2022-05-25 01:39:40,868 [DEBUG] lithops.monitor -- ExecutorID bca600-21 - Pending: 0 - Running: 1 - Done: 5\n",
      "2022-05-25 01:39:42,881 [DEBUG] lithops.monitor -- ExecutorID bca600-21 - Pending: 0 - Running: 1 - Done: 5\n",
      "2022-05-25 01:39:43,659 [DEBUG] lithops.monitor -- ExecutorID bca600-21 - Pending: 0 - Running: 0 - Done: 6\n",
      "2022-05-25 01:39:43,662 [DEBUG] lithops.monitor -- ExecutorID bca600-21 | RabbitMQ job monitor finished\n",
      "2022-05-25 01:39:43,819 [DEBUG] lithops.future -- ExecutorID bca600-21 | JobID M000 - Got status from call 00005 - Activation ID: 7a0e423eaabb4ff98e423eaabbbff91f - Time: 129.09 seconds\n",
      "2022-05-25 01:39:43,876 [DEBUG] lithops.future -- ExecutorID bca600-21 | JobID M000 - Got output from call 00005 - Activation ID: 7a0e423eaabb4ff98e423eaabbbff91f\n",
      "2022-05-25 01:39:43,877 [INFO] lithops.executors -- ExecutorID bca600-21 - Cleaning temporary data\n",
      "2022-05-25 01:39:43,888 [DEBUG] lithops.executors -- ExecutorID bca600-21 - Finished getting results\n"
     ]
    }
   ],
   "source": [
    "res = fexec.get_result()"
   ],
   "metadata": {
    "collapsed": false,
    "pycharm": {
     "name": "#%%\n"
    }
   }
  },
  {
   "cell_type": "code",
   "execution_count": 403,
   "outputs": [
    {
     "data": {
      "text/plain": "[b'/tmp/geo/\\n/tmp/geo/chm\\n/tmp/geo/chm/PNOA_2017_CLM-CAS_242-4422_ORT-CLA-RGB.tiff\\n/tmp/geo/dsm\\n/tmp/geo/dsm/PNOA_2017_CLM-CAS_242-4422_ORT-CLA-RGB.gtiff\\n/tmp/geo/aspect\\n/tmp/geo/aspect/PNOA_2017_CLM-CAS_242-4422_ORT-CLA-RGB.tiff\\n/tmp/geo/slope\\n/tmp/geo/slope/PNOA_2017_CLM-CAS_242-4422_ORT-CLA-RGB.tiff\\n/tmp/geo/dem\\n/tmp/geo/dem/PNOA_2017_CLM-CAS_242-4422_ORT-CLA-RGB.gtiff\\n/tmp/geo/PNOA_2017_CLM-CAS_242-4422_ORT-CLA-RGB.laz\\n/tmp/geo/fcc\\n/tmp/geo/fcc/PNOA_2017_CLM-CAS_242-4422_ORT-CLA-RGB.tiff\\n',\n b'/tmp/geo/\\n/tmp/geo/fcc\\n/tmp/geo/fcc/PNOA_2017_CLM-CAS_274-4464_ORT-CLA-RGB.tiff\\n/tmp/geo/aspect\\n/tmp/geo/aspect/PNOA_2017_CLM-CAS_274-4464_ORT-CLA-RGB.tiff\\n/tmp/geo/slope\\n/tmp/geo/slope/PNOA_2017_CLM-CAS_274-4464_ORT-CLA-RGB.tiff\\n/tmp/geo/dem\\n/tmp/geo/dem/PNOA_2017_CLM-CAS_274-4464_ORT-CLA-RGB.gtiff\\n/tmp/geo/chm\\n/tmp/geo/chm/PNOA_2017_CLM-CAS_274-4464_ORT-CLA-RGB.tiff\\n/tmp/geo/PNOA_2017_CLM-CAS_274-4464_ORT-CLA-RGB.laz\\n/tmp/geo/dsm\\n/tmp/geo/dsm/PNOA_2017_CLM-CAS_274-4464_ORT-CLA-RGB.gtiff\\n',\n b'/tmp/geo/\\n/tmp/geo/dem\\n/tmp/geo/dem/PNOA_2017_CLM-CAS_278-4470_ORT-CLA-RGB.gtiff\\n/tmp/geo/chm\\n/tmp/geo/chm/PNOA_2017_CLM-CAS_278-4470_ORT-CLA-RGB.tiff\\n/tmp/geo/fcc\\n/tmp/geo/fcc/PNOA_2017_CLM-CAS_278-4470_ORT-CLA-RGB.tiff\\n/tmp/geo/PNOA_2017_CLM-CAS_278-4470_ORT-CLA-RGB.laz\\n/tmp/geo/aspect\\n/tmp/geo/aspect/PNOA_2017_CLM-CAS_278-4470_ORT-CLA-RGB.tiff\\n/tmp/geo/slope\\n/tmp/geo/slope/PNOA_2017_CLM-CAS_278-4470_ORT-CLA-RGB.tiff\\n/tmp/geo/dsm\\n/tmp/geo/dsm/PNOA_2017_CLM-CAS_278-4470_ORT-CLA-RGB.gtiff\\n',\n b'/tmp/geo/\\n/tmp/geo/fcc\\n/tmp/geo/fcc/PNOA_2017_CLM-CAS_650-4434_ORT-CLA-RGB.tiff\\n/tmp/geo/aspect\\n/tmp/geo/aspect/PNOA_2017_CLM-CAS_650-4434_ORT-CLA-RGB.tiff\\n/tmp/geo/chm\\n/tmp/geo/PNOA_2017_CLM-CAS_650-4434_ORT-CLA-RGB.laz\\n/tmp/geo/dem\\n/tmp/geo/dem/PNOA_2017_CLM-CAS_650-4434_ORT-CLA-RGB.gtiff\\n/tmp/geo/slope\\n/tmp/geo/slope/PNOA_2017_CLM-CAS_650-4434_ORT-CLA-RGB.tiff\\n/tmp/geo/dsm\\n/tmp/geo/dsm/PNOA_2017_CLM-CAS_650-4434_ORT-CLA-RGB.gtiff\\n',\n b'/tmp/geo/\\n/tmp/geo/fcc\\n/tmp/geo/fcc/PNOA_2017_CLM-CAS_742-4404_ORT-CLA-RGB.tiff\\n/tmp/geo/aspect\\n/tmp/geo/aspect/PNOA_2017_CLM-CAS_742-4404_ORT-CLA-RGB.tiff\\n/tmp/geo/PNOA_2017_CLM-CAS_742-4404_ORT-CLA-RGB.laz\\n/tmp/geo/chm\\n/tmp/geo/chm/PNOA_2017_CLM-CAS_742-4404_ORT-CLA-RGB.tiff\\n/tmp/geo/dem\\n/tmp/geo/dem/PNOA_2017_CLM-CAS_742-4404_ORT-CLA-RGB.gtiff\\n/tmp/geo/slope\\n/tmp/geo/slope/PNOA_2017_CLM-CAS_742-4404_ORT-CLA-RGB.tiff\\n/tmp/geo/dsm\\n/tmp/geo/dsm/PNOA_2017_CLM-CAS_742-4404_ORT-CLA-RGB.gtiff\\n',\n b'/tmp/geo/\\n/tmp/geo/chm\\n/tmp/geo/chm/PNOA_2017_CLM-CAS_748-4414_ORT-CLA-RGB.tiff\\n/tmp/geo/dsm\\n/tmp/geo/dsm/PNOA_2017_CLM-CAS_748-4414_ORT-CLA-RGB.gtiff\\n/tmp/geo/PNOA_2017_CLM-CAS_748-4414_ORT-CLA-RGB.laz\\n/tmp/geo/aspect\\n/tmp/geo/aspect/PNOA_2017_CLM-CAS_748-4414_ORT-CLA-RGB.tiff\\n/tmp/geo/slope\\n/tmp/geo/slope/PNOA_2017_CLM-CAS_748-4414_ORT-CLA-RGB.tiff\\n/tmp/geo/dem\\n/tmp/geo/dem/PNOA_2017_CLM-CAS_748-4414_ORT-CLA-RGB.gtiff\\n/tmp/geo/fcc\\n/tmp/geo/fcc/PNOA_2017_CLM-CAS_748-4414_ORT-CLA-RGB.tiff\\n']"
     },
     "execution_count": 403,
     "metadata": {},
     "output_type": "execute_result"
    }
   ],
   "source": [
    "res"
   ],
   "metadata": {
    "collapsed": false,
    "pycharm": {
     "name": "#%%\n"
    }
   }
  },
  {
   "cell_type": "code",
   "execution_count": 404,
   "outputs": [
    {
     "name": "stdout",
     "output_type": "stream",
     "text": [
      "/tmp/geo/\n",
      "/tmp/geo/chm\n",
      "/tmp/geo/chm/PNOA_2017_CLM-CAS_242-4422_ORT-CLA-RGB.tiff\n",
      "/tmp/geo/dsm\n",
      "/tmp/geo/dsm/PNOA_2017_CLM-CAS_242-4422_ORT-CLA-RGB.gtiff\n",
      "/tmp/geo/aspect\n",
      "/tmp/geo/aspect/PNOA_2017_CLM-CAS_242-4422_ORT-CLA-RGB.tiff\n",
      "/tmp/geo/slope\n",
      "/tmp/geo/slope/PNOA_2017_CLM-CAS_242-4422_ORT-CLA-RGB.tiff\n",
      "/tmp/geo/dem\n",
      "/tmp/geo/dem/PNOA_2017_CLM-CAS_242-4422_ORT-CLA-RGB.gtiff\n",
      "/tmp/geo/PNOA_2017_CLM-CAS_242-4422_ORT-CLA-RGB.laz\n",
      "/tmp/geo/fcc\n",
      "/tmp/geo/fcc/PNOA_2017_CLM-CAS_242-4422_ORT-CLA-RGB.tiff\n",
      "---\n",
      "/tmp/geo/\n",
      "/tmp/geo/fcc\n",
      "/tmp/geo/fcc/PNOA_2017_CLM-CAS_274-4464_ORT-CLA-RGB.tiff\n",
      "/tmp/geo/aspect\n",
      "/tmp/geo/aspect/PNOA_2017_CLM-CAS_274-4464_ORT-CLA-RGB.tiff\n",
      "/tmp/geo/slope\n",
      "/tmp/geo/slope/PNOA_2017_CLM-CAS_274-4464_ORT-CLA-RGB.tiff\n",
      "/tmp/geo/dem\n",
      "/tmp/geo/dem/PNOA_2017_CLM-CAS_274-4464_ORT-CLA-RGB.gtiff\n",
      "/tmp/geo/chm\n",
      "/tmp/geo/chm/PNOA_2017_CLM-CAS_274-4464_ORT-CLA-RGB.tiff\n",
      "/tmp/geo/PNOA_2017_CLM-CAS_274-4464_ORT-CLA-RGB.laz\n",
      "/tmp/geo/dsm\n",
      "/tmp/geo/dsm/PNOA_2017_CLM-CAS_274-4464_ORT-CLA-RGB.gtiff\n",
      "---\n",
      "/tmp/geo/\n",
      "/tmp/geo/dem\n",
      "/tmp/geo/dem/PNOA_2017_CLM-CAS_278-4470_ORT-CLA-RGB.gtiff\n",
      "/tmp/geo/chm\n",
      "/tmp/geo/chm/PNOA_2017_CLM-CAS_278-4470_ORT-CLA-RGB.tiff\n",
      "/tmp/geo/fcc\n",
      "/tmp/geo/fcc/PNOA_2017_CLM-CAS_278-4470_ORT-CLA-RGB.tiff\n",
      "/tmp/geo/PNOA_2017_CLM-CAS_278-4470_ORT-CLA-RGB.laz\n",
      "/tmp/geo/aspect\n",
      "/tmp/geo/aspect/PNOA_2017_CLM-CAS_278-4470_ORT-CLA-RGB.tiff\n",
      "/tmp/geo/slope\n",
      "/tmp/geo/slope/PNOA_2017_CLM-CAS_278-4470_ORT-CLA-RGB.tiff\n",
      "/tmp/geo/dsm\n",
      "/tmp/geo/dsm/PNOA_2017_CLM-CAS_278-4470_ORT-CLA-RGB.gtiff\n",
      "---\n",
      "/tmp/geo/\n",
      "/tmp/geo/fcc\n",
      "/tmp/geo/fcc/PNOA_2017_CLM-CAS_650-4434_ORT-CLA-RGB.tiff\n",
      "/tmp/geo/aspect\n",
      "/tmp/geo/aspect/PNOA_2017_CLM-CAS_650-4434_ORT-CLA-RGB.tiff\n",
      "/tmp/geo/chm\n",
      "/tmp/geo/PNOA_2017_CLM-CAS_650-4434_ORT-CLA-RGB.laz\n",
      "/tmp/geo/dem\n",
      "/tmp/geo/dem/PNOA_2017_CLM-CAS_650-4434_ORT-CLA-RGB.gtiff\n",
      "/tmp/geo/slope\n",
      "/tmp/geo/slope/PNOA_2017_CLM-CAS_650-4434_ORT-CLA-RGB.tiff\n",
      "/tmp/geo/dsm\n",
      "/tmp/geo/dsm/PNOA_2017_CLM-CAS_650-4434_ORT-CLA-RGB.gtiff\n",
      "---\n",
      "/tmp/geo/\n",
      "/tmp/geo/fcc\n",
      "/tmp/geo/fcc/PNOA_2017_CLM-CAS_742-4404_ORT-CLA-RGB.tiff\n",
      "/tmp/geo/aspect\n",
      "/tmp/geo/aspect/PNOA_2017_CLM-CAS_742-4404_ORT-CLA-RGB.tiff\n",
      "/tmp/geo/PNOA_2017_CLM-CAS_742-4404_ORT-CLA-RGB.laz\n",
      "/tmp/geo/chm\n",
      "/tmp/geo/chm/PNOA_2017_CLM-CAS_742-4404_ORT-CLA-RGB.tiff\n",
      "/tmp/geo/dem\n",
      "/tmp/geo/dem/PNOA_2017_CLM-CAS_742-4404_ORT-CLA-RGB.gtiff\n",
      "/tmp/geo/slope\n",
      "/tmp/geo/slope/PNOA_2017_CLM-CAS_742-4404_ORT-CLA-RGB.tiff\n",
      "/tmp/geo/dsm\n",
      "/tmp/geo/dsm/PNOA_2017_CLM-CAS_742-4404_ORT-CLA-RGB.gtiff\n",
      "---\n",
      "/tmp/geo/\n",
      "/tmp/geo/chm\n",
      "/tmp/geo/chm/PNOA_2017_CLM-CAS_748-4414_ORT-CLA-RGB.tiff\n",
      "/tmp/geo/dsm\n",
      "/tmp/geo/dsm/PNOA_2017_CLM-CAS_748-4414_ORT-CLA-RGB.gtiff\n",
      "/tmp/geo/PNOA_2017_CLM-CAS_748-4414_ORT-CLA-RGB.laz\n",
      "/tmp/geo/aspect\n",
      "/tmp/geo/aspect/PNOA_2017_CLM-CAS_748-4414_ORT-CLA-RGB.tiff\n",
      "/tmp/geo/slope\n",
      "/tmp/geo/slope/PNOA_2017_CLM-CAS_748-4414_ORT-CLA-RGB.tiff\n",
      "/tmp/geo/dem\n",
      "/tmp/geo/dem/PNOA_2017_CLM-CAS_748-4414_ORT-CLA-RGB.gtiff\n",
      "/tmp/geo/fcc\n",
      "/tmp/geo/fcc/PNOA_2017_CLM-CAS_748-4414_ORT-CLA-RGB.tiff\n",
      "---\n"
     ]
    }
   ],
   "source": [
    "for r in res:\n",
    "    print(r.decode('utf-8').strip())\n",
    "    print('---')"
   ],
   "metadata": {
    "collapsed": false,
    "pycharm": {
     "name": "#%%\n"
    }
   }
  },
  {
   "cell_type": "markdown",
   "source": [
    "---\n",
    "Scalability\n",
    "---"
   ],
   "metadata": {
    "collapsed": false,
    "pycharm": {
     "name": "#%% md\n"
    }
   }
  },
  {
   "cell_type": "markdown",
   "source": [
    "#### Time"
   ],
   "metadata": {
    "collapsed": false,
    "pycharm": {
     "name": "#%% md\n"
    }
   }
  },
  {
   "cell_type": "code",
   "execution_count": 405,
   "outputs": [],
   "source": [
    "# fexec.futures"
   ],
   "metadata": {
    "collapsed": false,
    "pycharm": {
     "name": "#%%\n"
    }
   }
  },
  {
   "cell_type": "code",
   "execution_count": 406,
   "outputs": [
    {
     "name": "stderr",
     "output_type": "stream",
     "text": [
      "2022-05-25 01:39:43,986 [INFO] lithops.executors -- ExecutorID bca600-21 - Creating execution plots\n"
     ]
    }
   ],
   "source": [
    "fexec.plot(dst=\"plotS/scalability\")"
   ],
   "metadata": {
    "collapsed": false,
    "pycharm": {
     "name": "#%%\n"
    }
   }
  },
  {
   "cell_type": "code",
   "execution_count": 407,
   "outputs": [
    {
     "data": {
      "image/png": "[encoded data removed]",
      "text/plain": "<IPython.core.display.Image object>"
     },
     "execution_count": 407,
     "metadata": {},
     "output_type": "execute_result"
    }
   ],
   "source": [
    "Image(filename=\"plots/scalability_histogram.png\")"
   ],
   "metadata": {
    "collapsed": false,
    "pycharm": {
     "name": "#%%\n"
    }
   }
  },
  {
   "cell_type": "code",
   "execution_count": 408,
   "outputs": [
    {
     "data": {
      "image/png": "[encoded data removed]",
      "text/plain": "<IPython.core.display.Image object>"
     },
     "execution_count": 408,
     "metadata": {},
     "output_type": "execute_result"
    }
   ],
   "source": [
    "Image(filename=\"plots/scalability_timeline.png\")"
   ],
   "metadata": {
    "collapsed": false,
    "pycharm": {
     "name": "#%%\n"
    }
   }
  },
  {
   "cell_type": "markdown",
   "source": [
    "#### Throughput"
   ],
   "metadata": {
    "collapsed": false,
    "pycharm": {
     "name": "#%% md\n"
    }
   }
  },
  {
   "cell_type": "code",
   "execution_count": 409,
   "outputs": [
    {
     "name": "stdout",
     "output_type": "stream",
     "text": [
      "Data size: 301.35498046875 MiB\n"
     ]
    }
   ],
   "source": [
    "data_size = sum(obj['Size'] for obj in storage.list_objects(DATA_BUCKET) if str(obj['Key']).endswith('.tiff'))\n",
    "print(f\"Data size: {data_size / 1024**2} MiB\")"
   ],
   "metadata": {
    "collapsed": false,
    "pycharm": {
     "name": "#%%\n"
    }
   }
  },
  {
   "cell_type": "code",
   "execution_count": 410,
   "outputs": [
    {
     "name": "stdout",
     "output_type": "stream",
     "text": [
      "Duration: 0:02:12.135235\n"
     ]
    }
   ],
   "source": [
    "tstamps = set()\n",
    "for future in fexec.futures:\n",
    "    for key in future.stats.keys():\n",
    "        if key.endswith(\"tstamp\"):\n",
    "            tstamps.add(future.stats[key])\n",
    "\n",
    "duration = max(tstamps) - min(tstamps)\n",
    "print(\"Duration: \" + str(datetime.timedelta(seconds=duration)))"
   ],
   "metadata": {
    "collapsed": false,
    "pycharm": {
     "name": "#%%\n"
    }
   }
  },
  {
   "cell_type": "code",
   "execution_count": 411,
   "outputs": [],
   "source": [
    "throughput = data_size / duration  # Bytes/second"
   ],
   "metadata": {
    "collapsed": false,
    "pycharm": {
     "name": "#%%\n"
    }
   }
  },
  {
   "cell_type": "code",
   "execution_count": 412,
   "outputs": [
    {
     "name": "stdout",
     "output_type": "stream",
     "text": [
      "Throughput: 2.280655721864475 MiB/s\n"
     ]
    }
   ],
   "source": [
    "print(f\"Throughput: {throughput / 1024**2} MiB/s\")"
   ],
   "metadata": {
    "collapsed": false,
    "pycharm": {
     "name": "#%%\n"
    }
   }
  },
  {
   "cell_type": "markdown",
   "source": [
    "#### Cost"
   ],
   "metadata": {
    "collapsed": false,
    "pycharm": {
     "name": "#%% md\n"
    }
   }
  },
  {
   "cell_type": "code",
   "execution_count": 413,
   "outputs": [],
   "source": [
    "def get_process_cost(fexec):\n",
    "    import pandas as pd\n",
    "    df = pd.read_csv(fexec.log_path)\n",
    "    cost = float(df[df[\"Job_ID\"] == \"Summary\"][\"Cost\"])\n",
    "    return cost"
   ],
   "metadata": {
    "collapsed": false,
    "pycharm": {
     "name": "#%%\n"
    }
   }
  },
  {
   "cell_type": "code",
   "execution_count": 414,
   "outputs": [
    {
     "name": "stderr",
     "output_type": "stream",
     "text": [
      "2022-05-25 01:39:44,835 [INFO] lithops.executors -- View log file logs at C:\\Users\\saral\\AppData\\Local\\Temp\\lithops\\logs\\2022-05-25_01_39_44.csv\n"
     ]
    }
   ],
   "source": [
    "fexec.job_summary()"
   ],
   "metadata": {
    "collapsed": false,
    "pycharm": {
     "name": "#%%\n"
    }
   }
  },
  {
   "cell_type": "code",
   "execution_count": 415,
   "outputs": [
    {
     "data": {
      "text/plain": "    Job_ID          Function  Invocations  Memory(MB)  AvgRuntime      Cost  \\\n0     M000  calculate_models            6       12288   65.140401  0.013289   \n1  Summary                              6       12288   65.140401  0.013289   \n\n  CloudObjects  \n0               \n1            0  ",
      "text/html": "<div>\n<style scoped>\n    .dataframe tbody tr th:only-of-type {\n        vertical-align: middle;\n    }\n\n    .dataframe tbody tr th {\n        vertical-align: top;\n    }\n\n    .dataframe thead th {\n        text-align: right;\n    }\n</style>\n<table border=\"1\" class=\"dataframe\">\n  <thead>\n    <tr style=\"text-align: right;\">\n      <th></th>\n      <th>Job_ID</th>\n      <th>Function</th>\n      <th>Invocations</th>\n      <th>Memory(MB)</th>\n      <th>AvgRuntime</th>\n      <th>Cost</th>\n      <th>CloudObjects</th>\n    </tr>\n  </thead>\n  <tbody>\n    <tr>\n      <th>0</th>\n      <td>M000</td>\n      <td>calculate_models</td>\n      <td>6</td>\n      <td>12288</td>\n      <td>65.140401</td>\n      <td>0.013289</td>\n      <td></td>\n    </tr>\n    <tr>\n      <th>1</th>\n      <td>Summary</td>\n      <td></td>\n      <td>6</td>\n      <td>12288</td>\n      <td>65.140401</td>\n      <td>0.013289</td>\n      <td>0</td>\n    </tr>\n  </tbody>\n</table>\n</div>"
     },
     "execution_count": 415,
     "metadata": {},
     "output_type": "execute_result"
    }
   ],
   "source": [
    "pd.read_csv(fexec.log_path)"
   ],
   "metadata": {
    "collapsed": false,
    "pycharm": {
     "name": "#%%\n"
    }
   }
  },
  {
   "cell_type": "code",
   "execution_count": null,
   "outputs": [],
   "source": [
    "cost_interpolation = get_process_cost(fexec)\n",
    "print(f\"The experiment cost ${cost_interpolation:.4f}.\")"
   ],
   "metadata": {
    "collapsed": false,
    "pycharm": {
     "name": "#%%\n"
    }
   }
  },
  {
   "cell_type": "markdown",
   "source": [
    "#### Workers (in progress)"
   ],
   "metadata": {
    "collapsed": false,
    "pycharm": {
     "name": "#%% md\n"
    }
   }
  },
  {
   "cell_type": "code",
   "execution_count": null,
   "outputs": [],
   "source": [
    "parallel_workers = [2, 4, 8, 16, 32, 64, 128] #2, 4, 8, 16, 32, 64, 128\n",
    "experiment_duration = dict.fromkeys(parallel_workers)"
   ],
   "metadata": {
    "collapsed": false,
    "pycharm": {
     "name": "#%%\n"
    }
   }
  },
  {
   "cell_type": "code",
   "execution_count": null,
   "outputs": [
    {
     "name": "stderr",
     "output_type": "stream",
     "text": [
      "2022-05-25 01:44:34,764 [DEBUG] lithops.monitor -- ExecutorID bca600-24 - Pending: 0 - Running: 3 - Done: 3\n",
      "2022-05-25 01:44:36,922 [DEBUG] lithops.monitor -- ExecutorID bca600-24 - Pending: 0 - Running: 3 - Done: 3\n",
      "2022-05-25 01:44:39,080 [DEBUG] lithops.monitor -- ExecutorID bca600-24 - Pending: 0 - Running: 3 - Done: 3\n",
      "2022-05-25 01:44:41,223 [DEBUG] lithops.monitor -- ExecutorID bca600-24 - Pending: 0 - Running: 3 - Done: 3\n",
      "2022-05-25 01:44:43,370 [DEBUG] lithops.monitor -- ExecutorID bca600-24 - Pending: 0 - Running: 3 - Done: 3\n",
      "2022-05-25 01:44:45,517 [DEBUG] lithops.monitor -- ExecutorID bca600-24 - Pending: 0 - Running: 3 - Done: 3\n",
      "2022-05-25 01:44:47,684 [DEBUG] lithops.monitor -- ExecutorID bca600-24 - Pending: 0 - Running: 3 - Done: 3\n",
      "2022-05-25 01:44:49,823 [DEBUG] lithops.monitor -- ExecutorID bca600-24 - Pending: 0 - Running: 3 - Done: 3\n",
      "2022-05-25 01:44:51,982 [DEBUG] lithops.monitor -- ExecutorID bca600-24 - Pending: 0 - Running: 3 - Done: 3\n",
      "2022-05-25 01:44:52,472 [INFO] lithops.wait -- Cancelled - Total Activations not done: 3\n",
      "2022-05-25 01:44:52,473 [DEBUG] lithops.invokers -- ExecutorID bca600-24 - Stopping async invokers\n",
      "2022-05-25 01:44:52,488 [DEBUG] lithops.invokers -- ExecutorID bca600-24 - Async invoker 0 finished\n",
      "2022-05-25 01:44:52,488 [DEBUG] lithops.invokers -- ExecutorID bca600-24 - Async invoker 1 finished\n"
     ]
    },
    {
     "ename": "KeyboardInterrupt",
     "evalue": "",
     "output_type": "error",
     "traceback": [
      "\u001B[1;31m---------------------------------------------------------------------------\u001B[0m",
      "\u001B[1;31mKeyboardInterrupt\u001B[0m                         Traceback (most recent call last)",
      "Input \u001B[1;32mIn [419]\u001B[0m, in \u001B[0;36m<cell line: 1>\u001B[1;34m()\u001B[0m\n\u001B[0;32m      3\u001B[0m fexec \u001B[38;5;241m=\u001B[39m lithops\u001B[38;5;241m.\u001B[39mFunctionExecutor(\n\u001B[0;32m      4\u001B[0m     \n\u001B[0;32m      5\u001B[0m     max_workers\u001B[38;5;241m=\u001B[39mworkers, \u001B[38;5;66;03m# Tells lithops to work w/only this number of concurrent workers \u001B[39;00m\n\u001B[0;32m      6\u001B[0m     log_level\u001B[38;5;241m=\u001B[39m\u001B[38;5;124m\"\u001B[39m\u001B[38;5;124mDEBUG\u001B[39m\u001B[38;5;124m\"\u001B[39m\n\u001B[0;32m      7\u001B[0m )\n\u001B[0;32m      8\u001B[0m fexec\u001B[38;5;241m.\u001B[39mmap(calculate_models, \u001B[38;5;124mf\u001B[39m\u001B[38;5;124m'\u001B[39m\u001B[38;5;124mcos://\u001B[39m\u001B[38;5;132;01m{\u001B[39;00mDATA_BUCKET\u001B[38;5;132;01m}\u001B[39;00m\u001B[38;5;124m/\u001B[39m\u001B[38;5;132;01m{\u001B[39;00mINPUT_DATA_PREFIX\u001B[38;5;132;01m}\u001B[39;00m\u001B[38;5;124m'\u001B[39m)\n\u001B[1;32m----> 9\u001B[0m \u001B[43mfexec\u001B[49m\u001B[38;5;241;43m.\u001B[39;49m\u001B[43mget_result\u001B[49m\u001B[43m(\u001B[49m\u001B[43m)\u001B[49m\n\u001B[0;32m     11\u001B[0m tstamps \u001B[38;5;241m=\u001B[39m \u001B[38;5;28mset\u001B[39m()\n\u001B[0;32m     12\u001B[0m \u001B[38;5;28;01mfor\u001B[39;00m future \u001B[38;5;129;01min\u001B[39;00m fexec\u001B[38;5;241m.\u001B[39mfutures:\n",
      "File \u001B[1;32m~\\CloudLab_things\\anaconda3\\envs\\geospatial_use\\lib\\site-packages\\lithops\\executors.py:466\u001B[0m, in \u001B[0;36mFunctionExecutor.get_result\u001B[1;34m(self, fs, throw_except, timeout, threadpool_size, wait_dur_sec)\u001B[0m\n\u001B[0;32m    450\u001B[0m \u001B[38;5;28;01mdef\u001B[39;00m \u001B[38;5;21mget_result\u001B[39m(\u001B[38;5;28mself\u001B[39m,\n\u001B[0;32m    451\u001B[0m                fs: Optional[Union[ResponseFuture, FuturesList, List[ResponseFuture]]] \u001B[38;5;241m=\u001B[39m \u001B[38;5;28;01mNone\u001B[39;00m,\n\u001B[0;32m    452\u001B[0m                throw_except: Optional[\u001B[38;5;28mbool\u001B[39m] \u001B[38;5;241m=\u001B[39m \u001B[38;5;28;01mTrue\u001B[39;00m,\n\u001B[0;32m    453\u001B[0m                timeout: Optional[\u001B[38;5;28mint\u001B[39m] \u001B[38;5;241m=\u001B[39m \u001B[38;5;28;01mNone\u001B[39;00m,\n\u001B[0;32m    454\u001B[0m                threadpool_size: Optional[\u001B[38;5;28mint\u001B[39m] \u001B[38;5;241m=\u001B[39m THREADPOOL_SIZE,\n\u001B[0;32m    455\u001B[0m                wait_dur_sec: Optional[\u001B[38;5;28mint\u001B[39m] \u001B[38;5;241m=\u001B[39m WAIT_DUR_SEC):\n\u001B[0;32m    456\u001B[0m     \u001B[38;5;124;03m\"\"\"\u001B[39;00m\n\u001B[0;32m    457\u001B[0m \u001B[38;5;124;03m    For getting the results from all function activations\u001B[39;00m\n\u001B[0;32m    458\u001B[0m \n\u001B[1;32m   (...)\u001B[0m\n\u001B[0;32m    464\u001B[0m \u001B[38;5;124;03m    :return: The result of the future/s\u001B[39;00m\n\u001B[0;32m    465\u001B[0m \u001B[38;5;124;03m    \"\"\"\u001B[39;00m\n\u001B[1;32m--> 466\u001B[0m     fs_done, _ \u001B[38;5;241m=\u001B[39m \u001B[38;5;28;43mself\u001B[39;49m\u001B[38;5;241;43m.\u001B[39;49m\u001B[43mwait\u001B[49m\u001B[43m(\u001B[49m\u001B[43mfs\u001B[49m\u001B[38;5;241;43m=\u001B[39;49m\u001B[43mfs\u001B[49m\u001B[43m,\u001B[49m\u001B[43m \u001B[49m\u001B[43mthrow_except\u001B[49m\u001B[38;5;241;43m=\u001B[39;49m\u001B[43mthrow_except\u001B[49m\u001B[43m,\u001B[49m\n\u001B[0;32m    467\u001B[0m \u001B[43m                           \u001B[49m\u001B[43mtimeout\u001B[49m\u001B[38;5;241;43m=\u001B[39;49m\u001B[43mtimeout\u001B[49m\u001B[43m,\u001B[49m\u001B[43m \u001B[49m\u001B[43mdownload_results\u001B[49m\u001B[38;5;241;43m=\u001B[39;49m\u001B[38;5;28;43;01mTrue\u001B[39;49;00m\u001B[43m,\u001B[49m\n\u001B[0;32m    468\u001B[0m \u001B[43m                           \u001B[49m\u001B[43mthreadpool_size\u001B[49m\u001B[38;5;241;43m=\u001B[39;49m\u001B[43mthreadpool_size\u001B[49m\u001B[43m,\u001B[49m\n\u001B[0;32m    469\u001B[0m \u001B[43m                           \u001B[49m\u001B[43mwait_dur_sec\u001B[49m\u001B[38;5;241;43m=\u001B[39;49m\u001B[43mwait_dur_sec\u001B[49m\u001B[43m)\u001B[49m\n\u001B[0;32m    470\u001B[0m     result \u001B[38;5;241m=\u001B[39m []\n\u001B[0;32m    471\u001B[0m     fs_done \u001B[38;5;241m=\u001B[39m [f \u001B[38;5;28;01mfor\u001B[39;00m f \u001B[38;5;129;01min\u001B[39;00m fs_done \u001B[38;5;28;01mif\u001B[39;00m \u001B[38;5;129;01mnot\u001B[39;00m f\u001B[38;5;241m.\u001B[39mfutures \u001B[38;5;129;01mand\u001B[39;00m f\u001B[38;5;241m.\u001B[39m_produce_output]\n",
      "File \u001B[1;32m~\\CloudLab_things\\anaconda3\\envs\\geospatial_use\\lib\\site-packages\\lithops\\executors.py:439\u001B[0m, in \u001B[0;36mFunctionExecutor.wait\u001B[1;34m(self, fs, throw_except, return_when, download_results, timeout, threadpool_size, wait_dur_sec)\u001B[0m\n\u001B[0;32m    437\u001B[0m         \u001B[38;5;28mself\u001B[39m\u001B[38;5;241m.\u001B[39mcompute_handler\u001B[38;5;241m.\u001B[39mclear(present_jobs)\n\u001B[0;32m    438\u001B[0m         \u001B[38;5;28mself\u001B[39m\u001B[38;5;241m.\u001B[39mclean(clean_cloudobjects\u001B[38;5;241m=\u001B[39m\u001B[38;5;28;01mFalse\u001B[39;00m, force\u001B[38;5;241m=\u001B[39m\u001B[38;5;28;01mTrue\u001B[39;00m)\n\u001B[1;32m--> 439\u001B[0m     \u001B[38;5;28;01mraise\u001B[39;00m e\n\u001B[0;32m    441\u001B[0m \u001B[38;5;28;01mif\u001B[39;00m download_results:\n\u001B[0;32m    442\u001B[0m     fs_done \u001B[38;5;241m=\u001B[39m [f \u001B[38;5;28;01mfor\u001B[39;00m f \u001B[38;5;129;01min\u001B[39;00m futures \u001B[38;5;28;01mif\u001B[39;00m f\u001B[38;5;241m.\u001B[39mdone]\n",
      "File \u001B[1;32m~\\CloudLab_things\\anaconda3\\envs\\geospatial_use\\lib\\site-packages\\lithops\\executors.py:415\u001B[0m, in \u001B[0;36mFunctionExecutor.wait\u001B[1;34m(self, fs, throw_except, return_when, download_results, timeout, threadpool_size, wait_dur_sec)\u001B[0m\n\u001B[0;32m    413\u001B[0m \u001B[38;5;66;03m# Start waiting for results\u001B[39;00m\n\u001B[0;32m    414\u001B[0m \u001B[38;5;28;01mtry\u001B[39;00m:\n\u001B[1;32m--> 415\u001B[0m     \u001B[43mwait\u001B[49m\u001B[43m(\u001B[49m\u001B[43mfs\u001B[49m\u001B[38;5;241;43m=\u001B[39;49m\u001B[43mfutures\u001B[49m\u001B[43m,\u001B[49m\n\u001B[0;32m    416\u001B[0m \u001B[43m         \u001B[49m\u001B[43minternal_storage\u001B[49m\u001B[38;5;241;43m=\u001B[39;49m\u001B[38;5;28;43mself\u001B[39;49m\u001B[38;5;241;43m.\u001B[39;49m\u001B[43minternal_storage\u001B[49m\u001B[43m,\u001B[49m\n\u001B[0;32m    417\u001B[0m \u001B[43m         \u001B[49m\u001B[43mjob_monitor\u001B[49m\u001B[38;5;241;43m=\u001B[39;49m\u001B[38;5;28;43mself\u001B[39;49m\u001B[38;5;241;43m.\u001B[39;49m\u001B[43mjob_monitor\u001B[49m\u001B[43m,\u001B[49m\n\u001B[0;32m    418\u001B[0m \u001B[43m         \u001B[49m\u001B[43mdownload_results\u001B[49m\u001B[38;5;241;43m=\u001B[39;49m\u001B[43mdownload_results\u001B[49m\u001B[43m,\u001B[49m\n\u001B[0;32m    419\u001B[0m \u001B[43m         \u001B[49m\u001B[43mthrow_except\u001B[49m\u001B[38;5;241;43m=\u001B[39;49m\u001B[43mthrow_except\u001B[49m\u001B[43m,\u001B[49m\n\u001B[0;32m    420\u001B[0m \u001B[43m         \u001B[49m\u001B[43mreturn_when\u001B[49m\u001B[38;5;241;43m=\u001B[39;49m\u001B[43mreturn_when\u001B[49m\u001B[43m,\u001B[49m\n\u001B[0;32m    421\u001B[0m \u001B[43m         \u001B[49m\u001B[43mtimeout\u001B[49m\u001B[38;5;241;43m=\u001B[39;49m\u001B[43mtimeout\u001B[49m\u001B[43m,\u001B[49m\n\u001B[0;32m    422\u001B[0m \u001B[43m         \u001B[49m\u001B[43mthreadpool_size\u001B[49m\u001B[38;5;241;43m=\u001B[39;49m\u001B[43mthreadpool_size\u001B[49m\u001B[43m,\u001B[49m\n\u001B[0;32m    423\u001B[0m \u001B[43m         \u001B[49m\u001B[43mwait_dur_sec\u001B[49m\u001B[38;5;241;43m=\u001B[39;49m\u001B[43mwait_dur_sec\u001B[49m\u001B[43m)\u001B[49m\n\u001B[0;32m    425\u001B[0m     \u001B[38;5;28;01mif\u001B[39;00m \u001B[38;5;28mself\u001B[39m\u001B[38;5;241m.\u001B[39mdata_cleaner \u001B[38;5;129;01mand\u001B[39;00m return_when \u001B[38;5;241m==\u001B[39m ALL_COMPLETED:\n\u001B[0;32m    426\u001B[0m         present_jobs \u001B[38;5;241m=\u001B[39m {f\u001B[38;5;241m.\u001B[39mjob_key \u001B[38;5;28;01mfor\u001B[39;00m f \u001B[38;5;129;01min\u001B[39;00m futures}\n",
      "File \u001B[1;32m~\\CloudLab_things\\anaconda3\\envs\\geospatial_use\\lib\\site-packages\\lithops\\wait.py:153\u001B[0m, in \u001B[0;36mwait\u001B[1;34m(fs, internal_storage, job_monitor, throw_except, return_when, download_results, timeout, threadpool_size, wait_dur_sec)\u001B[0m\n\u001B[0;32m    151\u001B[0m         \u001B[38;5;28mprint\u001B[39m()\n\u001B[0;32m    152\u001B[0m     logger\u001B[38;5;241m.\u001B[39minfo(msg)\n\u001B[1;32m--> 153\u001B[0m     \u001B[38;5;28;01mraise\u001B[39;00m e\n\u001B[0;32m    155\u001B[0m \u001B[38;5;28;01mexcept\u001B[39;00m \u001B[38;5;167;01mException\u001B[39;00m \u001B[38;5;28;01mas\u001B[39;00m e:\n\u001B[0;32m    156\u001B[0m     \u001B[38;5;28;01mraise\u001B[39;00m e\n",
      "File \u001B[1;32m~\\CloudLab_things\\anaconda3\\envs\\geospatial_use\\lib\\site-packages\\lithops\\wait.py:141\u001B[0m, in \u001B[0;36mwait\u001B[1;34m(fs, internal_storage, job_monitor, throw_except, return_when, download_results, timeout, threadpool_size, wait_dur_sec)\u001B[0m\n\u001B[0;32m    136\u001B[0m             \u001B[38;5;28;01mfor\u001B[39;00m executor_data \u001B[38;5;129;01min\u001B[39;00m executors_data:\n\u001B[0;32m    137\u001B[0m                 new_data \u001B[38;5;241m=\u001B[39m _get_executor_data(fs, executor_data, pbar\u001B[38;5;241m=\u001B[39mpbar,\n\u001B[0;32m    138\u001B[0m                                               throw_except\u001B[38;5;241m=\u001B[39mthrow_except,\n\u001B[0;32m    139\u001B[0m                                               download_results\u001B[38;5;241m=\u001B[39mdownload_results,\n\u001B[0;32m    140\u001B[0m                                               threadpool_size\u001B[38;5;241m=\u001B[39mthreadpool_size)\n\u001B[1;32m--> 141\u001B[0m             \u001B[43mtime\u001B[49m\u001B[38;5;241;43m.\u001B[39;49m\u001B[43msleep\u001B[49m\u001B[43m(\u001B[49m\u001B[38;5;241;43m0\u001B[39;49m\u001B[43m \u001B[49m\u001B[38;5;28;43;01mif\u001B[39;49;00m\u001B[43m \u001B[49m\u001B[43mnew_data\u001B[49m\u001B[43m \u001B[49m\u001B[38;5;28;43;01melse\u001B[39;49;00m\u001B[43m \u001B[49m\u001B[43msleep_sec\u001B[49m\u001B[43m)\u001B[49m\n\u001B[0;32m    143\u001B[0m \u001B[38;5;28;01mexcept\u001B[39;00m \u001B[38;5;167;01mKeyboardInterrupt\u001B[39;00m \u001B[38;5;28;01mas\u001B[39;00m e:\n\u001B[0;32m    144\u001B[0m     \u001B[38;5;28;01mif\u001B[39;00m download_results:\n",
      "\u001B[1;31mKeyboardInterrupt\u001B[0m: "
     ]
    }
   ],
   "source": [
    "'''for workers in parallel_workers:\n",
    "    print('Workers: ' + str(workers))\n",
    "    fexec = lithops.FunctionExecutor(\n",
    "\n",
    "        max_workers=workers, # Tells lithops to work w/only this number of concurrent workers\n",
    "        log_level=\"DEBUG\"\n",
    "    )\n",
    "    fexec.map(calculate_models, f'cos://{DATA_BUCKET}/{INPUT_DATA_PREFIX}')\n",
    "    fexec.get_result()\n",
    "\n",
    "    tstamps = set()\n",
    "    for future in fexec.futures:\n",
    "        for key in future.stats.keys():\n",
    "            if key.endswith(\"tstamp\"):\n",
    "                tstamps.add(future.stats[key])\n",
    "    duration = max(tstamps) - min(tstamps)\n",
    "    experiment_duration[workers] = duration'''"
   ],
   "metadata": {
    "collapsed": false,
    "pycharm": {
     "name": "#%%\n"
    }
   }
  },
  {
   "cell_type": "code",
   "execution_count": null,
   "outputs": [],
   "source": [
    "# experiment_duration"
   ],
   "metadata": {
    "collapsed": false,
    "pycharm": {
     "name": "#%%\n"
    }
   }
  },
  {
   "cell_type": "code",
   "execution_count": null,
   "outputs": [],
   "source": [
    "'''duration = list(experiment_duration.values())\n",
    "theoretical_best_speedup = [(1 - parallel_workers[0] / parallel_workers[i]) * 100 for i in range(0, len(parallel_workers))]\n",
    "actual_speedup = [(1 - duration[i] / duration[0]) * 100 for i in range(0, len(duration))]\n",
    "\n",
    "plt.plot(\n",
    "    parallel_workers,\n",
    "    theoretical_best_speedup\n",
    ")\n",
    "plt.plot(\n",
    "    parallel_workers,\n",
    "    actual_speedup\n",
    ")\n",
    "plt.xlabel(\"Number of workers\")\n",
    "plt.ylabel(\"% time reduced, relative to first experiment\")\n",
    "plt.legend([\"Ideal speedup\", \"Lithops speedup (this experiment)\"])'''"
   ],
   "metadata": {
    "collapsed": false,
    "pycharm": {
     "name": "#%%\n"
    }
   }
  },
  {
   "cell_type": "code",
   "execution_count": null,
   "outputs": [],
   "source": [
    "# fexec.futures = []     # Clean stats"
   ],
   "metadata": {
    "collapsed": false,
    "pycharm": {
     "name": "#%%\n"
    }
   }
  }
 ],
 "metadata": {
  "interpreter": {
   "hash": "fc28e218f8aa598d7201f1426aba0b64c29ddf364b0850b5108205e3c665e009"
  },
  "kernelspec": {
   "display_name": "Python 3.9.5 ('venv': venv)",
   "language": "python",
   "name": "python3"
  },
  "language_info": {
   "codemirror_mode": {
    "name": "ipython",
    "version": 3
   },
   "file_extension": ".py",
   "mimetype": "text/x-python",
   "name": "python",
   "nbconvert_exporter": "python",
   "pygments_lexer": "ipython3",
   "version": "3.9.5"
  },
  "orig_nbformat": 4
 },
 "nbformat": 4,
 "nbformat_minor": 2
}