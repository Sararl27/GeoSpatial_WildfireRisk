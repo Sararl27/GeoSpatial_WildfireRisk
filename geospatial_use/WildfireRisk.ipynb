{
 "cells": [
  {
   "cell_type": "markdown",
   "metadata": {
    "pycharm": {
     "name": "#%% md\n"
    }
   },
   "source": [
    "# Cloudbutton geospatial use case: 3D fuel mapping for wildfire risk assessment\n"
   ]
  },
  {
   "cell_type": "code",
   "execution_count": 1,
   "metadata": {
    "pycharm": {
     "name": "#%%\n"
    }
   },
   "outputs": [],
   "source": [
    "import datetime\n",
    "# from sklearn.naive_bayes import GaussianNB\n",
    "# from sklearn import model_selection\n",
    "# from sklearn.linear_model import LogisticRegression\n",
    "# from sklearn.preprocessing import scale, StandardScaler\n",
    "# from sklearn.metrics import silhouette_score\n",
    "# from sklearn.cluster import KMeans\n",
    "# from shapely.geometry import mapping\n",
    "from IPython.display import Image\n",
    "# from IPython.core.display import HTML\n",
    "# from shapely.geometry import mapping\n",
    "# import rasterio as rio\n",
    "# from sklearn.pipeline import Pipeline\n",
    "# from rasterio.mask import mask\n",
    "# from rasterio.plot import show\n",
    "# from rasterio.merge import merge\n",
    "# from rasterio.plot import show\n",
    "# from rasterio.plot import show_hist\n",
    "# from rasterio.windows import Window\n",
    "# from rasterio.plot import reshape_as_raster\n",
    "# from rasterio.plot import reshape_as_image\n",
    "from lithops.storage import Storage\n",
    "import matplotlib.pyplot as plt\n",
    "# import geopandas as gpd\n",
    "import pandas as pd\n",
    "import numpy as np\n",
    "import lithops\n",
    "import pathlib\n",
    "# import shapely\n",
    "import shutil\n",
    "# import pickle\n",
    "import subprocess\n",
    "# import concurrent.futures\n",
    "# import joblib\n",
    "# import gdal\n",
    "# import earthpy as ep\n",
    "# import earthpy.spatial as es\n",
    "# import time\n",
    "# import glob\n",
    "# import ogr\n",
    "import os\n",
    "# import io\n",
    "# import pdal\n",
    "# import xarray as xr\n",
    "import json\n",
    "# from matplotlib.colors import ListedColormap, BoundaryNorm"
   ]
  },
  {
   "cell_type": "code",
   "execution_count": 2,
   "outputs": [],
   "source": [
    "DIR_TO_EXECT = \"\" # 20GB/10GB/2GB/1GB/512M/B256MB/128MB\n",
    "DATA_BUCKET = 'objects-geospatial-wildfirerisk-0'\n",
    "INPUT_DATA_PREFIX = f'data-example/{DIR_TO_EXECT}' # Modified"
   ],
   "metadata": {
    "collapsed": false,
    "pycharm": {
     "name": "#%%\n"
    }
   }
  },
  {
   "cell_type": "code",
   "execution_count": 3,
   "outputs": [],
   "source": [
    "# !export LITHOPS_CONFIG_FILE = \"/home/aitor/Projects/lithops-github/lithops/.lithops_config\"\n",
    "# os.environ['LITHOPS_CONFIG_FILE'] = '/home/aitor/Projects/lithops-github/lithops/.lithops_config'"
   ],
   "metadata": {
    "collapsed": false,
    "pycharm": {
     "name": "#%%\n"
    }
   }
  },
  {
   "cell_type": "markdown",
   "source": [
    "Experiment parameters\n"
   ],
   "metadata": {
    "collapsed": false,
    "pycharm": {
     "name": "#%% md\n"
    }
   }
  },
  {
   "cell_type": "code",
   "execution_count": 4,
   "outputs": [],
   "source": [
    "FCC_WINDOW = 3\n",
    "FCC_BREAKPOINT = 0.01"
   ],
   "metadata": {
    "collapsed": false,
    "pycharm": {
     "name": "#%%\n"
    }
   }
  },
  {
   "cell_type": "markdown",
   "source": [
    "---\n",
    "Upload dataset\n",
    "---\n"
   ],
   "metadata": {
    "collapsed": false,
    "pycharm": {
     "name": "#%% md\n"
    }
   }
  },
  {
   "cell_type": "code",
   "execution_count": 5,
   "outputs": [],
   "source": [
    "LOCAL_INPUT_DIR = f'./data/{DIR_TO_EXECT}'"
   ],
   "metadata": {
    "collapsed": false,
    "pycharm": {
     "name": "#%%\n"
    }
   }
  },
  {
   "cell_type": "code",
   "execution_count": 6,
   "outputs": [],
   "source": [
    "storage = Storage()"
   ],
   "metadata": {
    "collapsed": false,
    "pycharm": {
     "name": "#%%\n"
    }
   }
  },
  {
   "cell_type": "code",
   "execution_count": 7,
   "outputs": [
    {
     "name": "stdout",
     "output_type": "stream",
     "text": [
      "It is already uploaded: data-example/PNOA_2017_CLM-CAS_242-4422_ORT-CLA-RGB.laz...\n",
      "It is already uploaded: data-example/PNOA_2017_CLM-CAS_274-4464_ORT-CLA-RGB.laz...\n",
      "It is already uploaded: data-example/PNOA_2017_CLM-CAS_278-4470_ORT-CLA-RGB.laz...\n",
      "It is already uploaded: data-example/PNOA_2017_CLM-CAS_650-4434_ORT-CLA-RGB.laz...\n",
      "It is already uploaded: data-example/PNOA_2017_CLM-CAS_742-4404_ORT-CLA-RGB.laz...\n",
      "It is already uploaded: data-example/PNOA_2017_CLM-CAS_748-4414_ORT-CLA-RGB.laz...\n"
     ]
    },
    {
     "data": {
      "text/plain": "\"\\nfor file_name in os.listdir(LOCAL_INPUT_DIR):\\n    if file_name not in bucket_objects:\\n        key = os.path.join(INPUT_DATA_PREFIX, file_name)\\n        with open(os.path.join(LOCAL_INPUT_DIR, file_name), 'rb') as file:\\n            print(f'Uploading {key}...')\\n            data = file.read()\\n            storage.put_object(bucket=DATA_BUCKET, key=key, body=data)\\n            print('Ok!')\\n# storage.put_object()\\n\""
     },
     "execution_count": 7,
     "metadata": {},
     "output_type": "execute_result"
    }
   ],
   "source": [
    "bucket_objects = storage.list_keys(bucket=DATA_BUCKET)\n",
    "for file_name in os.listdir(LOCAL_INPUT_DIR):\n",
    "    key = os.path.join(INPUT_DATA_PREFIX, file_name)    # Added\n",
    "    if key not in bucket_objects:   # Changed: if file_name not in bucket_objects:\n",
    "        with open(os.path.join(LOCAL_INPUT_DIR, file_name), 'rb') as file:\n",
    "            print(f'Uploading {key}...')\n",
    "            data = file.read()\n",
    "            storage.put_object(bucket=DATA_BUCKET, key=key, body=data)\n",
    "            print('Ok!')\n",
    "    else:   # Added\n",
    "        print(f'It is already uploaded: {key}...')   # Added\n",
    "'''\n",
    "for file_name in os.listdir(LOCAL_INPUT_DIR):\n",
    "    if file_name not in bucket_objects:\n",
    "        key = os.path.join(INPUT_DATA_PREFIX, file_name)\n",
    "        with open(os.path.join(LOCAL_INPUT_DIR, file_name), 'rb') as file:\n",
    "            print(f'Uploading {key}...')\n",
    "            data = file.read()\n",
    "            storage.put_object(bucket=DATA_BUCKET, key=key, body=data)\n",
    "            print('Ok!')\n",
    "# storage.put_object()\n",
    "'''"
   ],
   "metadata": {
    "collapsed": false,
    "pycharm": {
     "name": "#%%\n"
    }
   }
  },
  {
   "cell_type": "markdown",
   "source": [
    "---\n",
    "Calculte DEM, DSM and CHM\n",
    "---\n"
   ],
   "metadata": {
    "collapsed": false,
    "pycharm": {
     "name": "#%% md\n"
    }
   }
  },
  {
   "cell_type": "code",
   "execution_count": 8,
   "outputs": [],
   "source": [
    "def calculate_models(obj, storage):\n",
    "    import pdal\n",
    "    from osgeo import gdal\n",
    "    from scipy import ndimage\n",
    "\n",
    "    # Create temporary file paths\n",
    "    tmp_path_prefix = '/tmp/geo/'\n",
    "    if os.path.exists(tmp_path_prefix):\n",
    "        shutil.rmtree(tmp_path_prefix)\n",
    "    for subpath in ['dsm', 'dem', 'chm', 'aspect', 'slope', 'fcc']:\n",
    "        os.makedirs(os.path.join(tmp_path_prefix, subpath), exist_ok=True)\n",
    "\n",
    "    las_tile_filename = pathlib.Path(obj.key).name\n",
    "    tile_key = pathlib.Path(obj.key).stem\n",
    "\n",
    "    # Save obj to file\n",
    "    data = obj.data_stream.read()\n",
    "    input_file_path = os.path.join(tmp_path_prefix, las_tile_filename)\n",
    "    with open(input_file_path, 'wb') as file:\n",
    "        file.write(data)\n",
    "\n",
    "    # DSM pipeline\n",
    "    dsm_file_path = os.path.join(tmp_path_prefix, 'dsm', tile_key + '.gtiff')\n",
    "    dsm_pipeline_json = {\n",
    "        \"pipeline\": [\n",
    "            {\n",
    "                \"type\": \"readers.las\",\n",
    "                \"filename\": f\"{input_file_path}\",\n",
    "                \"spatialreference\": \"EPSG:25830\"\n",
    "            },\n",
    "            {\n",
    "                \"type\": \"filters.reprojection\",\n",
    "                \"in_srs\": \"EPSG:25830\",\n",
    "                \"out_srs\": \"EPSG:25830\"\n",
    "            },\n",
    "            {\n",
    "                \"type\": \"filters.outlier\",\n",
    "                \"method\": \"radius\",\n",
    "                \"radius\": 1.0,\n",
    "                \"min_k\": 4\n",
    "            },\n",
    "            {\n",
    "                \"type\": \"filters.range\",\n",
    "                # Classification equals 2 (corresponding to noise points in LAS).\n",
    "                \"limits\": \"Classification![7:7]\"\n",
    "            },\n",
    "            {\n",
    "                \"type\": \"filters.range\",\n",
    "                \"limits\": \"returnnumber[1:1]\"\n",
    "            },\n",
    "            {\n",
    "                \"type\": \"writers.gdal\",\n",
    "                \"gdaldriver\": \"GTiff\",\n",
    "                \"nodata\": \"-9999\",\n",
    "                \"output_type\": \"max\",\n",
    "                \"resolution\": 1,\n",
    "                \"filename\": f\"{dsm_file_path}\"\n",
    "            }\n",
    "        ]\n",
    "    }\n",
    "    dsm_pipeline_json_str = json.dumps(dsm_pipeline_json, indent=4)\n",
    "    pipeline = pdal.Pipeline(dsm_pipeline_json_str)\n",
    "    pipeline.validate()\n",
    "    pipeline.loglevel = 8\n",
    "    print('Executing DSM pipeline...')\n",
    "    result = pipeline.execute()\n",
    "    print(result)\n",
    "\n",
    "    # DEM pipeline\n",
    "    dem_file_path = os.path.join(tmp_path_prefix, 'dem', tile_key + '.gtiff')\n",
    "    dem_pipeline_json = {\n",
    "        \"pipeline\": [\n",
    "            {\n",
    "                \"type\": \"readers.las\",\n",
    "                \"filename\": f\"{input_file_path}\",\n",
    "                \"spatialreference\": \"EPSG:25830\"\n",
    "            },\n",
    "            {\n",
    "                \"type\": \"filters.reprojection\",\n",
    "                \"in_srs\": \"EPSG:25830\",\n",
    "                \"out_srs\": \"EPSG:25830\"\n",
    "            },\n",
    "            {\n",
    "                \"type\": \"filters.assign\",\n",
    "                \"assignment\": \"Classification[:]=0\"\n",
    "            },\n",
    "            {\n",
    "                \"type\": \"filters.elm\"\n",
    "            },\n",
    "            {\n",
    "                \"type\": \"filters.outlier\",\n",
    "                \"method\": \"radius\",\n",
    "                \"radius\": 1.0,\n",
    "                \"min_k\": 4\n",
    "            },\n",
    "            {\n",
    "\n",
    "                \"type\": \"filters.smrf\",\n",
    "                \"ignore\": \"Classification[7:7]\",\n",
    "                \"slope\": 0.2,\n",
    "                \"window\": 16,\n",
    "                \"threshold\": 0.45,\n",
    "                \"scalar\": 1.2\n",
    "            },\n",
    "            {\n",
    "                \"type\": \"filters.range\",\n",
    "                # Classification equals 2 (corresponding to ground in LAS).\n",
    "                \"limits\": \"Classification[2:2]\",\n",
    "            },\n",
    "            {\n",
    "                \"type\": \"writers.gdal\",\n",
    "                \"gdaldriver\": \"GTiff\",\n",
    "                \"nodata\": \"-9999\",\n",
    "                \"output_type\": \"max\",\n",
    "                \"resolution\": 1,\n",
    "                \"filename\": f\"{dem_file_path}\"\n",
    "            }\n",
    "        ]\n",
    "    }\n",
    "    dem_pipeline_json_str = json.dumps(dem_pipeline_json, indent=4)\n",
    "    pipeline = pdal.Pipeline(dem_pipeline_json_str)\n",
    "    pipeline.validate()  # Check if json options are good\n",
    "    pipeline.loglevel = 8\n",
    "    print('Executing DEM pipeline...')\n",
    "    result = pipeline.execute()\n",
    "    print(result)\n",
    "\n",
    "    # calculate CHM\n",
    "    chm_file_path = os.path.join(tmp_path_prefix, 'chm', tile_key + '.tiff')\n",
    "    cmd = ['gdal_calc.py', '-A', dem_file_path, '-B', dsm_file_path,\n",
    "           '--calc=\"B-A\"', '--NoDataValue=0', '--outfile', chm_file_path]\n",
    "    p = subprocess.Popen(cmd, stdout=subprocess.PIPE, stderr=subprocess.PIPE, close_fds=True)\n",
    "    stdout, stderr = p.communicate()\n",
    "    print(stdout, stderr)\n",
    "    # assert p.returncode == 0\n",
    "\n",
    "    # calculate aspect\n",
    "    aspect_file_path = os.path.join(tmp_path_prefix, 'aspect', tile_key + '.tiff')\n",
    "    cmd = ['gdaldem', 'aspect', dem_file_path, aspect_file_path, '-compute_edges']\n",
    "    p = subprocess.Popen(cmd, stdout=subprocess.PIPE, stderr=subprocess.PIPE, close_fds=True)\n",
    "    stdout, stderr = p.communicate()\n",
    "    print(stdout, stderr)\n",
    "    # assert p.returncode == 0\n",
    "\n",
    "    # calculate slope\n",
    "    slope_file_path = os.path.join(tmp_path_prefix, 'slope', tile_key + '.tiff')\n",
    "    cmd = ['gdaldem', 'slope', dem_file_path, slope_file_path, '-compute_edges']\n",
    "    p = subprocess.Popen(cmd, stdout=subprocess.PIPE, stderr=subprocess.PIPE, close_fds=True)\n",
    "    stdout, stderr = p.communicate()\n",
    "    print(stdout, stderr)\n",
    "    # assert p.returncode == 0\n",
    "\n",
    "    # calculate FCC\n",
    "    in_ds = gdal.Open(dem_file_path)\n",
    "    rows = in_ds.RasterYSize\n",
    "    cols = in_ds.RasterXSize\n",
    "    in_band = in_ds.GetRasterBand(1)\n",
    "    data = in_band.ReadAsArray(0, 0, cols, rows).astype(np.float)\n",
    "    data[data > FCC_BREAKPOINT] = 1\n",
    "    data[data <= FCC_BREAKPOINT] = 0\n",
    "\n",
    "    # Computing fraction on the whole raster through a moving window.\n",
    "    def _compute_fraction(array):\n",
    "        nveg = np.sum(array == 1)\n",
    "        total = len(array)\n",
    "        out = (nveg/total)*100\n",
    "        return(out)\n",
    "\n",
    "    TCC = ndimage.generic_filter(data, _compute_fraction, size=FCC_WINDOW)\n",
    "\n",
    "    gtiff_driver = gdal.GetDriverByName(\"GTiff\")\n",
    "    fcc_file_path = os.path.join(tmp_path_prefix, 'fcc', tile_key + '.tiff')\n",
    "    out_ds = gtiff_driver.Create(fcc_file_path, cols, rows, 1, in_band.DataType)\n",
    "    out_ds.SetProjection(in_ds.GetProjection())\n",
    "    out_ds.SetGeoTransform(in_ds.GetGeoTransform())\n",
    "\n",
    "    out_band = out_ds.GetRasterBand(1)\n",
    "    out_band.WriteArray(TCC)\n",
    "    # out_ds.BuildOverviews(\"Average\", [2, 4, 8, 16, 32])\n",
    "    out_ds.FlushCache()\n",
    "    del in_ds, out_ds\n",
    "\n",
    "    outputs = [dsm_file_path, dem_file_path, chm_file_path,\n",
    "               aspect_file_path, slope_file_path, fcc_file_path]\n",
    "    for output_path in outputs:\n",
    "        if os.path.exists(output_path):\n",
    "            with open(output_path, 'rb') as output_file:\n",
    "                data = output_file.read()\n",
    "                cos_key = output_path.replace(tmp_path_prefix, '')\n",
    "                storage.put_object(bucket=DATA_BUCKET, key=cos_key, body=data)\n",
    "        else:\n",
    "            print(f'Failed to upload {output_path}')\n",
    "\n",
    "    out = subprocess.check_output(['find', '/tmp/geo/'])\n",
    "    return out"
   ],
   "metadata": {
    "collapsed": false,
    "pycharm": {
     "name": "#%%\n"
    }
   }
  },
  {
   "cell_type": "code",
   "execution_count": 9,
   "outputs": [
    {
     "name": "stderr",
     "output_type": "stream",
     "text": [
      "2022-05-25 12:35:36,545 [INFO] lithops.config -- Lithops v2.6.0\n",
      "2022-05-25 12:35:36,596 [INFO] lithops.storage.backends.ibm_cos.ibm_cos -- IBM COS client created - Region: eu-de\n",
      "2022-05-25 12:35:36,599 [INFO] lithops.serverless.backends.ibm_cf.ibm_cf -- IBM CF client created - Region: eu-de - Namespace: my-geospatial-wildfirerisk_foundry-geospatial-wildfirerisk-0\n"
     ]
    }
   ],
   "source": [
    "fexec = lithops.FunctionExecutor(monitoring='rabbitmq')"
   ],
   "metadata": {
    "collapsed": false,
    "pycharm": {
     "name": "#%%\n"
    }
   }
  },
  {
   "cell_type": "code",
   "execution_count": 10,
   "outputs": [
    {
     "name": "stderr",
     "output_type": "stream",
     "text": [
      "2022-05-25 12:35:36,630 [INFO] lithops.invokers -- ExecutorID f85779-0 | JobID M000 - Selected Runtime: sararl27/lithops-ibm_cf-runtime-3.9:0.1 - 2048MB\n",
      "2022-05-25 12:35:41,686 [INFO] lithops.invokers -- ExecutorID f85779-0 | JobID M000 - Starting function invocation: calculate_models() - Total: 6 activations\n",
      "2022-05-25 12:35:41,702 [INFO] lithops.invokers -- ExecutorID f85779-0 | JobID M000 - View execution logs at C:\\Users\\saral\\AppData\\Local\\Temp\\lithops\\logs\\f85779-0-M000.log\n"
     ]
    },
    {
     "data": {
      "text/plain": "[<lithops.future.ResponseFuture at 0x1e143a8d4c0>,\n <lithops.future.ResponseFuture at 0x1e143a8d4f0>,\n <lithops.future.ResponseFuture at 0x1e143a95d30>,\n <lithops.future.ResponseFuture at 0x1e143a95ca0>,\n <lithops.future.ResponseFuture at 0x1e143a95d00>,\n <lithops.future.ResponseFuture at 0x1e143a95c40>]"
     },
     "execution_count": 10,
     "metadata": {},
     "output_type": "execute_result"
    }
   ],
   "source": [
    "fexec.map(calculate_models, f'cos://{DATA_BUCKET}/{INPUT_DATA_PREFIX}')"
   ],
   "metadata": {
    "collapsed": false,
    "pycharm": {
     "name": "#%%\n"
    }
   }
  },
  {
   "cell_type": "code",
   "execution_count": 11,
   "outputs": [
    {
     "name": "stderr",
     "output_type": "stream",
     "text": [
      "2022-05-25 12:35:42,447 [INFO] lithops.wait -- ExecutorID f85779-0 - Getting results from 6 function activations\n"
     ]
    },
    {
     "data": {
      "text/plain": "    0%|          | 0/6  ",
      "application/vnd.jupyter.widget-view+json": {
       "version_major": 2,
       "version_minor": 0,
       "model_id": "f7ded8eb645d4c3ba33c0575bbb4c76c"
      }
     },
     "metadata": {},
     "output_type": "display_data"
    },
    {
     "name": "stderr",
     "output_type": "stream",
     "text": [
      "2022-05-25 12:38:03,349 [INFO] lithops.executors -- ExecutorID f85779-0 - Cleaning temporary data\n"
     ]
    }
   ],
   "source": [
    "res = fexec.get_result()"
   ],
   "metadata": {
    "collapsed": false,
    "pycharm": {
     "name": "#%%\n"
    }
   }
  },
  {
   "cell_type": "code",
   "execution_count": 12,
   "outputs": [],
   "source": [
    "# res"
   ],
   "metadata": {
    "collapsed": false,
    "pycharm": {
     "name": "#%%\n"
    }
   }
  },
  {
   "cell_type": "code",
   "execution_count": 13,
   "outputs": [
    {
     "name": "stdout",
     "output_type": "stream",
     "text": [
      "/tmp/geo/\n",
      "/tmp/geo/fcc\n",
      "/tmp/geo/fcc/PNOA_2017_CLM-CAS_242-4422_ORT-CLA-RGB.tiff\n",
      "/tmp/geo/aspect\n",
      "/tmp/geo/aspect/PNOA_2017_CLM-CAS_242-4422_ORT-CLA-RGB.tiff\n",
      "/tmp/geo/slope\n",
      "/tmp/geo/slope/PNOA_2017_CLM-CAS_242-4422_ORT-CLA-RGB.tiff\n",
      "/tmp/geo/dem\n",
      "/tmp/geo/dem/PNOA_2017_CLM-CAS_242-4422_ORT-CLA-RGB.gtiff\n",
      "/tmp/geo/chm\n",
      "/tmp/geo/chm/PNOA_2017_CLM-CAS_242-4422_ORT-CLA-RGB.tiff\n",
      "/tmp/geo/PNOA_2017_CLM-CAS_242-4422_ORT-CLA-RGB.laz\n",
      "/tmp/geo/dsm\n",
      "/tmp/geo/dsm/PNOA_2017_CLM-CAS_242-4422_ORT-CLA-RGB.gtiff\n",
      "---\n",
      "/tmp/geo/\n",
      "/tmp/geo/chm\n",
      "/tmp/geo/chm/PNOA_2017_CLM-CAS_274-4464_ORT-CLA-RGB.tiff\n",
      "/tmp/geo/dsm\n",
      "/tmp/geo/dsm/PNOA_2017_CLM-CAS_274-4464_ORT-CLA-RGB.gtiff\n",
      "/tmp/geo/PNOA_2017_CLM-CAS_274-4464_ORT-CLA-RGB.laz\n",
      "/tmp/geo/aspect\n",
      "/tmp/geo/aspect/PNOA_2017_CLM-CAS_274-4464_ORT-CLA-RGB.tiff\n",
      "/tmp/geo/slope\n",
      "/tmp/geo/slope/PNOA_2017_CLM-CAS_274-4464_ORT-CLA-RGB.tiff\n",
      "/tmp/geo/dem\n",
      "/tmp/geo/dem/PNOA_2017_CLM-CAS_274-4464_ORT-CLA-RGB.gtiff\n",
      "/tmp/geo/fcc\n",
      "/tmp/geo/fcc/PNOA_2017_CLM-CAS_274-4464_ORT-CLA-RGB.tiff\n",
      "---\n",
      "/tmp/geo/\n",
      "/tmp/geo/chm\n",
      "/tmp/geo/chm/PNOA_2017_CLM-CAS_278-4470_ORT-CLA-RGB.tiff\n",
      "/tmp/geo/dsm\n",
      "/tmp/geo/dsm/PNOA_2017_CLM-CAS_278-4470_ORT-CLA-RGB.gtiff\n",
      "/tmp/geo/aspect\n",
      "/tmp/geo/aspect/PNOA_2017_CLM-CAS_278-4470_ORT-CLA-RGB.tiff\n",
      "/tmp/geo/slope\n",
      "/tmp/geo/slope/PNOA_2017_CLM-CAS_278-4470_ORT-CLA-RGB.tiff\n",
      "/tmp/geo/dem\n",
      "/tmp/geo/dem/PNOA_2017_CLM-CAS_278-4470_ORT-CLA-RGB.gtiff\n",
      "/tmp/geo/fcc\n",
      "/tmp/geo/fcc/PNOA_2017_CLM-CAS_278-4470_ORT-CLA-RGB.tiff\n",
      "/tmp/geo/PNOA_2017_CLM-CAS_278-4470_ORT-CLA-RGB.laz\n",
      "---\n",
      "/tmp/geo/\n",
      "/tmp/geo/dem\n",
      "/tmp/geo/dem/PNOA_2017_CLM-CAS_650-4434_ORT-CLA-RGB.gtiff\n",
      "/tmp/geo/PNOA_2017_CLM-CAS_650-4434_ORT-CLA-RGB.laz\n",
      "/tmp/geo/chm\n",
      "/tmp/geo/fcc\n",
      "/tmp/geo/fcc/PNOA_2017_CLM-CAS_650-4434_ORT-CLA-RGB.tiff\n",
      "/tmp/geo/aspect\n",
      "/tmp/geo/aspect/PNOA_2017_CLM-CAS_650-4434_ORT-CLA-RGB.tiff\n",
      "/tmp/geo/slope\n",
      "/tmp/geo/slope/PNOA_2017_CLM-CAS_650-4434_ORT-CLA-RGB.tiff\n",
      "/tmp/geo/dsm\n",
      "/tmp/geo/dsm/PNOA_2017_CLM-CAS_650-4434_ORT-CLA-RGB.gtiff\n",
      "---\n",
      "/tmp/geo/\n",
      "/tmp/geo/chm\n",
      "/tmp/geo/chm/PNOA_2017_CLM-CAS_742-4404_ORT-CLA-RGB.tiff\n",
      "/tmp/geo/dsm\n",
      "/tmp/geo/dsm/PNOA_2017_CLM-CAS_742-4404_ORT-CLA-RGB.gtiff\n",
      "/tmp/geo/aspect\n",
      "/tmp/geo/aspect/PNOA_2017_CLM-CAS_742-4404_ORT-CLA-RGB.tiff\n",
      "/tmp/geo/slope\n",
      "/tmp/geo/slope/PNOA_2017_CLM-CAS_742-4404_ORT-CLA-RGB.tiff\n",
      "/tmp/geo/dem\n",
      "/tmp/geo/dem/PNOA_2017_CLM-CAS_742-4404_ORT-CLA-RGB.gtiff\n",
      "/tmp/geo/fcc\n",
      "/tmp/geo/fcc/PNOA_2017_CLM-CAS_742-4404_ORT-CLA-RGB.tiff\n",
      "/tmp/geo/PNOA_2017_CLM-CAS_742-4404_ORT-CLA-RGB.laz\n",
      "---\n",
      "/tmp/geo/\n",
      "/tmp/geo/dem\n",
      "/tmp/geo/dem/PNOA_2017_CLM-CAS_748-4414_ORT-CLA-RGB.gtiff\n",
      "/tmp/geo/chm\n",
      "/tmp/geo/chm/PNOA_2017_CLM-CAS_748-4414_ORT-CLA-RGB.tiff\n",
      "/tmp/geo/PNOA_2017_CLM-CAS_748-4414_ORT-CLA-RGB.laz\n",
      "/tmp/geo/fcc\n",
      "/tmp/geo/fcc/PNOA_2017_CLM-CAS_748-4414_ORT-CLA-RGB.tiff\n",
      "/tmp/geo/aspect\n",
      "/tmp/geo/aspect/PNOA_2017_CLM-CAS_748-4414_ORT-CLA-RGB.tiff\n",
      "/tmp/geo/slope\n",
      "/tmp/geo/slope/PNOA_2017_CLM-CAS_748-4414_ORT-CLA-RGB.tiff\n",
      "/tmp/geo/dsm\n",
      "/tmp/geo/dsm/PNOA_2017_CLM-CAS_748-4414_ORT-CLA-RGB.gtiff\n",
      "---\n"
     ]
    }
   ],
   "source": [
    "for r in res:\n",
    "    print(r.decode('utf-8').strip())\n",
    "    print('---')"
   ],
   "metadata": {
    "collapsed": false,
    "pycharm": {
     "name": "#%%\n"
    }
   }
  },
  {
   "cell_type": "markdown",
   "source": [
    "---\n",
    "Scalability\n",
    "---"
   ],
   "metadata": {
    "collapsed": false,
    "pycharm": {
     "name": "#%% md\n"
    }
   }
  },
  {
   "cell_type": "markdown",
   "source": [
    "#### Time"
   ],
   "metadata": {
    "collapsed": false,
    "pycharm": {
     "name": "#%% md\n"
    }
   }
  },
  {
   "cell_type": "code",
   "execution_count": 14,
   "outputs": [],
   "source": [
    "# fexec.futures"
   ],
   "metadata": {
    "collapsed": false,
    "pycharm": {
     "name": "#%%\n"
    }
   }
  },
  {
   "cell_type": "code",
   "execution_count": 15,
   "outputs": [
    {
     "name": "stderr",
     "output_type": "stream",
     "text": [
      "2022-05-25 12:38:05,605 [INFO] lithops.executors -- ExecutorID f85779-0 - Creating execution plots\n"
     ]
    }
   ],
   "source": [
    "fexec.plot(dst=\"plotS/scalability\")"
   ],
   "metadata": {
    "collapsed": false,
    "pycharm": {
     "name": "#%%\n"
    }
   }
  },
  {
   "cell_type": "code",
   "execution_count": 16,
   "outputs": [
    {
     "data": {
      "image/png": "[encoded data removed]",
      "text/plain": "<IPython.core.display.Image object>"
     },
     "execution_count": 16,
     "metadata": {},
     "output_type": "execute_result"
    }
   ],
   "source": [
    "Image(filename=\"plots/scalability_histogram.png\")"
   ],
   "metadata": {
    "collapsed": false,
    "pycharm": {
     "name": "#%%\n"
    }
   }
  },
  {
   "cell_type": "code",
   "execution_count": 17,
   "outputs": [
    {
     "data": {
      "image/png": "[encoded data removed]",
      "text/plain": "<IPython.core.display.Image object>"
     },
     "execution_count": 17,
     "metadata": {},
     "output_type": "execute_result"
    }
   ],
   "source": [
    "Image(filename=\"plots/scalability_timeline.png\")"
   ],
   "metadata": {
    "collapsed": false,
    "pycharm": {
     "name": "#%%\n"
    }
   }
  },
  {
   "cell_type": "markdown",
   "source": [
    "#### Throughput"
   ],
   "metadata": {
    "collapsed": false,
    "pycharm": {
     "name": "#%% md\n"
    }
   }
  },
  {
   "cell_type": "markdown",
   "source": [
    "Read"
   ],
   "metadata": {
    "collapsed": false,
    "pycharm": {
     "name": "#%% md\n"
    }
   }
  },
  {
   "cell_type": "code",
   "execution_count": 18,
   "outputs": [
    {
     "name": "stdout",
     "output_type": "stream",
     "text": [
      "Data size: 43.343241691589355 MiB\n"
     ]
    }
   ],
   "source": [
    "data_size_read = sum(obj['Size'] for obj in storage.list_objects(DATA_BUCKET) if str(obj['Key']).endswith('.laz'))\n",
    "print(f\"Data size: {data_size_read / 1024**2} MiB\")"
   ],
   "metadata": {
    "collapsed": false,
    "pycharm": {
     "name": "#%%\n"
    }
   }
  },
  {
   "cell_type": "markdown",
   "source": [
    "Write"
   ],
   "metadata": {
    "collapsed": false,
    "pycharm": {
     "name": "#%% md\n"
    }
   }
  },
  {
   "cell_type": "code",
   "execution_count": 19,
   "outputs": [
    {
     "name": "stdout",
     "output_type": "stream",
     "text": [
      "Data size: 301.35498046875 MiB\n"
     ]
    }
   ],
   "source": [
    "data_size_write = sum(obj['Size'] for obj in storage.list_objects(DATA_BUCKET) if str(obj['Key']).endswith('.tiff'))\n",
    "print(f\"Data size: {data_size_write / 1024**2} MiB\")"
   ],
   "metadata": {
    "collapsed": false,
    "pycharm": {
     "name": "#%%\n"
    }
   }
  },
  {
   "cell_type": "code",
   "execution_count": 20,
   "outputs": [
    {
     "name": "stdout",
     "output_type": "stream",
     "text": [
      "Duration: 0:02:27.257095\n"
     ]
    }
   ],
   "source": [
    "tstamps = set()\n",
    "for future in fexec.futures:\n",
    "    for key in future.stats.keys():\n",
    "        if key.endswith(\"tstamp\"):\n",
    "            tstamps.add(future.stats[key])\n",
    "\n",
    "duration = max(tstamps) - min(tstamps)\n",
    "print(\"Duration: \" + str(datetime.timedelta(seconds=duration)))"
   ],
   "metadata": {
    "collapsed": false,
    "pycharm": {
     "name": "#%%\n"
    }
   }
  },
  {
   "cell_type": "code",
   "execution_count": 21,
   "outputs": [],
   "source": [
    "throughput_read = data_size_read / duration  # Bytes/second\n",
    "throughput_write = data_size_write / duration  # Bytes/second"
   ],
   "metadata": {
    "collapsed": false,
    "pycharm": {
     "name": "#%%\n"
    }
   }
  },
  {
   "cell_type": "code",
   "execution_count": 22,
   "outputs": [
    {
     "name": "stdout",
     "output_type": "stream",
     "text": [
      "Throughput: 2.046454738084237 MiB/s\n"
     ]
    }
   ],
   "source": [
    "print(f\"Read throughput: {throughput_read / 1024**2} MiB/s\")\n",
    "print(f\"Write throughput: {throughput_write / 1024**2} MiB/s\")"
   ],
   "metadata": {
    "collapsed": false,
    "pycharm": {
     "name": "#%%\n"
    }
   }
  },
  {
   "cell_type": "markdown",
   "source": [
    "#### Cost"
   ],
   "metadata": {
    "collapsed": false,
    "pycharm": {
     "name": "#%% md\n"
    }
   }
  },
  {
   "cell_type": "code",
   "execution_count": 23,
   "outputs": [],
   "source": [
    "def get_process_cost(fexec):\n",
    "    import pandas as pd\n",
    "    df = pd.read_csv(fexec.log_path)\n",
    "    cost = float(df[df[\"Job_ID\"] == \"Summary\"][\"Cost\"])\n",
    "    return cost"
   ],
   "metadata": {
    "collapsed": false,
    "pycharm": {
     "name": "#%%\n"
    }
   }
  },
  {
   "cell_type": "code",
   "execution_count": 24,
   "outputs": [
    {
     "name": "stderr",
     "output_type": "stream",
     "text": [
      "2022-05-25 12:38:07,138 [INFO] lithops.executors -- View log file logs at C:\\Users\\saral\\AppData\\Local\\Temp\\lithops\\logs\\2022-05-25_12_38_07.csv\n"
     ]
    }
   ],
   "source": [
    "fexec.job_summary()"
   ],
   "metadata": {
    "collapsed": false,
    "pycharm": {
     "name": "#%%\n"
    }
   }
  },
  {
   "cell_type": "code",
   "execution_count": 25,
   "outputs": [
    {
     "data": {
      "text/plain": "    Job_ID          Function  Invocations  Memory(MB)  AvgRuntime      Cost  \\\n0     M000  calculate_models            6       12288   80.032557  0.016327   \n1  Summary                              6       12288   80.032557  0.016327   \n\n  CloudObjects  \n0               \n1            0  ",
      "text/html": "<div>\n<style scoped>\n    .dataframe tbody tr th:only-of-type {\n        vertical-align: middle;\n    }\n\n    .dataframe tbody tr th {\n        vertical-align: top;\n    }\n\n    .dataframe thead th {\n        text-align: right;\n    }\n</style>\n<table border=\"1\" class=\"dataframe\">\n  <thead>\n    <tr style=\"text-align: right;\">\n      <th></th>\n      <th>Job_ID</th>\n      <th>Function</th>\n      <th>Invocations</th>\n      <th>Memory(MB)</th>\n      <th>AvgRuntime</th>\n      <th>Cost</th>\n      <th>CloudObjects</th>\n    </tr>\n  </thead>\n  <tbody>\n    <tr>\n      <th>0</th>\n      <td>M000</td>\n      <td>calculate_models</td>\n      <td>6</td>\n      <td>12288</td>\n      <td>80.032557</td>\n      <td>0.016327</td>\n      <td></td>\n    </tr>\n    <tr>\n      <th>1</th>\n      <td>Summary</td>\n      <td></td>\n      <td>6</td>\n      <td>12288</td>\n      <td>80.032557</td>\n      <td>0.016327</td>\n      <td>0</td>\n    </tr>\n  </tbody>\n</table>\n</div>"
     },
     "execution_count": 25,
     "metadata": {},
     "output_type": "execute_result"
    }
   ],
   "source": [
    "pd.read_csv(fexec.log_path)"
   ],
   "metadata": {
    "collapsed": false,
    "pycharm": {
     "name": "#%%\n"
    }
   }
  },
  {
   "cell_type": "code",
   "execution_count": 26,
   "outputs": [
    {
     "name": "stdout",
     "output_type": "stream",
     "text": [
      "The experiment cost $0.0163.\n"
     ]
    }
   ],
   "source": [
    "cost_interpolation = get_process_cost(fexec)\n",
    "print(f\"The experiment cost ${cost_interpolation:.4f}.\")"
   ],
   "metadata": {
    "collapsed": false,
    "pycharm": {
     "name": "#%%\n"
    }
   }
  }
 ],
 "metadata": {
  "interpreter": {
   "hash": "fc28e218f8aa598d7201f1426aba0b64c29ddf364b0850b5108205e3c665e009"
  },
  "kernelspec": {
   "display_name": "Python 3.9.5 ('venv': venv)",
   "language": "python",
   "name": "python3"
  },
  "language_info": {
   "codemirror_mode": {
    "name": "ipython",
    "version": 3
   },
   "file_extension": ".py",
   "mimetype": "text/x-python",
   "name": "python",
   "nbconvert_exporter": "python",
   "pygments_lexer": "ipython3",
   "version": "3.9.5"
  },
  "orig_nbformat": 4
 },
 "nbformat": 4,
 "nbformat_minor": 2
}