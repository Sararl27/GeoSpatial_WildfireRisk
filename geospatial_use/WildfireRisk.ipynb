{
 "cells": [
  {
   "cell_type": "markdown",
   "metadata": {
    "pycharm": {
     "name": "#%% md\n"
    }
   },
   "source": [
    "# Cloudbutton geospatial use case: 3D fuel mapping for wildfire risk assessment\n"
   ]
  },
  {
   "cell_type": "code",
   "execution_count": 121,
   "metadata": {
    "pycharm": {
     "name": "#%%\n"
    }
   },
   "outputs": [],
   "source": [
    "import pylab\n",
    "# from sklearn.naive_bayes import GaussianNB\n",
    "# from sklearn import model_selection\n",
    "# from sklearn.linear_model import LogisticRegression\n",
    "# from sklearn.preprocessing import scale, StandardScaler\n",
    "# from sklearn.metrics import silhouette_score\n",
    "# from sklearn.cluster import KMeans\n",
    "# from shapely.geometry import mapping\n",
    "from IPython.display import Image\n",
    "# from IPython.core.display import HTML\n",
    "# from shapely.geometry import mapping\n",
    "# import rasterio as rio\n",
    "# from sklearn.pipeline import Pipeline\n",
    "# from rasterio.mask import mask\n",
    "# from rasterio.plot import show\n",
    "# from rasterio.merge import merge\n",
    "# from rasterio.plot import show\n",
    "# from rasterio.plot import show_hist\n",
    "# from rasterio.windows import Window\n",
    "# from rasterio.plot import reshape_as_raster\n",
    "# from rasterio.plot import reshape_as_image\n",
    "from lithops.storage import Storage\n",
    "import matplotlib.pyplot as plt\n",
    "# import geopandas as gpd\n",
    "import pandas as pd\n",
    "import numpy as np\n",
    "import lithops\n",
    "import pathlib\n",
    "# import shapely\n",
    "import shutil\n",
    "# import pickle\n",
    "import subprocess\n",
    "# import concurrent.futures\n",
    "# import joblib\n",
    "# import gdal\n",
    "# import earthpy as ep\n",
    "# import earthpy.spatial as es\n",
    "import time\n",
    "# import glob\n",
    "# import ogr\n",
    "import os\n",
    "# import io\n",
    "# import pdal\n",
    "# import xarray as xr\n",
    "import json\n",
    "# from matplotlib.colors import ListedColormap, BoundaryNorm"
   ]
  },
  {
   "cell_type": "code",
   "execution_count": 122,
   "metadata": {
    "collapsed": false,
    "pycharm": {
     "name": "#%%\n"
    }
   },
   "outputs": [],
   "source": [
    "DIR_TO_EXECT = \"\" # 20GB/10GB/2GB/1GB/512MB/256MB/128MB\n",
    "DATA_BUCKET_SIZE = {'20GB': '20gb', '10GB': '10gb', '2GB': '2gb', '1GB': '1gb', '512MB':'512mb', '256MB': '256mb', '128MB': '128mb', 'test_size': 'optim-size'}\n",
    "DATA_BUCKET = f'objects-geospatial-wildfirerisk-{DATA_BUCKET_SIZE[\"test_size\"]}' # 'objects-geospatial-wildfirerisk-0'\n",
    "INPUT_DATA_PREFIX = f'data-example/' # Modified"
   ]
  },
  {
   "cell_type": "code",
   "execution_count": 123,
   "metadata": {
    "collapsed": false,
    "pycharm": {
     "name": "#%%\n"
    }
   },
   "outputs": [],
   "source": [
    "# !export LITHOPS_CONFIG_FILE = \"/home/aitor/Projects/lithops-github/lithops/.lithops_config\"\n",
    "# os.environ['LITHOPS_CONFIG_FILE'] = '/home/aitor/Projects/lithops-github/lithops/.lithops_config'"
   ]
  },
  {
   "cell_type": "markdown",
   "metadata": {
    "collapsed": false,
    "pycharm": {
     "name": "#%% md\n"
    }
   },
   "source": [
    "Experiment parameters\n"
   ]
  },
  {
   "cell_type": "code",
   "execution_count": 124,
   "metadata": {
    "collapsed": false,
    "pycharm": {
     "name": "#%%\n"
    }
   },
   "outputs": [],
   "source": [
    "FCC_WINDOW = 3\n",
    "FCC_BREAKPOINT = 0.01"
   ]
  },
  {
   "cell_type": "markdown",
   "metadata": {
    "collapsed": false,
    "pycharm": {
     "name": "#%% md\n"
    }
   },
   "source": [
    "---\n",
    "Upload dataset\n",
    "---\n"
   ]
  },
  {
   "cell_type": "code",
   "execution_count": 125,
   "metadata": {
    "collapsed": false,
    "pycharm": {
     "name": "#%%\n"
    }
   },
   "outputs": [],
   "source": [
    "LOCAL_INPUT_DIR = f'D:\\data\\laz_test_size' # f'./data_example/laz_test_size'"
   ]
  },
  {
   "cell_type": "code",
   "execution_count": 126,
   "metadata": {
    "collapsed": false,
    "pycharm": {
     "name": "#%%\n"
    }
   },
   "outputs": [
    {
     "name": "stderr",
     "output_type": "stream",
     "text": [
      "2022-06-05 23:20:35,040 [INFO] lithops.storage.backends.ibm_cos.ibm_cos -- IBM COS client created - Region: eu-de\n"
     ]
    }
   ],
   "source": [
    "storage = Storage()"
   ]
  },
  {
   "cell_type": "code",
   "execution_count": 127,
   "metadata": {
    "collapsed": false,
    "pycharm": {
     "name": "#%%\n"
    }
   },
   "outputs": [
    {
     "name": "stdout",
     "output_type": "stream",
     "text": [
      "It is already uploaded: data-example/LIDARCATv02ls12f356556ed02.laz...\n",
      "It is already uploaded: data-example/LIDARCATv02ls12f362554ed02.laz...\n",
      "It is already uploaded: data-example/LIDARCATv02ls12f382584ed02.laz...\n",
      "It is already uploaded: data-example/LIDARCATv02ls12f460612ed02.laz...\n",
      "It is already uploaded: data-example/PNOA_2017_CLM-CAS_278-4470_ORT-CLA-RGB.laz...\n"
     ]
    }
   ],
   "source": [
    "bucket_objects = storage.list_keys(bucket=DATA_BUCKET)\n",
    "for file_name in os.listdir(LOCAL_INPUT_DIR):\n",
    "    key = os.path.join(INPUT_DATA_PREFIX, file_name)  # Added\n",
    "    if key not in bucket_objects:   # Changed: if file_name not in bucket_objects:\n",
    "        with open(os.path.join(LOCAL_INPUT_DIR, file_name), 'rb') as file:\n",
    "            print(f'Uploading {key}...')\n",
    "            data = file.read()\n",
    "            storage.put_object(bucket=DATA_BUCKET, key=key, body=data)\n",
    "            print('Ok!')\n",
    "    else:   # Added\n",
    "        print(f'It is already uploaded: {key}...')   # Added"
   ]
  },
  {
   "cell_type": "markdown",
   "metadata": {
    "collapsed": false,
    "pycharm": {
     "name": "#%% md\n"
    }
   },
   "source": [
    "---\n",
    "Calculte DEM, DSM and CHM\n",
    "---\n"
   ]
  },
  {
   "cell_type": "code",
   "execution_count": 128,
   "metadata": {
    "collapsed": false,
    "pycharm": {
     "name": "#%%\n"
    }
   },
   "outputs": [],
   "source": [
    "def calculate_models(obj, storage):\n",
    "    import pdal\n",
    "    from osgeo import gdal\n",
    "    from scipy import ndimage\n",
    "\n",
    "    # Create temporary file paths\n",
    "    tmp_path_prefix = '/tmp/geo/'\n",
    "    if os.path.exists(tmp_path_prefix):\n",
    "        shutil.rmtree(tmp_path_prefix)\n",
    "    for subpath in ['dsm', 'dem', 'chm', 'aspect', 'slope', 'fcc']:\n",
    "        os.makedirs(os.path.join(tmp_path_prefix, subpath), exist_ok=True)\n",
    "\n",
    "    las_tile_filename = pathlib.Path(obj.key).name\n",
    "    tile_key = pathlib.Path(obj.key).stem\n",
    "\n",
    "    # Save obj to file\n",
    "    data = obj.data_stream.read()\n",
    "    input_file_path = os.path.join(tmp_path_prefix, las_tile_filename)\n",
    "    with open(input_file_path, 'wb') as file:\n",
    "        file.write(data)\n",
    "\n",
    "    # DSM pipeline\n",
    "    dsm_file_path = os.path.join(tmp_path_prefix, 'dsm', tile_key + '.gtiff')\n",
    "    dsm_pipeline_json = {\n",
    "        \"pipeline\": [\n",
    "            {\n",
    "                \"type\": \"readers.las\",\n",
    "                \"filename\": f\"{input_file_path}\",\n",
    "                \"spatialreference\": \"EPSG:25830\"\n",
    "            },\n",
    "            {\n",
    "                \"type\": \"filters.reprojection\",\n",
    "                \"in_srs\": \"EPSG:25830\",\n",
    "                \"out_srs\": \"EPSG:25830\"\n",
    "            },\n",
    "            {\n",
    "                \"type\": \"filters.outlier\",\n",
    "                \"method\": \"radius\",\n",
    "                \"radius\": 1.0,\n",
    "                \"min_k\": 4\n",
    "            },\n",
    "            {\n",
    "                \"type\": \"filters.range\",\n",
    "                # Classification equals 2 (corresponding to noise points in LAS).\n",
    "                \"limits\": \"Classification![7:7]\"\n",
    "            },\n",
    "            {\n",
    "                \"type\": \"filters.range\",\n",
    "                \"limits\": \"returnnumber[1:1]\"\n",
    "            },\n",
    "            {\n",
    "                \"type\": \"writers.gdal\",\n",
    "                \"gdaldriver\": \"GTiff\",\n",
    "                \"nodata\": \"-9999\",\n",
    "                \"output_type\": \"max\",\n",
    "                \"resolution\": 1,\n",
    "                \"filename\": f\"{dsm_file_path}\"\n",
    "            }\n",
    "        ]\n",
    "    }\n",
    "    dsm_pipeline_json_str = json.dumps(dsm_pipeline_json, indent=4)\n",
    "    pipeline = pdal.Pipeline(dsm_pipeline_json_str)\n",
    "    pipeline.validate()\n",
    "    pipeline.loglevel = 8\n",
    "    print('Executing DSM pipeline...')\n",
    "    result = pipeline.execute()\n",
    "    print(result)\n",
    "\n",
    "    # DEM pipeline\n",
    "    dem_file_path = os.path.join(tmp_path_prefix, 'dem', tile_key + '.gtiff')\n",
    "    dem_pipeline_json = {\n",
    "        \"pipeline\": [\n",
    "            {\n",
    "                \"type\": \"readers.las\",\n",
    "                \"filename\": f\"{input_file_path}\",\n",
    "                \"spatialreference\": \"EPSG:25830\"\n",
    "            },\n",
    "            {\n",
    "                \"type\": \"filters.reprojection\",\n",
    "                \"in_srs\": \"EPSG:25830\",\n",
    "                \"out_srs\": \"EPSG:25830\"\n",
    "            },\n",
    "            {\n",
    "                \"type\": \"filters.assign\",\n",
    "                \"assignment\": \"Classification[:]=0\"\n",
    "            },\n",
    "            {\n",
    "                \"type\": \"filters.elm\"\n",
    "            },\n",
    "            {\n",
    "                \"type\": \"filters.outlier\",\n",
    "                \"method\": \"radius\",\n",
    "                \"radius\": 1.0,\n",
    "                \"min_k\": 4\n",
    "            },\n",
    "            {\n",
    "\n",
    "                \"type\": \"filters.smrf\",\n",
    "                \"ignore\": \"Classification[7:7]\",\n",
    "                \"slope\": 0.2,\n",
    "                \"window\": 16,\n",
    "                \"threshold\": 0.45,\n",
    "                \"scalar\": 1.2\n",
    "            },\n",
    "            {\n",
    "                \"type\": \"filters.range\",\n",
    "                # Classification equals 2 (corresponding to ground in LAS).\n",
    "                \"limits\": \"Classification[2:2]\",\n",
    "            },\n",
    "            {\n",
    "                \"type\": \"writers.gdal\",\n",
    "                \"gdaldriver\": \"GTiff\",\n",
    "                \"nodata\": \"-9999\",\n",
    "                \"output_type\": \"max\",\n",
    "                \"resolution\": 1,\n",
    "                \"filename\": f\"{dem_file_path}\"\n",
    "            }\n",
    "        ]\n",
    "    }\n",
    "    dem_pipeline_json_str = json.dumps(dem_pipeline_json, indent=4)\n",
    "    pipeline = pdal.Pipeline(dem_pipeline_json_str)\n",
    "    pipeline.validate()  # Check if json options are good\n",
    "    pipeline.loglevel = 8\n",
    "    print('Executing DEM pipeline...')\n",
    "    result = pipeline.execute()\n",
    "    print(result)\n",
    "\n",
    "    # calculate CHM\n",
    "    chm_file_path = os.path.join(tmp_path_prefix, 'chm', tile_key + '.tiff')\n",
    "    cmd = ['gdal_calc.py', '-A', dem_file_path, '-B', dsm_file_path,\n",
    "           '--calc=\"B-A\"', '--NoDataValue=0', '--outfile', chm_file_path]\n",
    "    p = subprocess.Popen(cmd, stdout=subprocess.PIPE, stderr=subprocess.PIPE, close_fds=True)\n",
    "    stdout, stderr = p.communicate()\n",
    "    print(stdout, stderr)\n",
    "    # assert p.returncode == 0\n",
    "\n",
    "    # calculate aspect\n",
    "    aspect_file_path = os.path.join(tmp_path_prefix, 'aspect', tile_key + '.tiff')\n",
    "    cmd = ['gdaldem', 'aspect', dem_file_path, aspect_file_path, '-compute_edges']\n",
    "    p = subprocess.Popen(cmd, stdout=subprocess.PIPE, stderr=subprocess.PIPE, close_fds=True)\n",
    "    stdout, stderr = p.communicate()\n",
    "    print(stdout, stderr)\n",
    "    # assert p.returncode == 0\n",
    "\n",
    "    # calculate slope\n",
    "    slope_file_path = os.path.join(tmp_path_prefix, 'slope', tile_key + '.tiff')\n",
    "    cmd = ['gdaldem', 'slope', dem_file_path, slope_file_path, '-compute_edges']\n",
    "    p = subprocess.Popen(cmd, stdout=subprocess.PIPE, stderr=subprocess.PIPE, close_fds=True)\n",
    "    stdout, stderr = p.communicate()\n",
    "    print(stdout, stderr)\n",
    "    # assert p.returncode == 0\n",
    "\n",
    "    # calculate FCC\n",
    "    in_ds = gdal.Open(dem_file_path)\n",
    "    rows = in_ds.RasterYSize\n",
    "    cols = in_ds.RasterXSize\n",
    "    in_band = in_ds.GetRasterBand(1)\n",
    "    data = in_band.ReadAsArray(0, 0, cols, rows).astype(np.float)\n",
    "    data[data > FCC_BREAKPOINT] = 1\n",
    "    data[data <= FCC_BREAKPOINT] = 0\n",
    "\n",
    "    # Computing fraction on the whole raster through a moving window.\n",
    "    def _compute_fraction(array):\n",
    "        nveg = np.sum(array == 1)\n",
    "        total = len(array)\n",
    "        out = (nveg/total)*100\n",
    "        return(out)\n",
    "\n",
    "    TCC = ndimage.generic_filter(data, _compute_fraction, size=FCC_WINDOW)\n",
    "\n",
    "    gtiff_driver = gdal.GetDriverByName(\"GTiff\")\n",
    "    fcc_file_path = os.path.join(tmp_path_prefix, 'fcc', tile_key + '.tiff')\n",
    "    out_ds = gtiff_driver.Create(fcc_file_path, cols, rows, 1, in_band.DataType)\n",
    "    out_ds.SetProjection(in_ds.GetProjection())\n",
    "    out_ds.SetGeoTransform(in_ds.GetGeoTransform())\n",
    "\n",
    "    out_band = out_ds.GetRasterBand(1)\n",
    "    out_band.WriteArray(TCC)\n",
    "    # out_ds.BuildOverviews(\"Average\", [2, 4, 8, 16, 32])\n",
    "    out_ds.FlushCache()\n",
    "    del in_ds, out_ds\n",
    "\n",
    "    outputs = [dsm_file_path, dem_file_path, chm_file_path,\n",
    "               aspect_file_path, slope_file_path, fcc_file_path]\n",
    "    for output_path in outputs:\n",
    "        if os.path.exists(output_path):\n",
    "            with open(output_path, 'rb') as output_file:\n",
    "                data = output_file.read()\n",
    "                cos_key = output_path.replace(tmp_path_prefix, '')\n",
    "                storage.put_object(bucket=DATA_BUCKET, key=cos_key, body=data)\n",
    "        else:\n",
    "            print(f'Failed to upload {output_path}')\n",
    "\n",
    "    out = subprocess.check_output(['find', '/tmp/geo/'])\n",
    "    return out"
   ]
  },
  {
   "cell_type": "code",
   "execution_count": 129,
   "metadata": {
    "collapsed": false,
    "pycharm": {
     "name": "#%%\n"
    }
   },
   "outputs": [
    {
     "name": "stderr",
     "output_type": "stream",
     "text": [
      "2022-06-05 23:20:35,585 [INFO] lithops.config -- Lithops v2.6.0\n",
      "2022-06-05 23:20:35,611 [INFO] lithops.storage.backends.ibm_cos.ibm_cos -- IBM COS client created - Region: eu-de\n",
      "2022-06-05 23:20:35,616 [INFO] lithops.serverless.backends.ibm_cf.ibm_cf -- IBM CF client created - Region: eu-de - Namespace: my-geospatial-wildfirerisk_foundry-geospatial-wildfirerisk-0\n"
     ]
    }
   ],
   "source": [
    "fexec = lithops.FunctionExecutor(monitoring='rabbitmq')"
   ]
  },
  {
   "cell_type": "code",
   "execution_count": 130,
   "metadata": {
    "collapsed": false,
    "pycharm": {
     "name": "#%%\n"
    }
   },
   "outputs": [
    {
     "name": "stderr",
     "output_type": "stream",
     "text": [
      "2022-06-05 23:20:35,645 [INFO] lithops.invokers -- ExecutorID bf7784-16 | JobID M000 - Selected Runtime: sararl27/lithops-ibm_cf-runtime-3.9:0.1 - 2048MB\n",
      "2022-06-05 23:20:36,403 [INFO] lithops.invokers -- ExecutorID bf7784-16 | JobID M000 - Starting function invocation: calculate_models() - Total: 5 activations\n",
      "2022-06-05 23:20:36,422 [INFO] lithops.invokers -- ExecutorID bf7784-16 | JobID M000 - View execution logs at C:\\Users\\saral\\AppData\\Local\\Temp\\lithops\\logs\\bf7784-16-M000.log\n"
     ]
    },
    {
     "data": {
      "text/plain": "[<lithops.future.ResponseFuture at 0x2d1ec3487c0>,\n <lithops.future.ResponseFuture at 0x2d1ec348580>,\n <lithops.future.ResponseFuture at 0x2d1ebe71670>,\n <lithops.future.ResponseFuture at 0x2d1ebe71940>,\n <lithops.future.ResponseFuture at 0x2d1ebe71520>]"
     },
     "execution_count": 130,
     "metadata": {},
     "output_type": "execute_result"
    }
   ],
   "source": [
    "fexec.map(calculate_models, f'cos://{DATA_BUCKET}/{INPUT_DATA_PREFIX}')"
   ]
  },
  {
   "cell_type": "code",
   "execution_count": 131,
   "metadata": {
    "collapsed": false,
    "pycharm": {
     "name": "#%%\n"
    }
   },
   "outputs": [
    {
     "name": "stderr",
     "output_type": "stream",
     "text": [
      "2022-06-05 23:20:36,952 [INFO] lithops.wait -- ExecutorID bf7784-16 - Getting results from 5 function activations\n"
     ]
    },
    {
     "data": {
      "text/plain": "    0%|          | 0/5  ",
      "application/vnd.jupyter.widget-view+json": {
       "version_major": 2,
       "version_minor": 0,
       "model_id": "a18a411b582b402b8d19d24d1675f02e"
      }
     },
     "metadata": {},
     "output_type": "display_data"
    },
    {
     "name": "stderr",
     "output_type": "stream",
     "text": [
      "2022-06-05 23:24:50,073 [INFO] lithops.executors -- ExecutorID bf7784-16 - Cleaning temporary data\n"
     ]
    }
   ],
   "source": [
    "res = fexec.get_result()"
   ]
  },
  {
   "cell_type": "code",
   "execution_count": 133,
   "metadata": {
    "collapsed": false,
    "pycharm": {
     "name": "#%%\n"
    }
   },
   "outputs": [
    {
     "name": "stdout",
     "output_type": "stream",
     "text": [
      "/tmp/geo/\n",
      "/tmp/geo/chm\n",
      "/tmp/geo/chm/LIDARCATv02ls12f356556ed02.tiff\n",
      "/tmp/geo/dem\n",
      "/tmp/geo/dem/LIDARCATv02ls12f356556ed02.gtiff\n",
      "/tmp/geo/LIDARCATv02ls12f356556ed02.laz\n",
      "/tmp/geo/fcc\n",
      "/tmp/geo/fcc/LIDARCATv02ls12f356556ed02.tiff\n",
      "/tmp/geo/aspect\n",
      "/tmp/geo/aspect/LIDARCATv02ls12f356556ed02.tiff\n",
      "/tmp/geo/dsm\n",
      "/tmp/geo/dsm/LIDARCATv02ls12f356556ed02.gtiff\n",
      "/tmp/geo/slope\n",
      "/tmp/geo/slope/LIDARCATv02ls12f356556ed02.tiff\n",
      "---\n",
      "/tmp/geo/\n",
      "/tmp/geo/chm\n",
      "/tmp/geo/chm/LIDARCATv02ls12f362554ed02.tiff\n",
      "/tmp/geo/dsm\n",
      "/tmp/geo/dsm/LIDARCATv02ls12f362554ed02.gtiff\n",
      "/tmp/geo/aspect\n",
      "/tmp/geo/aspect/LIDARCATv02ls12f362554ed02.tiff\n",
      "/tmp/geo/LIDARCATv02ls12f362554ed02.laz\n",
      "/tmp/geo/fcc\n",
      "/tmp/geo/fcc/LIDARCATv02ls12f362554ed02.tiff\n",
      "/tmp/geo/dem\n",
      "/tmp/geo/dem/LIDARCATv02ls12f362554ed02.gtiff\n",
      "/tmp/geo/slope\n",
      "/tmp/geo/slope/LIDARCATv02ls12f362554ed02.tiff\n",
      "---\n",
      "/tmp/geo/\n",
      "/tmp/geo/slope\n",
      "/tmp/geo/slope/LIDARCATv02ls12f382584ed02.tiff\n",
      "/tmp/geo/dsm\n",
      "/tmp/geo/dsm/LIDARCATv02ls12f382584ed02.gtiff\n",
      "/tmp/geo/fcc\n",
      "/tmp/geo/fcc/LIDARCATv02ls12f382584ed02.tiff\n",
      "/tmp/geo/LIDARCATv02ls12f382584ed02.laz\n",
      "/tmp/geo/chm\n",
      "/tmp/geo/chm/LIDARCATv02ls12f382584ed02.tiff\n",
      "/tmp/geo/aspect\n",
      "/tmp/geo/aspect/LIDARCATv02ls12f382584ed02.tiff\n",
      "/tmp/geo/dem\n",
      "/tmp/geo/dem/LIDARCATv02ls12f382584ed02.gtiff\n",
      "---\n",
      "/tmp/geo/\n",
      "/tmp/geo/chm\n",
      "/tmp/geo/chm/LIDARCATv02ls12f460612ed02.tiff\n",
      "/tmp/geo/dem\n",
      "/tmp/geo/dem/LIDARCATv02ls12f460612ed02.gtiff\n",
      "/tmp/geo/LIDARCATv02ls12f460612ed02.laz\n",
      "/tmp/geo/fcc\n",
      "/tmp/geo/fcc/LIDARCATv02ls12f460612ed02.tiff\n",
      "/tmp/geo/aspect\n",
      "/tmp/geo/aspect/LIDARCATv02ls12f460612ed02.tiff\n",
      "/tmp/geo/dsm\n",
      "/tmp/geo/dsm/LIDARCATv02ls12f460612ed02.gtiff\n",
      "/tmp/geo/slope\n",
      "/tmp/geo/slope/LIDARCATv02ls12f460612ed02.tiff\n",
      "---\n",
      "/tmp/geo/\n",
      "/tmp/geo/chm\n",
      "/tmp/geo/chm/PNOA_2017_CLM-CAS_278-4470_ORT-CLA-RGB.tiff\n",
      "/tmp/geo/dsm\n",
      "/tmp/geo/dsm/PNOA_2017_CLM-CAS_278-4470_ORT-CLA-RGB.gtiff\n",
      "/tmp/geo/PNOA_2017_CLM-CAS_278-4470_ORT-CLA-RGB.laz\n",
      "/tmp/geo/aspect\n",
      "/tmp/geo/aspect/PNOA_2017_CLM-CAS_278-4470_ORT-CLA-RGB.tiff\n",
      "/tmp/geo/fcc\n",
      "/tmp/geo/fcc/PNOA_2017_CLM-CAS_278-4470_ORT-CLA-RGB.tiff\n",
      "/tmp/geo/dem\n",
      "/tmp/geo/dem/PNOA_2017_CLM-CAS_278-4470_ORT-CLA-RGB.gtiff\n",
      "/tmp/geo/slope\n",
      "/tmp/geo/slope/PNOA_2017_CLM-CAS_278-4470_ORT-CLA-RGB.tiff\n",
      "---\n"
     ]
    }
   ],
   "source": [
    "for r in res:\n",
    "    print(r.decode('utf-8').strip())\n",
    "    print('---')"
   ]
  },
  {
   "cell_type": "markdown",
   "metadata": {
    "collapsed": false,
    "pycharm": {
     "name": "#%% md\n"
    }
   },
   "source": [
    "---\n",
    "Scalability\n",
    "---"
   ]
  },
  {
   "cell_type": "code",
   "execution_count": 134,
   "outputs": [],
   "source": [
    "def get_process_cost(fexec):\n",
    "    import pandas as pd\n",
    "    df = pd.read_csv(fexec.log_path)\n",
    "    cost = float(df[df[\"Job_ID\"] == \"Summary\"][\"Cost\"])\n",
    "    return cost"
   ],
   "metadata": {
    "collapsed": false,
    "pycharm": {
     "name": "#%%\n"
    }
   }
  },
  {
   "cell_type": "markdown",
   "metadata": {
    "collapsed": false,
    "pycharm": {
     "name": "#%% md\n"
    }
   },
   "source": [
    "#### Time"
   ]
  },
  {
   "cell_type": "code",
   "execution_count": 135,
   "metadata": {
    "collapsed": false,
    "pycharm": {
     "name": "#%%\n"
    }
   },
   "outputs": [
    {
     "name": "stderr",
     "output_type": "stream",
     "text": [
      "2022-06-05 23:24:50,167 [INFO] lithops.executors -- ExecutorID bf7784-16 - Creating execution plots\n"
     ]
    },
    {
     "data": {
      "text/plain": "<Figure size 720x432 with 1 Axes>",
      "image/png": "[encoded data removed]"
     },
     "metadata": {},
     "output_type": "display_data"
    }
   ],
   "source": [
    "fexec.plot(dst=\"plots/scalability\")"
   ]
  },
  {
   "cell_type": "code",
   "execution_count": 136,
   "metadata": {
    "collapsed": false,
    "pycharm": {
     "name": "#%%\n"
    }
   },
   "outputs": [
    {
     "data": {
      "image/png": "[encoded data removed]",
      "text/plain": "<IPython.core.display.Image object>"
     },
     "execution_count": 136,
     "metadata": {},
     "output_type": "execute_result"
    }
   ],
   "source": [
    "Image(filename=\"plots/scalability_histogram.png\")"
   ]
  },
  {
   "cell_type": "code",
   "execution_count": 137,
   "metadata": {
    "collapsed": false,
    "pycharm": {
     "name": "#%%\n"
    }
   },
   "outputs": [
    {
     "data": {
      "image/png": "[encoded data removed]",
      "text/plain": "<IPython.core.display.Image object>"
     },
     "execution_count": 137,
     "metadata": {},
     "output_type": "execute_result"
    }
   ],
   "source": [
    "Image(filename=\"plots/scalability_timeline.png\")"
   ]
  },
  {
   "cell_type": "markdown",
   "source": [
    "#### Cost \"calculate_models\""
   ],
   "metadata": {
    "collapsed": false,
    "pycharm": {
     "name": "#%% md\n"
    }
   }
  },
  {
   "cell_type": "code",
   "execution_count": 138,
   "outputs": [
    {
     "name": "stderr",
     "output_type": "stream",
     "text": [
      "2022-06-05 23:24:51,144 [INFO] lithops.executors -- View log file logs at C:\\Users\\saral\\AppData\\Local\\Temp\\lithops\\logs\\2022-06-05_23_24_51.csv\n"
     ]
    }
   ],
   "source": [
    "fexec.job_summary()"
   ],
   "metadata": {
    "collapsed": false,
    "pycharm": {
     "name": "#%%\n"
    }
   }
  },
  {
   "cell_type": "code",
   "execution_count": 139,
   "outputs": [
    {
     "data": {
      "text/plain": "    Job_ID          Function  Invocations  Memory(MB)  AvgRuntime      Cost  \\\n0     M000  calculate_models            5       10240  199.811185  0.033968   \n1  Summary                              5       10240  199.811185  0.033968   \n\n  CloudObjects  \n0               \n1            0  ",
      "text/html": "<div>\n<style scoped>\n    .dataframe tbody tr th:only-of-type {\n        vertical-align: middle;\n    }\n\n    .dataframe tbody tr th {\n        vertical-align: top;\n    }\n\n    .dataframe thead th {\n        text-align: right;\n    }\n</style>\n<table border=\"1\" class=\"dataframe\">\n  <thead>\n    <tr style=\"text-align: right;\">\n      <th></th>\n      <th>Job_ID</th>\n      <th>Function</th>\n      <th>Invocations</th>\n      <th>Memory(MB)</th>\n      <th>AvgRuntime</th>\n      <th>Cost</th>\n      <th>CloudObjects</th>\n    </tr>\n  </thead>\n  <tbody>\n    <tr>\n      <th>0</th>\n      <td>M000</td>\n      <td>calculate_models</td>\n      <td>5</td>\n      <td>10240</td>\n      <td>199.811185</td>\n      <td>0.033968</td>\n      <td></td>\n    </tr>\n    <tr>\n      <th>1</th>\n      <td>Summary</td>\n      <td></td>\n      <td>5</td>\n      <td>10240</td>\n      <td>199.811185</td>\n      <td>0.033968</td>\n      <td>0</td>\n    </tr>\n  </tbody>\n</table>\n</div>"
     },
     "execution_count": 139,
     "metadata": {},
     "output_type": "execute_result"
    }
   ],
   "source": [
    "pd.read_csv(fexec.log_path)"
   ],
   "metadata": {
    "collapsed": false,
    "pycharm": {
     "name": "#%%\n"
    }
   }
  },
  {
   "cell_type": "code",
   "execution_count": 140,
   "outputs": [
    {
     "name": "stdout",
     "output_type": "stream",
     "text": [
      "The experiment cost of 'calculate_models' $0.0340.\n"
     ]
    }
   ],
   "source": [
    "cost_interpolation = get_process_cost(fexec)\n",
    "print(f\"The experiment cost of 'calculate_models' ${cost_interpolation:.4f}.\")"
   ],
   "metadata": {
    "collapsed": false,
    "pycharm": {
     "name": "#%%\n"
    }
   }
  },
  {
   "cell_type": "markdown",
   "metadata": {
    "collapsed": false,
    "pycharm": {
     "name": "#%% md\n"
    }
   },
   "source": [
    "#### Throughput"
   ]
  },
  {
   "cell_type": "code",
   "execution_count": 203,
   "outputs": [
    {
     "name": "stderr",
     "output_type": "stream",
     "text": [
      "2022-06-05 23:53:22,469 [INFO] lithops.config -- Lithops v2.6.0\n",
      "2022-06-05 23:53:22,488 [INFO] lithops.storage.backends.ibm_cos.ibm_cos -- IBM COS client created - Region: eu-de\n",
      "2022-06-05 23:53:22,490 [INFO] lithops.serverless.backends.ibm_cf.ibm_cf -- IBM CF client created - Region: eu-de - Namespace: my-geospatial-wildfirerisk_foundry-geospatial-wildfirerisk-0\n",
      "2022-06-05 23:53:22,513 [INFO] lithops.storage.backends.ibm_cos.ibm_cos -- IBM COS client created - Region: eu-de\n"
     ]
    }
   ],
   "source": [
    "fexec = lithops.FunctionExecutor()\n",
    "storage = Storage()"
   ],
   "metadata": {
    "collapsed": false,
    "pycharm": {
     "name": "#%%\n"
    }
   }
  },
  {
   "cell_type": "markdown",
   "metadata": {
    "collapsed": false,
    "pycharm": {
     "name": "#%% md\n"
    }
   },
   "source": [
    "##### Read"
   ]
  },
  {
   "cell_type": "code",
   "execution_count": 204,
   "outputs": [],
   "source": [
    "def storage_performance_read(key_name, storage):\n",
    "    get_t0 = time.time()\n",
    "    obj = storage.get_object(bucket=DATA_BUCKET, key=key_name)\n",
    "    get_t1 = time.time()\n",
    "    get_sz = len(key_name)\n",
    "    read_bandwidth_mb = get_sz / (get_t1 - get_t0) / 1e6\n",
    "\n",
    "    stats = {'t0': get_t0, 't1': get_t1, 'bandwidth': read_bandwidth_mb, 'size': get_sz}\n",
    "\n",
    "    return stats"
   ],
   "metadata": {
    "collapsed": false,
    "pycharm": {
     "name": "#%%\n"
    }
   }
  },
  {
   "cell_type": "code",
   "execution_count": 205,
   "metadata": {
    "collapsed": false,
    "pycharm": {
     "name": "#%%\n"
    }
   },
   "outputs": [
    {
     "name": "stderr",
     "output_type": "stream",
     "text": [
      "2022-06-05 23:53:23,018 [INFO] lithops.config -- Lithops v2.6.0\n",
      "2022-06-05 23:53:23,030 [INFO] lithops.storage.backends.ibm_cos.ibm_cos -- IBM COS client created - Region: eu-de\n",
      "2022-06-05 23:53:23,031 [INFO] lithops.serverless.backends.ibm_cf.ibm_cf -- IBM CF client created - Region: eu-de - Namespace: my-geospatial-wildfirerisk_foundry-geospatial-wildfirerisk-0\n",
      "2022-06-05 23:53:23,034 [INFO] lithops.invokers -- ExecutorID bf7784-30 | JobID M000 - Selected Runtime: sararl27/lithops-ibm_cf-runtime-3.9:0.1 - 2048MB\n",
      "2022-06-05 23:53:23,411 [INFO] lithops.invokers -- ExecutorID bf7784-30 | JobID M000 - Starting function invocation: storage_performance_read() - Total: 5 activations\n",
      "2022-06-05 23:53:23,419 [INFO] lithops.invokers -- ExecutorID bf7784-30 | JobID M000 - View execution logs at C:\\Users\\saral\\AppData\\Local\\Temp\\lithops\\logs\\bf7784-30-M000.log\n",
      "2022-06-05 23:53:23,422 [INFO] lithops.wait -- ExecutorID bf7784-30 - Getting results from 5 function activations\n"
     ]
    },
    {
     "data": {
      "text/plain": "    0%|          | 0/5  ",
      "application/vnd.jupyter.widget-view+json": {
       "version_major": 2,
       "version_minor": 0,
       "model_id": "e331aaf0713c47d29a9641ec32d9ab2a"
      }
     },
     "metadata": {},
     "output_type": "display_data"
    },
    {
     "name": "stderr",
     "output_type": "stream",
     "text": [
      "2022-06-05 23:53:29,873 [INFO] lithops.executors -- ExecutorID bf7784-30 - Cleaning temporary data\n"
     ]
    }
   ],
   "source": [
    "data_file_read = [str(obj['Key']) for obj in storage.list_objects(DATA_BUCKET) if str(obj['Key']).endswith('.laz')]\n",
    "\n",
    "fexec = lithops.FunctionExecutor()\n",
    "fs = fexec.map(storage_performance_read, data_file_read)\n",
    "read_results = fexec.get_result(fs=fs)"
   ]
  },
  {
   "cell_type": "markdown",
   "metadata": {
    "collapsed": false,
    "pycharm": {
     "name": "#%% md\n"
    }
   },
   "source": [
    "##### Write"
   ]
  },
  {
   "cell_type": "code",
   "execution_count": 206,
   "outputs": [],
   "source": [
    "def storage_performance_write(obj, size_file, storage): # Coje el fichero y lo sobre\n",
    "    data = obj.data_stream.read()\n",
    "    put_sz = size_file # Modified, get the size in bytes of the data to upload\n",
    "    put_t0 = time.time()\n",
    "    storage.put_object(bucket=DATA_BUCKET,  key=obj.key, body=data)\n",
    "    put_t1 = time.time()\n",
    "    write_bandwidth_mb = put_sz / (put_t1 - put_t0) / 1e6\n",
    "\n",
    "    stats = {'t0': put_t0, 't1': put_t1, 'bandwidth': write_bandwidth_mb, 'size': put_sz}\n",
    "\n",
    "    return stats"
   ],
   "metadata": {
    "collapsed": false,
    "pycharm": {
     "name": "#%%\n"
    }
   }
  },
  {
   "cell_type": "code",
   "execution_count": 207,
   "outputs": [
    {
     "name": "stderr",
     "output_type": "stream",
     "text": [
      "2022-06-05 23:53:30,086 [INFO] lithops.config -- Lithops v2.6.0\n",
      "2022-06-05 23:53:30,109 [INFO] lithops.storage.backends.ibm_cos.ibm_cos -- IBM COS client created - Region: eu-de\n",
      "2022-06-05 23:53:30,117 [INFO] lithops.serverless.backends.ibm_cf.ibm_cf -- IBM CF client created - Region: eu-de - Namespace: my-geospatial-wildfirerisk_foundry-geospatial-wildfirerisk-0\n",
      "2022-06-05 23:53:30,124 [INFO] lithops.invokers -- ExecutorID bf7784-31 | JobID M000 - Selected Runtime: sararl27/lithops-ibm_cf-runtime-3.9:0.1 - 2048MB\n",
      "2022-06-05 23:53:30,903 [INFO] lithops.invokers -- ExecutorID bf7784-31 | JobID M000 - Starting function invocation: storage_performance_write() - Total: 20 activations\n",
      "2022-06-05 23:53:30,997 [INFO] lithops.invokers -- ExecutorID bf7784-31 | JobID M000 - View execution logs at C:\\Users\\saral\\AppData\\Local\\Temp\\lithops\\logs\\bf7784-31-M000.log\n",
      "2022-06-05 23:53:31,003 [INFO] lithops.wait -- ExecutorID bf7784-31 - Getting results from 20 function activations\n"
     ]
    },
    {
     "data": {
      "text/plain": "    0%|          | 0/20  ",
      "application/vnd.jupyter.widget-view+json": {
       "version_major": 2,
       "version_minor": 0,
       "model_id": "ea7d5d8f10964adfb17c1fde14bae1b0"
      }
     },
     "metadata": {},
     "output_type": "display_data"
    },
    {
     "name": "stderr",
     "output_type": "stream",
     "text": [
      "2022-06-05 23:53:37,182 [INFO] lithops.executors -- ExecutorID bf7784-31 - Cleaning temporary data\n"
     ]
    }
   ],
   "source": [
    "data_file_write = [{'obj':(f'cos://{DATA_BUCKET}/'+obj[\"Key\"]), 'size_file': obj['Size']}\n",
    "                   for obj in storage.list_objects(DATA_BUCKET) if str(obj['Key']).endswith('.tiff')]\n",
    "fexec = lithops.FunctionExecutor()\n",
    "fs = fexec.map(storage_performance_write, data_file_write)\n",
    "write_results = fexec.get_result(fs=fs)"
   ],
   "metadata": {
    "collapsed": false,
    "pycharm": {
     "name": "#%%\n"
    }
   }
  },
  {
   "cell_type": "markdown",
   "source": [
    "#### Resume"
   ],
   "metadata": {
    "collapsed": false,
    "pycharm": {
     "name": "#%% md\n"
    }
   }
  },
  {
   "cell_type": "code",
   "execution_count": 208,
   "outputs": [],
   "source": [
    "def create_agg_bdwth_plot(res_write, res_read, dst):\n",
    "    def compute_times_rates(start_time, d):\n",
    "        x = np.array(d)\n",
    "        tzero = start_time\n",
    "        tr_start_time = x[:, 0] - tzero\n",
    "        tr_end_time = x[:, 1] - tzero\n",
    "        rate = x[:, 2]\n",
    "\n",
    "        N = len(tr_start_time)\n",
    "        runtime_rate_hist = np.zeros((N, len(runtime_bins)))\n",
    "\n",
    "        for i in range(N):\n",
    "            s = tr_start_time[i]\n",
    "            e = tr_end_time[i]\n",
    "            a, b = np.searchsorted(runtime_bins, [s, e])\n",
    "            if b-a > 0:\n",
    "                runtime_rate_hist[i, a:b] = rate[i]\n",
    "\n",
    "        return {'start_time': tr_start_time,\n",
    "                'end_time': tr_end_time,\n",
    "                'rate': rate,\n",
    "                'runtime_rate_hist': runtime_rate_hist}\n",
    "\n",
    "    start_time = min((min(t['t0'] for t in res_write), (min(t['t0'] for t in res_read)))) - 1\n",
    "\n",
    "    fig = pylab.figure(figsize=(8, 6))\n",
    "    ax = fig.add_subplot(1, 1, 1)\n",
    "    for datum, l in [(res_write, 'Aggregate Write Bandwidth'), (res_read, 'Aggregate Read Bandwidth')]:\n",
    "        mb_rates = [(res['t0'], res['t1'], res['bandwidth']) for res in datum]\n",
    "        max_seconds = int(max([mr[1]-start_time for mr in mb_rates])*1.2)\n",
    "        max_seconds = 8 * round(max_seconds/8)\n",
    "        runtime_bins = np.linspace(0, max_seconds, max_seconds)\n",
    "\n",
    "        mb_rates_hist = compute_times_rates(start_time, mb_rates)\n",
    "\n",
    "        ax.plot(mb_rates_hist['runtime_rate_hist'].sum(axis=0)/1000, label=l)\n",
    "\n",
    "    ax.set_xlabel('Execution Time (sec)')\n",
    "    ax.set_ylabel(\"GB/sec\")\n",
    "    ax.set_xlim(0, )\n",
    "    ax.set_ylim(0, )\n",
    "    pylab.legend()\n",
    "    pylab.grid(True, axis='y')\n",
    "\n",
    "    dst = os.path.expanduser(dst) if '~' in dst else dst\n",
    "    fig.tight_layout()\n",
    "    fig.savefig(dst, format='png')"
   ],
   "metadata": {
    "collapsed": false,
    "pycharm": {
     "name": "#%%\n"
    }
   }
  },
  {
   "cell_type": "code",
   "execution_count": 209,
   "outputs": [
    {
     "data": {
      "text/plain": "<Figure size 576x432 with 1 Axes>",
      "image/png": "[encoded data removed]"
     },
     "metadata": {},
     "output_type": "display_data"
    }
   ],
   "source": [
    "create_agg_bdwth_plot(write_results, read_results, './plots/throughput_storage_kpi.png')"
   ],
   "metadata": {
    "collapsed": false,
    "pycharm": {
     "name": "#%%\n"
    }
   }
  },
  {
   "cell_type": "code",
   "execution_count": 222,
   "outputs": [],
   "source": [
    "def calc_mean_throughput(dict):\n",
    "    res = 0\n",
    "    for val in dict:\n",
    "        res += val['bandwidth']\n",
    "    return (res/len(dict))"
   ],
   "metadata": {
    "collapsed": false,
    "pycharm": {
     "name": "#%%\n"
    }
   }
  },
  {
   "cell_type": "code",
   "execution_count": 224,
   "outputs": [
    {
     "name": "stdout",
     "output_type": "stream",
     "text": [
      "Mean throughput read: 6.676473261344398e-05 MB/s\n",
      "Mean throughput write: 39.01826904233151 MB/s\n"
     ]
    }
   ],
   "source": [
    "print(f'Mean throughput read: {calc_mean_throughput(read_results)} MB/s')\n",
    "print(f'Mean throughput write: {calc_mean_throughput(write_results)} MB/s')"
   ],
   "metadata": {
    "collapsed": false,
    "pycharm": {
     "name": "#%%\n"
    }
   }
  },
  {
   "cell_type": "markdown",
   "metadata": {
    "collapsed": false,
    "pycharm": {
     "name": "#%% md\n"
    }
   },
   "source": [
    "#### Cost throughput"
   ]
  },
  {
   "cell_type": "code",
   "execution_count": 212,
   "metadata": {
    "collapsed": false,
    "pycharm": {
     "name": "#%%\n"
    }
   },
   "outputs": [
    {
     "name": "stderr",
     "output_type": "stream",
     "text": [
      "2022-06-05 23:53:38,143 [INFO] lithops.executors -- View log file logs at C:\\Users\\saral\\AppData\\Local\\Temp\\lithops\\logs\\2022-06-05_23_53_38.csv\n"
     ]
    }
   ],
   "source": [
    "fexec.job_summary()"
   ]
  },
  {
   "cell_type": "code",
   "execution_count": 213,
   "metadata": {
    "collapsed": false,
    "pycharm": {
     "name": "#%%\n"
    }
   },
   "outputs": [
    {
     "data": {
      "text/plain": "    Job_ID                   Function  Invocations  Memory(MB)  AvgRuntime  \\\n0     M000  storage_performance_write           20       40960    1.593972   \n1  Summary                                      20       40960    1.593972   \n\n       Cost CloudObjects  \n0  0.001084               \n1  0.001084            0  ",
      "text/html": "<div>\n<style scoped>\n    .dataframe tbody tr th:only-of-type {\n        vertical-align: middle;\n    }\n\n    .dataframe tbody tr th {\n        vertical-align: top;\n    }\n\n    .dataframe thead th {\n        text-align: right;\n    }\n</style>\n<table border=\"1\" class=\"dataframe\">\n  <thead>\n    <tr style=\"text-align: right;\">\n      <th></th>\n      <th>Job_ID</th>\n      <th>Function</th>\n      <th>Invocations</th>\n      <th>Memory(MB)</th>\n      <th>AvgRuntime</th>\n      <th>Cost</th>\n      <th>CloudObjects</th>\n    </tr>\n  </thead>\n  <tbody>\n    <tr>\n      <th>0</th>\n      <td>M000</td>\n      <td>storage_performance_write</td>\n      <td>20</td>\n      <td>40960</td>\n      <td>1.593972</td>\n      <td>0.001084</td>\n      <td></td>\n    </tr>\n    <tr>\n      <th>1</th>\n      <td>Summary</td>\n      <td></td>\n      <td>20</td>\n      <td>40960</td>\n      <td>1.593972</td>\n      <td>0.001084</td>\n      <td>0</td>\n    </tr>\n  </tbody>\n</table>\n</div>"
     },
     "execution_count": 213,
     "metadata": {},
     "output_type": "execute_result"
    }
   ],
   "source": [
    "pd.read_csv(fexec.log_path)"
   ]
  },
  {
   "cell_type": "code",
   "execution_count": 214,
   "metadata": {
    "collapsed": false,
    "pycharm": {
     "name": "#%%\n"
    }
   },
   "outputs": [
    {
     "name": "stdout",
     "output_type": "stream",
     "text": [
      "The experiment cost of 'throughput' $0.0011.\n"
     ]
    }
   ],
   "source": [
    "cost_interpolation = get_process_cost(fexec)\n",
    "print(f\"The experiment cost of 'throughput' ${cost_interpolation:.4f}.\")"
   ]
  }
 ],
 "metadata": {
  "interpreter": {
   "hash": "fc28e218f8aa598d7201f1426aba0b64c29ddf364b0850b5108205e3c665e009"
  },
  "kernelspec": {
   "display_name": "Python 3.9.5 ('venv': venv)",
   "language": "python",
   "name": "python3"
  },
  "language_info": {
   "codemirror_mode": {
    "name": "ipython",
    "version": 3
   },
   "file_extension": ".py",
   "mimetype": "text/x-python",
   "name": "python",
   "nbconvert_exporter": "python",
   "pygments_lexer": "ipython3",
   "version": "3.9.5"
  },
  "orig_nbformat": 4
 },
 "nbformat": 4,
 "nbformat_minor": 2
}