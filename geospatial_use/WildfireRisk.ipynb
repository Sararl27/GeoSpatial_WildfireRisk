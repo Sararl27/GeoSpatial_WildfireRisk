{
 "cells": [
  {
   "cell_type": "markdown",
   "metadata": {
    "pycharm": {
     "name": "#%% md\n"
    }
   },
   "source": [
    "# Cloudbutton geospatial use case: 3D fuel mapping for wildfire risk assessment\n"
   ]
  },
  {
   "cell_type": "code",
   "execution_count": 84,
   "metadata": {
    "pycharm": {
     "name": "#%%\n"
    }
   },
   "outputs": [],
   "source": [
    "import pylab\n",
    "from matplotlib.collections import LineCollection\n",
    "# from sklearn.naive_bayes import GaussianNB\n",
    "# from sklearn import model_selection\n",
    "# from sklearn.linear_model import LogisticRegression\n",
    "# from sklearn.preprocessing import scale, StandardScaler\n",
    "# from sklearn.metrics import silhouette_score\n",
    "# from sklearn.cluster import KMeans\n",
    "# from shapely.geometry import mapping\n",
    "from IPython.display import Image\n",
    "# from IPython.core.display import HTML\n",
    "# from shapely.geometry import mapping\n",
    "# import rasterio as rio\n",
    "# from sklearn.pipeline import Pipeline\n",
    "# from rasterio.mask import mask\n",
    "# from rasterio.plot import show\n",
    "# from rasterio.merge import merge\n",
    "# from rasterio.plot import show\n",
    "# from rasterio.plot import show_hist\n",
    "# from rasterio.windows import Window\n",
    "# from rasterio.plot import reshape_as_raster\n",
    "# from rasterio.plot import reshape_as_image\n",
    "from lithops.storage import Storage\n",
    "import matplotlib.pyplot as plt\n",
    "# import geopandas as gpd\n",
    "import pandas as pd\n",
    "import numpy as np\n",
    "import lithops\n",
    "import pathlib\n",
    "# import shapely\n",
    "import shutil\n",
    "# import pickle\n",
    "import subprocess\n",
    "# import concurrent.futures\n",
    "# import joblib\n",
    "# import gdal\n",
    "# import earthpy as ep\n",
    "# import earthpy.spatial as es\n",
    "import time\n",
    "# import glob\n",
    "# import ogr\n",
    "import os\n",
    "# import io\n",
    "# import pdal\n",
    "# import xarray as xr\n",
    "import json\n",
    "# from matplotlib.colors import ListedColormap, BoundaryNorm"
   ]
  },
  {
   "cell_type": "code",
   "execution_count": 85,
   "metadata": {
    "collapsed": false,
    "pycharm": {
     "name": "#%%\n"
    }
   },
   "outputs": [],
   "source": [
    "DIR_TO_EXECT = \"\" # 20GB/10GB/2GB/1GB/512M/B256MB/128MB\n",
    "DATA_BUCKET = 'objects-geospatial-wildfirerisk-0'\n",
    "INPUT_DATA_PREFIX = f'data-example/{DIR_TO_EXECT}' # Modified"
   ]
  },
  {
   "cell_type": "code",
   "execution_count": 86,
   "metadata": {
    "collapsed": false,
    "pycharm": {
     "name": "#%%\n"
    }
   },
   "outputs": [],
   "source": [
    "# !export LITHOPS_CONFIG_FILE = \"/home/aitor/Projects/lithops-github/lithops/.lithops_config\"\n",
    "# os.environ['LITHOPS_CONFIG_FILE'] = '/home/aitor/Projects/lithops-github/lithops/.lithops_config'"
   ]
  },
  {
   "cell_type": "markdown",
   "metadata": {
    "collapsed": false,
    "pycharm": {
     "name": "#%% md\n"
    }
   },
   "source": [
    "Experiment parameters\n"
   ]
  },
  {
   "cell_type": "code",
   "execution_count": 87,
   "metadata": {
    "collapsed": false,
    "pycharm": {
     "name": "#%%\n"
    }
   },
   "outputs": [],
   "source": [
    "FCC_WINDOW = 3\n",
    "FCC_BREAKPOINT = 0.01"
   ]
  },
  {
   "cell_type": "markdown",
   "metadata": {
    "collapsed": false,
    "pycharm": {
     "name": "#%% md\n"
    }
   },
   "source": [
    "---\n",
    "Upload dataset\n",
    "---\n"
   ]
  },
  {
   "cell_type": "code",
   "execution_count": 88,
   "metadata": {
    "collapsed": false,
    "pycharm": {
     "name": "#%%\n"
    }
   },
   "outputs": [],
   "source": [
    "LOCAL_INPUT_DIR = f'./data/{DIR_TO_EXECT}'"
   ]
  },
  {
   "cell_type": "code",
   "execution_count": 89,
   "metadata": {
    "collapsed": false,
    "pycharm": {
     "name": "#%%\n"
    }
   },
   "outputs": [
    {
     "name": "stderr",
     "output_type": "stream",
     "text": [
      "2022-06-01 19:42:44,357 [INFO] lithops.storage.backends.ibm_cos.ibm_cos -- IBM COS client created - Region: eu-de\n"
     ]
    }
   ],
   "source": [
    "storage = Storage()"
   ]
  },
  {
   "cell_type": "code",
   "execution_count": 90,
   "metadata": {
    "collapsed": false,
    "pycharm": {
     "name": "#%%\n"
    }
   },
   "outputs": [
    {
     "name": "stdout",
     "output_type": "stream",
     "text": [
      "It is already uploaded: data-example/PNOA_2017_CLM-CAS_242-4422_ORT-CLA-RGB.laz...\n",
      "It is already uploaded: data-example/PNOA_2017_CLM-CAS_274-4464_ORT-CLA-RGB.laz...\n",
      "It is already uploaded: data-example/PNOA_2017_CLM-CAS_278-4470_ORT-CLA-RGB.laz...\n",
      "It is already uploaded: data-example/PNOA_2017_CLM-CAS_650-4434_ORT-CLA-RGB.laz...\n",
      "It is already uploaded: data-example/PNOA_2017_CLM-CAS_742-4404_ORT-CLA-RGB.laz...\n",
      "It is already uploaded: data-example/PNOA_2017_CLM-CAS_748-4414_ORT-CLA-RGB.laz...\n"
     ]
    },
    {
     "data": {
      "text/plain": "\"\\nfor file_name in os.listdir(LOCAL_INPUT_DIR):\\n    if file_name not in bucket_objects:\\n        key = os.path.join(INPUT_DATA_PREFIX, file_name)\\n        with open(os.path.join(LOCAL_INPUT_DIR, file_name), 'rb') as file:\\n            print(f'Uploading {key}...')\\n            data = file.read()\\n            storage.put_object(bucket=DATA_BUCKET, key=key, body=data)\\n            print('Ok!')\\n# storage.put_object()\\n\""
     },
     "execution_count": 90,
     "metadata": {},
     "output_type": "execute_result"
    }
   ],
   "source": [
    "bucket_objects = storage.list_keys(bucket=DATA_BUCKET)\n",
    "for file_name in os.listdir(LOCAL_INPUT_DIR):\n",
    "    key = os.path.join(INPUT_DATA_PREFIX, file_name)    # Added\n",
    "    if key not in bucket_objects:   # Changed: if file_name not in bucket_objects:\n",
    "        with open(os.path.join(LOCAL_INPUT_DIR, file_name), 'rb') as file:\n",
    "            print(f'Uploading {key}...')\n",
    "            data = file.read()\n",
    "            storage.put_object(bucket=DATA_BUCKET, key=key, body=data)\n",
    "            print('Ok!')\n",
    "    else:   # Added\n",
    "        print(f'It is already uploaded: {key}...')   # Added\n",
    "'''\n",
    "for file_name in os.listdir(LOCAL_INPUT_DIR):\n",
    "    if file_name not in bucket_objects:\n",
    "        key = os.path.join(INPUT_DATA_PREFIX, file_name)\n",
    "        with open(os.path.join(LOCAL_INPUT_DIR, file_name), 'rb') as file:\n",
    "            print(f'Uploading {key}...')\n",
    "            data = file.read()\n",
    "            storage.put_object(bucket=DATA_BUCKET, key=key, body=data)\n",
    "            print('Ok!')\n",
    "# storage.put_object()\n",
    "'''"
   ]
  },
  {
   "cell_type": "markdown",
   "metadata": {
    "collapsed": false,
    "pycharm": {
     "name": "#%% md\n"
    }
   },
   "source": [
    "---\n",
    "Calculte DEM, DSM and CHM\n",
    "---\n"
   ]
  },
  {
   "cell_type": "code",
   "execution_count": 91,
   "metadata": {
    "collapsed": false,
    "pycharm": {
     "name": "#%%\n"
    }
   },
   "outputs": [],
   "source": [
    "def calculate_models(obj, storage):\n",
    "    import pdal\n",
    "    from osgeo import gdal\n",
    "    from scipy import ndimage\n",
    "\n",
    "    # Create temporary file paths\n",
    "    tmp_path_prefix = '/tmp/geo/'\n",
    "    if os.path.exists(tmp_path_prefix):\n",
    "        shutil.rmtree(tmp_path_prefix)\n",
    "    for subpath in ['dsm', 'dem', 'chm', 'aspect', 'slope', 'fcc']:\n",
    "        os.makedirs(os.path.join(tmp_path_prefix, subpath), exist_ok=True)\n",
    "\n",
    "    las_tile_filename = pathlib.Path(obj.key).name\n",
    "    tile_key = pathlib.Path(obj.key).stem\n",
    "\n",
    "    # Save obj to file\n",
    "    data = obj.data_stream.read()\n",
    "    input_file_path = os.path.join(tmp_path_prefix, las_tile_filename)\n",
    "    with open(input_file_path, 'wb') as file:\n",
    "        file.write(data)\n",
    "\n",
    "    # DSM pipeline\n",
    "    dsm_file_path = os.path.join(tmp_path_prefix, 'dsm', tile_key + '.gtiff')\n",
    "    dsm_pipeline_json = {\n",
    "        \"pipeline\": [\n",
    "            {\n",
    "                \"type\": \"readers.las\",\n",
    "                \"filename\": f\"{input_file_path}\",\n",
    "                \"spatialreference\": \"EPSG:25830\"\n",
    "            },\n",
    "            {\n",
    "                \"type\": \"filters.reprojection\",\n",
    "                \"in_srs\": \"EPSG:25830\",\n",
    "                \"out_srs\": \"EPSG:25830\"\n",
    "            },\n",
    "            {\n",
    "                \"type\": \"filters.outlier\",\n",
    "                \"method\": \"radius\",\n",
    "                \"radius\": 1.0,\n",
    "                \"min_k\": 4\n",
    "            },\n",
    "            {\n",
    "                \"type\": \"filters.range\",\n",
    "                # Classification equals 2 (corresponding to noise points in LAS).\n",
    "                \"limits\": \"Classification![7:7]\"\n",
    "            },\n",
    "            {\n",
    "                \"type\": \"filters.range\",\n",
    "                \"limits\": \"returnnumber[1:1]\"\n",
    "            },\n",
    "            {\n",
    "                \"type\": \"writers.gdal\",\n",
    "                \"gdaldriver\": \"GTiff\",\n",
    "                \"nodata\": \"-9999\",\n",
    "                \"output_type\": \"max\",\n",
    "                \"resolution\": 1,\n",
    "                \"filename\": f\"{dsm_file_path}\"\n",
    "            }\n",
    "        ]\n",
    "    }\n",
    "    dsm_pipeline_json_str = json.dumps(dsm_pipeline_json, indent=4)\n",
    "    pipeline = pdal.Pipeline(dsm_pipeline_json_str)\n",
    "    pipeline.validate()\n",
    "    pipeline.loglevel = 8\n",
    "    print('Executing DSM pipeline...')\n",
    "    result = pipeline.execute()\n",
    "    print(result)\n",
    "\n",
    "    # DEM pipeline\n",
    "    dem_file_path = os.path.join(tmp_path_prefix, 'dem', tile_key + '.gtiff')\n",
    "    dem_pipeline_json = {\n",
    "        \"pipeline\": [\n",
    "            {\n",
    "                \"type\": \"readers.las\",\n",
    "                \"filename\": f\"{input_file_path}\",\n",
    "                \"spatialreference\": \"EPSG:25830\"\n",
    "            },\n",
    "            {\n",
    "                \"type\": \"filters.reprojection\",\n",
    "                \"in_srs\": \"EPSG:25830\",\n",
    "                \"out_srs\": \"EPSG:25830\"\n",
    "            },\n",
    "            {\n",
    "                \"type\": \"filters.assign\",\n",
    "                \"assignment\": \"Classification[:]=0\"\n",
    "            },\n",
    "            {\n",
    "                \"type\": \"filters.elm\"\n",
    "            },\n",
    "            {\n",
    "                \"type\": \"filters.outlier\",\n",
    "                \"method\": \"radius\",\n",
    "                \"radius\": 1.0,\n",
    "                \"min_k\": 4\n",
    "            },\n",
    "            {\n",
    "\n",
    "                \"type\": \"filters.smrf\",\n",
    "                \"ignore\": \"Classification[7:7]\",\n",
    "                \"slope\": 0.2,\n",
    "                \"window\": 16,\n",
    "                \"threshold\": 0.45,\n",
    "                \"scalar\": 1.2\n",
    "            },\n",
    "            {\n",
    "                \"type\": \"filters.range\",\n",
    "                # Classification equals 2 (corresponding to ground in LAS).\n",
    "                \"limits\": \"Classification[2:2]\",\n",
    "            },\n",
    "            {\n",
    "                \"type\": \"writers.gdal\",\n",
    "                \"gdaldriver\": \"GTiff\",\n",
    "                \"nodata\": \"-9999\",\n",
    "                \"output_type\": \"max\",\n",
    "                \"resolution\": 1,\n",
    "                \"filename\": f\"{dem_file_path}\"\n",
    "            }\n",
    "        ]\n",
    "    }\n",
    "    dem_pipeline_json_str = json.dumps(dem_pipeline_json, indent=4)\n",
    "    pipeline = pdal.Pipeline(dem_pipeline_json_str)\n",
    "    pipeline.validate()  # Check if json options are good\n",
    "    pipeline.loglevel = 8\n",
    "    print('Executing DEM pipeline...')\n",
    "    result = pipeline.execute()\n",
    "    print(result)\n",
    "\n",
    "    # calculate CHM\n",
    "    chm_file_path = os.path.join(tmp_path_prefix, 'chm', tile_key + '.tiff')\n",
    "    cmd = ['gdal_calc.py', '-A', dem_file_path, '-B', dsm_file_path,\n",
    "           '--calc=\"B-A\"', '--NoDataValue=0', '--outfile', chm_file_path]\n",
    "    p = subprocess.Popen(cmd, stdout=subprocess.PIPE, stderr=subprocess.PIPE, close_fds=True)\n",
    "    stdout, stderr = p.communicate()\n",
    "    print(stdout, stderr)\n",
    "    # assert p.returncode == 0\n",
    "\n",
    "    # calculate aspect\n",
    "    aspect_file_path = os.path.join(tmp_path_prefix, 'aspect', tile_key + '.tiff')\n",
    "    cmd = ['gdaldem', 'aspect', dem_file_path, aspect_file_path, '-compute_edges']\n",
    "    p = subprocess.Popen(cmd, stdout=subprocess.PIPE, stderr=subprocess.PIPE, close_fds=True)\n",
    "    stdout, stderr = p.communicate()\n",
    "    print(stdout, stderr)\n",
    "    # assert p.returncode == 0\n",
    "\n",
    "    # calculate slope\n",
    "    slope_file_path = os.path.join(tmp_path_prefix, 'slope', tile_key + '.tiff')\n",
    "    cmd = ['gdaldem', 'slope', dem_file_path, slope_file_path, '-compute_edges']\n",
    "    p = subprocess.Popen(cmd, stdout=subprocess.PIPE, stderr=subprocess.PIPE, close_fds=True)\n",
    "    stdout, stderr = p.communicate()\n",
    "    print(stdout, stderr)\n",
    "    # assert p.returncode == 0\n",
    "\n",
    "    # calculate FCC\n",
    "    in_ds = gdal.Open(dem_file_path)\n",
    "    rows = in_ds.RasterYSize\n",
    "    cols = in_ds.RasterXSize\n",
    "    in_band = in_ds.GetRasterBand(1)\n",
    "    data = in_band.ReadAsArray(0, 0, cols, rows).astype(np.float)\n",
    "    data[data > FCC_BREAKPOINT] = 1\n",
    "    data[data <= FCC_BREAKPOINT] = 0\n",
    "\n",
    "    # Computing fraction on the whole raster through a moving window.\n",
    "    def _compute_fraction(array):\n",
    "        nveg = np.sum(array == 1)\n",
    "        total = len(array)\n",
    "        out = (nveg/total)*100\n",
    "        return(out)\n",
    "\n",
    "    TCC = ndimage.generic_filter(data, _compute_fraction, size=FCC_WINDOW)\n",
    "\n",
    "    gtiff_driver = gdal.GetDriverByName(\"GTiff\")\n",
    "    fcc_file_path = os.path.join(tmp_path_prefix, 'fcc', tile_key + '.tiff')\n",
    "    out_ds = gtiff_driver.Create(fcc_file_path, cols, rows, 1, in_band.DataType)\n",
    "    out_ds.SetProjection(in_ds.GetProjection())\n",
    "    out_ds.SetGeoTransform(in_ds.GetGeoTransform())\n",
    "\n",
    "    out_band = out_ds.GetRasterBand(1)\n",
    "    out_band.WriteArray(TCC)\n",
    "    # out_ds.BuildOverviews(\"Average\", [2, 4, 8, 16, 32])\n",
    "    out_ds.FlushCache()\n",
    "    del in_ds, out_ds\n",
    "\n",
    "    outputs = [dsm_file_path, dem_file_path, chm_file_path,\n",
    "               aspect_file_path, slope_file_path, fcc_file_path]\n",
    "    for output_path in outputs:\n",
    "        if os.path.exists(output_path):\n",
    "            with open(output_path, 'rb') as output_file:\n",
    "                data = output_file.read()\n",
    "                cos_key = output_path.replace(tmp_path_prefix, '')\n",
    "                storage.put_object(bucket=DATA_BUCKET, key=cos_key, body=data)\n",
    "        else:\n",
    "            print(f'Failed to upload {output_path}')\n",
    "\n",
    "    out = subprocess.check_output(['find', '/tmp/geo/'])\n",
    "    return out"
   ]
  },
  {
   "cell_type": "code",
   "execution_count": 92,
   "metadata": {
    "collapsed": false,
    "pycharm": {
     "name": "#%%\n"
    }
   },
   "outputs": [
    {
     "name": "stderr",
     "output_type": "stream",
     "text": [
      "2022-06-01 19:42:45,374 [INFO] lithops.config -- Lithops v2.6.0\n",
      "2022-06-01 19:42:45,399 [INFO] lithops.storage.backends.ibm_cos.ibm_cos -- IBM COS client created - Region: eu-de\n",
      "2022-06-01 19:42:45,399 [INFO] lithops.serverless.backends.ibm_cf.ibm_cf -- IBM CF client created - Region: eu-de - Namespace: my-geospatial-wildfirerisk_foundry-geospatial-wildfirerisk-0\n"
     ]
    }
   ],
   "source": [
    "fexec = lithops.FunctionExecutor(monitoring='rabbitmq')"
   ]
  },
  {
   "cell_type": "code",
   "execution_count": 93,
   "metadata": {
    "collapsed": false,
    "pycharm": {
     "name": "#%%\n"
    }
   },
   "outputs": [
    {
     "name": "stderr",
     "output_type": "stream",
     "text": [
      "2022-06-01 19:42:45,429 [INFO] lithops.invokers -- ExecutorID cdd183-5 | JobID M000 - Selected Runtime: sararl27/lithops-ibm_cf-runtime-3.9:0.1 - 2048MB\n",
      "2022-06-01 19:42:46,254 [INFO] lithops.invokers -- ExecutorID cdd183-5 | JobID M000 - Starting function invocation: calculate_models() - Total: 6 activations\n",
      "2022-06-01 19:42:46,264 [INFO] lithops.invokers -- ExecutorID cdd183-5 | JobID M000 - View execution logs at C:\\Users\\saral\\AppData\\Local\\Temp\\lithops\\logs\\cdd183-5-M000.log\n"
     ]
    },
    {
     "data": {
      "text/plain": "[<lithops.future.ResponseFuture at 0x1f9fa6346a0>,\n <lithops.future.ResponseFuture at 0x1f9fa6346d0>,\n <lithops.future.ResponseFuture at 0x1f9fa626fd0>,\n <lithops.future.ResponseFuture at 0x1f9fa626eb0>,\n <lithops.future.ResponseFuture at 0x1f9fa626fa0>,\n <lithops.future.ResponseFuture at 0x1f9fa626f70>]"
     },
     "execution_count": 93,
     "metadata": {},
     "output_type": "execute_result"
    }
   ],
   "source": [
    "fexec.map(calculate_models, f'cos://{DATA_BUCKET}/{INPUT_DATA_PREFIX}')"
   ]
  },
  {
   "cell_type": "code",
   "execution_count": 94,
   "metadata": {
    "collapsed": false,
    "pycharm": {
     "name": "#%%\n"
    }
   },
   "outputs": [
    {
     "name": "stderr",
     "output_type": "stream",
     "text": [
      "2022-06-01 19:42:46,699 [INFO] lithops.wait -- ExecutorID cdd183-5 - Getting results from 6 function activations\n"
     ]
    },
    {
     "data": {
      "text/plain": "    0%|          | 0/6  ",
      "application/vnd.jupyter.widget-view+json": {
       "version_major": 2,
       "version_minor": 0,
       "model_id": "00dc3ea0c7b542349fa0e59d9a884d21"
      }
     },
     "metadata": {},
     "output_type": "display_data"
    },
    {
     "name": "stderr",
     "output_type": "stream",
     "text": [
      "2022-06-01 19:45:01,163 [INFO] lithops.executors -- ExecutorID cdd183-5 - Cleaning temporary data\n"
     ]
    }
   ],
   "source": [
    "res = fexec.get_result()"
   ]
  },
  {
   "cell_type": "code",
   "execution_count": 95,
   "metadata": {
    "collapsed": false,
    "pycharm": {
     "name": "#%%\n"
    }
   },
   "outputs": [],
   "source": [
    "# res"
   ]
  },
  {
   "cell_type": "code",
   "execution_count": 96,
   "metadata": {
    "collapsed": false,
    "pycharm": {
     "name": "#%%\n"
    }
   },
   "outputs": [
    {
     "name": "stdout",
     "output_type": "stream",
     "text": [
      "/tmp/geo/\n",
      "/tmp/geo/dem\n",
      "/tmp/geo/dem/PNOA_2017_CLM-CAS_242-4422_ORT-CLA-RGB.gtiff\n",
      "/tmp/geo/chm\n",
      "/tmp/geo/chm/PNOA_2017_CLM-CAS_242-4422_ORT-CLA-RGB.tiff\n",
      "/tmp/geo/fcc\n",
      "/tmp/geo/fcc/PNOA_2017_CLM-CAS_242-4422_ORT-CLA-RGB.tiff\n",
      "/tmp/geo/PNOA_2017_CLM-CAS_242-4422_ORT-CLA-RGB.laz\n",
      "/tmp/geo/aspect\n",
      "/tmp/geo/aspect/PNOA_2017_CLM-CAS_242-4422_ORT-CLA-RGB.tiff\n",
      "/tmp/geo/slope\n",
      "/tmp/geo/slope/PNOA_2017_CLM-CAS_242-4422_ORT-CLA-RGB.tiff\n",
      "/tmp/geo/dsm\n",
      "/tmp/geo/dsm/PNOA_2017_CLM-CAS_242-4422_ORT-CLA-RGB.gtiff\n",
      "---\n",
      "/tmp/geo/\n",
      "/tmp/geo/chm\n",
      "/tmp/geo/chm/PNOA_2017_CLM-CAS_274-4464_ORT-CLA-RGB.tiff\n",
      "/tmp/geo/dsm\n",
      "/tmp/geo/dsm/PNOA_2017_CLM-CAS_274-4464_ORT-CLA-RGB.gtiff\n",
      "/tmp/geo/PNOA_2017_CLM-CAS_274-4464_ORT-CLA-RGB.laz\n",
      "/tmp/geo/aspect\n",
      "/tmp/geo/aspect/PNOA_2017_CLM-CAS_274-4464_ORT-CLA-RGB.tiff\n",
      "/tmp/geo/slope\n",
      "/tmp/geo/slope/PNOA_2017_CLM-CAS_274-4464_ORT-CLA-RGB.tiff\n",
      "/tmp/geo/dem\n",
      "/tmp/geo/dem/PNOA_2017_CLM-CAS_274-4464_ORT-CLA-RGB.gtiff\n",
      "/tmp/geo/fcc\n",
      "/tmp/geo/fcc/PNOA_2017_CLM-CAS_274-4464_ORT-CLA-RGB.tiff\n",
      "---\n",
      "/tmp/geo/\n",
      "/tmp/geo/chm\n",
      "/tmp/geo/chm/PNOA_2017_CLM-CAS_278-4470_ORT-CLA-RGB.tiff\n",
      "/tmp/geo/dsm\n",
      "/tmp/geo/dsm/PNOA_2017_CLM-CAS_278-4470_ORT-CLA-RGB.gtiff\n",
      "/tmp/geo/aspect\n",
      "/tmp/geo/aspect/PNOA_2017_CLM-CAS_278-4470_ORT-CLA-RGB.tiff\n",
      "/tmp/geo/slope\n",
      "/tmp/geo/slope/PNOA_2017_CLM-CAS_278-4470_ORT-CLA-RGB.tiff\n",
      "/tmp/geo/dem\n",
      "/tmp/geo/dem/PNOA_2017_CLM-CAS_278-4470_ORT-CLA-RGB.gtiff\n",
      "/tmp/geo/fcc\n",
      "/tmp/geo/fcc/PNOA_2017_CLM-CAS_278-4470_ORT-CLA-RGB.tiff\n",
      "/tmp/geo/PNOA_2017_CLM-CAS_278-4470_ORT-CLA-RGB.laz\n",
      "---\n",
      "/tmp/geo/\n",
      "/tmp/geo/dem\n",
      "/tmp/geo/dem/PNOA_2017_CLM-CAS_650-4434_ORT-CLA-RGB.gtiff\n",
      "/tmp/geo/PNOA_2017_CLM-CAS_650-4434_ORT-CLA-RGB.laz\n",
      "/tmp/geo/chm\n",
      "/tmp/geo/fcc\n",
      "/tmp/geo/fcc/PNOA_2017_CLM-CAS_650-4434_ORT-CLA-RGB.tiff\n",
      "/tmp/geo/aspect\n",
      "/tmp/geo/aspect/PNOA_2017_CLM-CAS_650-4434_ORT-CLA-RGB.tiff\n",
      "/tmp/geo/slope\n",
      "/tmp/geo/slope/PNOA_2017_CLM-CAS_650-4434_ORT-CLA-RGB.tiff\n",
      "/tmp/geo/dsm\n",
      "/tmp/geo/dsm/PNOA_2017_CLM-CAS_650-4434_ORT-CLA-RGB.gtiff\n",
      "---\n",
      "/tmp/geo/\n",
      "/tmp/geo/fcc\n",
      "/tmp/geo/fcc/PNOA_2017_CLM-CAS_742-4404_ORT-CLA-RGB.tiff\n",
      "/tmp/geo/aspect\n",
      "/tmp/geo/aspect/PNOA_2017_CLM-CAS_742-4404_ORT-CLA-RGB.tiff\n",
      "/tmp/geo/PNOA_2017_CLM-CAS_742-4404_ORT-CLA-RGB.laz\n",
      "/tmp/geo/chm\n",
      "/tmp/geo/chm/PNOA_2017_CLM-CAS_742-4404_ORT-CLA-RGB.tiff\n",
      "/tmp/geo/dem\n",
      "/tmp/geo/dem/PNOA_2017_CLM-CAS_742-4404_ORT-CLA-RGB.gtiff\n",
      "/tmp/geo/slope\n",
      "/tmp/geo/slope/PNOA_2017_CLM-CAS_742-4404_ORT-CLA-RGB.tiff\n",
      "/tmp/geo/dsm\n",
      "/tmp/geo/dsm/PNOA_2017_CLM-CAS_742-4404_ORT-CLA-RGB.gtiff\n",
      "---\n",
      "/tmp/geo/\n",
      "/tmp/geo/dem\n",
      "/tmp/geo/dem/PNOA_2017_CLM-CAS_748-4414_ORT-CLA-RGB.gtiff\n",
      "/tmp/geo/chm\n",
      "/tmp/geo/chm/PNOA_2017_CLM-CAS_748-4414_ORT-CLA-RGB.tiff\n",
      "/tmp/geo/PNOA_2017_CLM-CAS_748-4414_ORT-CLA-RGB.laz\n",
      "/tmp/geo/fcc\n",
      "/tmp/geo/fcc/PNOA_2017_CLM-CAS_748-4414_ORT-CLA-RGB.tiff\n",
      "/tmp/geo/aspect\n",
      "/tmp/geo/aspect/PNOA_2017_CLM-CAS_748-4414_ORT-CLA-RGB.tiff\n",
      "/tmp/geo/slope\n",
      "/tmp/geo/slope/PNOA_2017_CLM-CAS_748-4414_ORT-CLA-RGB.tiff\n",
      "/tmp/geo/dsm\n",
      "/tmp/geo/dsm/PNOA_2017_CLM-CAS_748-4414_ORT-CLA-RGB.gtiff\n",
      "---\n"
     ]
    }
   ],
   "source": [
    "for r in res:\n",
    "    print(r.decode('utf-8').strip())\n",
    "    print('---')"
   ]
  },
  {
   "cell_type": "markdown",
   "metadata": {
    "collapsed": false,
    "pycharm": {
     "name": "#%% md\n"
    }
   },
   "source": [
    "---\n",
    "Scalability\n",
    "---"
   ]
  },
  {
   "cell_type": "markdown",
   "metadata": {
    "collapsed": false,
    "pycharm": {
     "name": "#%% md\n"
    }
   },
   "source": [
    "#### Time"
   ]
  },
  {
   "cell_type": "code",
   "execution_count": 97,
   "metadata": {
    "collapsed": false,
    "pycharm": {
     "name": "#%%\n"
    }
   },
   "outputs": [
    {
     "name": "stderr",
     "output_type": "stream",
     "text": [
      "2022-06-01 19:45:01,300 [INFO] lithops.executors -- ExecutorID cdd183-5 - Creating execution plots\n"
     ]
    }
   ],
   "source": [
    "fexec.plot(dst=\"plots/scalability\")"
   ]
  },
  {
   "cell_type": "code",
   "execution_count": 98,
   "metadata": {
    "collapsed": false,
    "pycharm": {
     "name": "#%%\n"
    }
   },
   "outputs": [
    {
     "data": {
      "image/png": "[encoded data removed]",
      "text/plain": "<IPython.core.display.Image object>"
     },
     "execution_count": 98,
     "metadata": {},
     "output_type": "execute_result"
    }
   ],
   "source": [
    "Image(filename=\"plots/scalability_histogram.png\")"
   ]
  },
  {
   "cell_type": "code",
   "execution_count": 99,
   "metadata": {
    "collapsed": false,
    "pycharm": {
     "name": "#%%\n"
    }
   },
   "outputs": [
    {
     "data": {
      "image/png": "[encoded data removed]",
      "text/plain": "<IPython.core.display.Image object>"
     },
     "execution_count": 99,
     "metadata": {},
     "output_type": "execute_result"
    }
   ],
   "source": [
    "Image(filename=\"plots/scalability_timeline.png\")"
   ]
  },
  {
   "cell_type": "markdown",
   "metadata": {
    "collapsed": false,
    "pycharm": {
     "name": "#%% md\n"
    }
   },
   "source": [
    "#### Throughput (SIN TESTEAR)"
   ]
  },
  {
   "cell_type": "code",
   "execution_count": null,
   "outputs": [],
   "source": [
    "fexec = lithops.FunctionExecutor()\n",
    "storage = lithops.storage.Storage()"
   ],
   "metadata": {
    "collapsed": false,
    "pycharm": {
     "name": "#%%\n"
    }
   }
  },
  {
   "cell_type": "markdown",
   "metadata": {
    "collapsed": false,
    "pycharm": {
     "name": "#%% md\n"
    }
   },
   "source": [
    "##### Read"
   ]
  },
  {
   "cell_type": "code",
   "execution_count": 100,
   "outputs": [],
   "source": [
    "def storage_performance_read(key_name, storage):\n",
    "       # Read object\n",
    "    get_t0 = time.time()\n",
    "    obj = storage.get_object(DATA_BUCKET, key_name)\n",
    "    get_t1 = time.time()\n",
    "    get_sz = len(obj)\n",
    "    read_bandwidth_mb = get_sz / (get_t1 - get_t0) / 1e6\n",
    "\n",
    "    stats = {\n",
    "        'get': {'t0': get_t0, 't1': get_t1, 'bandwidth': read_bandwidth_mb, 'size': get_sz},\n",
    "    }\n",
    "\n",
    "    return stats"
   ],
   "metadata": {
    "collapsed": false,
    "pycharm": {
     "name": "#%%\n"
    }
   }
  },
  {
   "cell_type": "code",
   "execution_count": null,
   "metadata": {
    "collapsed": false,
    "pycharm": {
     "name": "#%%\n",
     "is_executing": true
    }
   },
   "outputs": [],
   "source": [
    "data_file_read = [str(obj['Key']) for obj in storage.list_objects(DATA_BUCKET) if str(obj['Key']).endswith('.laz')]\n",
    "\n",
    "fexec = lithops.FunctionExecutor()\n",
    "fs = fexec.map(storage_performance_read, data_file_read)\n",
    "results = fexec.get_result(fs=fs)\n",
    "read_results = [stat['get'] for stat in results]"
   ]
  },
  {
   "cell_type": "markdown",
   "metadata": {
    "collapsed": false,
    "pycharm": {
     "name": "#%% md\n"
    }
   },
   "source": [
    "##### Write"
   ]
  },
  {
   "cell_type": "code",
   "execution_count": null,
   "outputs": [],
   "source": [
    "def storage_performance_write(key_name, storage): # Coje el fichero y lo sobre\n",
    "    # Write object\n",
    "    ''' obj = storage.get_object(DATA_BUCKET, key_name)\n",
    "    put_sz = len(obj)  # Modified, get the size in bytes of the data to upload''' # Creo que esto si que funcionará y lo siguiente no !!!!!!!!!!!!!!!!!!!!!\n",
    "    put_sz = len(os.path.getsize(key_name))  # Modified, get the size in bytes of the data to upload\n",
    "    put_t0 = time.time()\n",
    "    storage.put_object(DATA_BUCKET, key_name, data)\n",
    "    put_t1 = time.time()\n",
    "    write_bandwidth_mb = put_sz / (put_t1 - put_t0) / 1e6\n",
    "\n",
    "    stats = {\n",
    "        'put': {'t0': put_t0, 't1': put_t1, 'bandwidth': write_bandwidth_mb, 'size': put_sz},\n",
    "    }\n",
    "\n",
    "    return stats"
   ],
   "metadata": {
    "collapsed": false,
    "pycharm": {
     "name": "#%%\n"
    }
   }
  },
  {
   "cell_type": "code",
   "execution_count": null,
   "outputs": [],
   "source": [
    "data_file_write = [str(obj['Key']) for obj in storage.list_objects(DATA_BUCKET) if str(obj['Key']).endswith('.tiff')]\n",
    "\n",
    "fexec = lithops.FunctionExecutor()\n",
    "fs = fexec.map(storage_performance_write, data_file_write)\n",
    "results = fexec.get_result(fs=fs)\n",
    "write_results = [stat['put'] for stat in results]"
   ],
   "metadata": {
    "collapsed": false,
    "pycharm": {
     "name": "#%%\n"
    }
   }
  },
  {
   "cell_type": "markdown",
   "source": [
    "#### Resume"
   ],
   "metadata": {
    "collapsed": false,
    "pycharm": {
     "name": "#%% md\n"
    }
   }
  },
  {
   "cell_type": "code",
   "execution_count": null,
   "outputs": [],
   "source": [
    "def create_agg_bdwth_plot(res_write, res_read, dst):\n",
    "    def compute_times_rates(start_time, d):\n",
    "        x = np.array(d)\n",
    "        tzero = start_time\n",
    "        tr_start_time = x[:, 0] - tzero\n",
    "        tr_end_time = x[:, 1] - tzero\n",
    "        rate = x[:, 2]\n",
    "\n",
    "        N = len(tr_start_time)\n",
    "        runtime_rate_hist = np.zeros((N, len(runtime_bins)))\n",
    "\n",
    "        for i in range(N):\n",
    "            s = tr_start_time[i]\n",
    "            e = tr_end_time[i]\n",
    "            a, b = np.searchsorted(runtime_bins, [s, e])\n",
    "            if b-a > 0:\n",
    "                runtime_rate_hist[i, a:b] = rate[i]\n",
    "\n",
    "        return {'start_time': tr_start_time,\n",
    "                'end_time': tr_end_time,\n",
    "                'rate': rate,\n",
    "                'runtime_rate_hist': runtime_rate_hist}\n",
    "\n",
    "    start_time = min((min(t['t0'] for t in res_write), (min(t['t0'] for t in res_read)))) - 1\n",
    "\n",
    "    fig = pylab.figure(figsize=(8, 6))\n",
    "    ax = fig.add_subplot(1, 1, 1)\n",
    "    for datum, l in [(res_write, 'Aggregate Write Bandwidth'), (res_read, 'Aggregate Read Bandwidth')]:\n",
    "        mb_rates = [(res['t0'], res['t1'], res['bandwidth']) for res in datum]\n",
    "        max_seconds = int(max([mr[1]-start_time for mr in mb_rates])*1.2)\n",
    "        max_seconds = 8 * round(max_seconds/8)\n",
    "        runtime_bins = np.linspace(0, max_seconds, max_seconds)\n",
    "\n",
    "        mb_rates_hist = compute_times_rates(start_time, mb_rates)\n",
    "\n",
    "        ax.plot(mb_rates_hist['runtime_rate_hist'].sum(axis=0)/1000, label=l)\n",
    "\n",
    "    ax.set_xlabel('Execution Time (sec)')\n",
    "    ax.set_ylabel(\"GB/sec\")\n",
    "    ax.set_xlim(0, )\n",
    "    ax.set_ylim(0, )\n",
    "    pylab.legend()\n",
    "    pylab.grid(True, axis='y')\n",
    "\n",
    "    dst = os.path.expanduser(dst) if '~' in dst else dst\n",
    "\n",
    "    fig.tight_layout()\n",
    "    fig.savefig(dst, format='pdf')"
   ],
   "metadata": {
    "collapsed": false,
    "pycharm": {
     "name": "#%%\n"
    }
   }
  },
  {
   "cell_type": "code",
   "execution_count": null,
   "outputs": [],
   "source": [
    "create_agg_bdwth_plot(read_results, write_results, './plots/throughput_storage_kpi')"
   ],
   "metadata": {
    "collapsed": false,
    "pycharm": {
     "name": "#%%\n"
    }
   }
  },
  {
   "cell_type": "code",
   "execution_count": 109,
   "outputs": [],
   "source": [
    "print(f\"Read throughput: {read_results['bandwidth']} MB/s\")\n",
    "print(f\"Write throughput: {write_results['bandwidth']} MB/s\")"
   ],
   "metadata": {
    "collapsed": false,
    "pycharm": {
     "name": "#%%\n"
    }
   }
  },
  {
   "cell_type": "markdown",
   "metadata": {
    "collapsed": false,
    "pycharm": {
     "name": "#%% md\n"
    }
   },
   "source": [
    "#### Cost"
   ]
  },
  {
   "cell_type": "code",
   "execution_count": null,
   "metadata": {
    "collapsed": false,
    "pycharm": {
     "name": "#%%\n"
    }
   },
   "outputs": [],
   "source": [
    "def get_process_cost(fexec):\n",
    "    import pandas as pd\n",
    "    df = pd.read_csv(fexec.log_path)\n",
    "    cost = float(df[df[\"Job_ID\"] == \"Summary\"][\"Cost\"])\n",
    "    return cost"
   ]
  },
  {
   "cell_type": "code",
   "execution_count": null,
   "metadata": {
    "collapsed": false,
    "pycharm": {
     "name": "#%%\n"
    }
   },
   "outputs": [],
   "source": [
    "fexec.job_summary()"
   ]
  },
  {
   "cell_type": "code",
   "execution_count": null,
   "metadata": {
    "collapsed": false,
    "pycharm": {
     "name": "#%%\n"
    }
   },
   "outputs": [],
   "source": [
    "pd.read_csv(fexec.log_path)"
   ]
  },
  {
   "cell_type": "code",
   "execution_count": null,
   "metadata": {
    "collapsed": false,
    "pycharm": {
     "name": "#%%\n"
    }
   },
   "outputs": [],
   "source": [
    "cost_interpolation = get_process_cost(fexec)\n",
    "print(f\"The experiment cost ${cost_interpolation:.4f}.\")"
   ]
  }
 ],
 "metadata": {
  "interpreter": {
   "hash": "fc28e218f8aa598d7201f1426aba0b64c29ddf364b0850b5108205e3c665e009"
  },
  "kernelspec": {
   "display_name": "Python 3.9.5 ('venv': venv)",
   "language": "python",
   "name": "python3"
  },
  "language_info": {
   "codemirror_mode": {
    "name": "ipython",
    "version": 3
   },
   "file_extension": ".py",
   "mimetype": "text/x-python",
   "name": "python",
   "nbconvert_exporter": "python",
   "pygments_lexer": "ipython3",
   "version": "3.9.5"
  },
  "orig_nbformat": 4
 },
 "nbformat": 4,
 "nbformat_minor": 2
}